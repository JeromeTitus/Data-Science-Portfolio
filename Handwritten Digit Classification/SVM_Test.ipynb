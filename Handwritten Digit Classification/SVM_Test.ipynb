{
 "cells": [
  {
   "cell_type": "markdown",
   "metadata": {
    "id": "w0ZJ_oc9q4a5"
   },
   "source": [
    "# Neural Computing Coursework - Support Vector Machines (Testing)"
   ]
  },
  {
   "cell_type": "markdown",
   "metadata": {
    "id": "9kkrKv9rq_oW"
   },
   "source": [
    "This notebook will load the saved model from the training phase of the support vector machine and test on imported test data."
   ]
  },
  {
   "cell_type": "code",
   "execution_count": null,
   "metadata": {
    "colab": {
     "base_uri": "https://localhost:8080/"
    },
    "id": "IOrtV9mmqyIy",
    "outputId": "a06b2677-609b-40ad-d4c6-284c0a8d0a3a"
   },
   "outputs": [
    {
     "name": "stdout",
     "output_type": "stream",
     "text": [
      "Mounted at /content/drive\n"
     ]
    }
   ],
   "source": [
    "# PLEASE DO NOT RUN DURING TESTING\n",
    "# Load the Drive helper and mount\n",
    "from google.colab import drive\n",
    "\n",
    "# This will prompt for authorization.\n",
    "drive.mount('/content/drive')"
   ]
  },
  {
   "cell_type": "code",
   "execution_count": null,
   "metadata": {
    "id": "5b0xT3burRFg"
   },
   "outputs": [],
   "source": [
    "# Import libraries\n",
    "import numpy as np\n",
    "import pandas as pd\n",
    "import matplotlib.pyplot as plt\n",
    "import seaborn as sns\n",
    "from sklearn.model_selection import train_test_split\n",
    "from sklearn.metrics import accuracy_score, confusion_matrix, plot_confusion_matrix, plot_roc_curve\n",
    "from sklearn.model_selection import GridSearchCV, learning_curve\n",
    "from sklearn.svm import SVC\n",
    "import pickle\n",
    "import os"
   ]
  },
  {
   "cell_type": "code",
   "execution_count": null,
   "metadata": {
    "id": "pNbHBEs-rTWQ"
   },
   "outputs": [],
   "source": [
    "# PLEASE DO NOT RUN DURING TESTING\n",
    "# Change directory to current directory\n",
    "os.chdir(\"drive/My Drive/Neural Computing\")"
   ]
  },
  {
   "cell_type": "code",
   "execution_count": null,
   "metadata": {
    "id": "MZk3-lVCrTZl"
   },
   "outputs": [],
   "source": [
    "# Loading test dataset and preparing it\n",
    "mnist_test = pd.read_csv(\"Data/mnist_test.csv\")\n",
    "y_test = mnist_test[\"label\"]\n",
    "X_test = mnist_test.drop(\"label\", axis = 1)\n",
    "X_test = X_test.astype(\"float32\")\n",
    "y_test = y_test.astype(\"int64\")\n",
    "X_test /= 255.0\n",
    "X_test = X_test.to_numpy()\n",
    "X_test = np.float32(X_test)\n",
    "y_test = np.int64(y_test)"
   ]
  },
  {
   "cell_type": "code",
   "execution_count": null,
   "metadata": {
    "id": "h10dKSHDrTcy"
   },
   "outputs": [],
   "source": [
    "# Load model using pickle\n",
    "with open(\"SVM_trained.pkl\", \"rb\") as f:\n",
    "  model = pickle.load(f)"
   ]
  },
  {
   "cell_type": "code",
   "execution_count": null,
   "metadata": {
    "id": "qk9Ydtf8rTgA"
   },
   "outputs": [],
   "source": [
    "y_pred = model.predict(X_test)"
   ]
  },
  {
   "cell_type": "code",
   "execution_count": null,
   "metadata": {
    "colab": {
     "base_uri": "https://localhost:8080/"
    },
    "id": "JmhntkaArTjH",
    "outputId": "844863e8-a28d-40c7-8c92-53bab7043562"
   },
   "outputs": [
    {
     "data": {
      "text/plain": [
       "0.9833"
      ]
     },
     "execution_count": 7,
     "metadata": {},
     "output_type": "execute_result"
    }
   ],
   "source": [
    "accuracy_score(y_test, y_pred)"
   ]
  },
  {
   "cell_type": "code",
   "execution_count": null,
   "metadata": {
    "id": "y3xffvWLrTmj"
   },
   "outputs": [],
   "source": [
    "# Calculating confusion matrix \n",
    "cf = confusion_matrix(y_test, y_pred)"
   ]
  },
  {
   "cell_type": "code",
   "execution_count": null,
   "metadata": {
    "colab": {
     "base_uri": "https://localhost:8080/"
    },
    "id": "CQvxnN3Qr-Nu",
    "outputId": "cfe077e2-6f5b-4a9b-bb26-32d005fde5a2"
   },
   "outputs": [
    {
     "name": "stdout",
     "output_type": "stream",
     "text": [
      "The digit 0 was misclassified 7 times\n",
      "The digit 1 was misclassified 5 times\n",
      "The digit 2 was misclassified 18 times\n",
      "The digit 3 was misclassified 16 times\n",
      "The digit 4 was misclassified 17 times\n",
      "The digit 5 was misclassified 20 times\n",
      "The digit 6 was misclassified 13 times\n",
      "The digit 7 was misclassified 23 times\n",
      "The digit 8 was misclassified 21 times\n",
      "The digit 9 was misclassified 27 times\n",
      "Total number of misclassified digits: 167\n"
     ]
    }
   ],
   "source": [
    "# Calculating how many times a digit was misclassified\n",
    "num_misclassified_list = list()\n",
    "for i in range(cf.shape[0]):\n",
    "  num_classified = 0\n",
    "  for j in range(cf.shape[1]):\n",
    "    if i != j:\n",
    "      num_classified += cf[i,j]\n",
    "  num_misclassified_list.append(num_classified)\n",
    "\n",
    "for i in range(len(num_misclassified_list)):\n",
    "  print(\"The digit {} was misclassified {} times\".format(i, num_misclassified_list[i]))\n",
    "\n",
    "print(\"Total number of misclassified digits: {}\".format(sum(num_misclassified_list)))"
   ]
  },
  {
   "cell_type": "code",
   "execution_count": null,
   "metadata": {
    "colab": {
     "base_uri": "https://localhost:8080/",
     "height": 353
    },
    "id": "vac7Bqt3sCZZ",
    "outputId": "fde2557c-68ae-4a4f-c822-ef783ed094fc"
   },
   "outputs": [
    {
     "name": "stderr",
     "output_type": "stream",
     "text": [
      "/usr/local/lib/python3.7/dist-packages/sklearn/utils/deprecation.py:87: FutureWarning: Function plot_confusion_matrix is deprecated; Function `plot_confusion_matrix` is deprecated in 1.0 and will be removed in 1.2. Use one of the class methods: ConfusionMatrixDisplay.from_predictions or ConfusionMatrixDisplay.from_estimator.\n",
      "  warnings.warn(msg, category=FutureWarning)\n"
     ]
    },
    {
     "data": {
      "text/plain": [
       "<sklearn.metrics._plot.confusion_matrix.ConfusionMatrixDisplay at 0x7f66b115db50>"
      ]
     },
     "execution_count": 11,
     "metadata": {},
     "output_type": "execute_result"
    },
    {
     "data": {
      "image/png": "[encoded data removed]",
      "text/plain": [
       "<Figure size 432x288 with 2 Axes>"
      ]
     },
     "metadata": {
      "needs_background": "light"
     },
     "output_type": "display_data"
    }
   ],
   "source": [
    "# Plot confusion matrix\n",
    "plot_confusion_matrix(model, X_test, y_test)"
   ]
  },
  {
   "cell_type": "code",
   "execution_count": null,
   "metadata": {
    "id": "wjXqpGdjsCuj"
   },
   "outputs": [],
   "source": []
  }
 ],
 "metadata": {
  "colab": {
   "collapsed_sections": [],
   "name": "NC_CW_SVM_Test.ipynb",
   "provenance": []
  },
  "kernelspec": {
   "display_name": "Python 3",
   "language": "python",
   "name": "python3"
  },
  "language_info": {
   "codemirror_mode": {
    "name": "ipython",
    "version": 3
   },
   "file_extension": ".py",
   "mimetype": "text/x-python",
   "name": "python",
   "nbconvert_exporter": "python",
   "pygments_lexer": "ipython3",
   "version": "3.8.8"
  }
 },
 "nbformat": 4,
 "nbformat_minor": 1
}
