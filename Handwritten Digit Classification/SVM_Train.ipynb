{
 "cells": [
  {
   "cell_type": "markdown",
   "metadata": {
    "id": "VJ9Rsd5Eev3x"
   },
   "source": [
    "# Neural Computing Coursework - Support Vector Machines"
   ]
  },
  {
   "cell_type": "markdown",
   "metadata": {
    "id": "tqjYNMpQfepo"
   },
   "source": [
    "Support vector machines (SVMs) were introduced as a statistical learning technique in classification problems. Its central tenet lies in the separation of classes by a decision boundary - the goal being for this boundary to separate classes by as wide a margin as possible.\n",
    "\n",
    "Motivation for SVMs stemmed from maximal margin classifiers - whose aim are similar to that described above. These classifiers were very sensitive to outliers, leading to the introduction of support vector classifiers and the idea of a \"soft margin\". Problems arose with support vector classifiers for data containing lots of overlap. SVMs solved this problem by introducing the idea of a kernel - which transforms the data to higher dimensional space in order to find an optimal decision boundary. \n",
    "\n",
    "The structure of this notebook will be as follows:\n",
    "\n",
    "1.   Problem Definition + Motivation\n",
    "2.   Import Dataset + Data Preparation\n",
    "3.   Construction of base model + Evaluation\n",
    "4.   Adaptation of hyperparameters + Evaluation\n",
    "5.   Hyperparameter tuning using Grid Search + Evaluation\n",
    "6.   Optimal model construction using grid search results + Evaluation"
   ]
  },
  {
   "cell_type": "markdown",
   "metadata": {
    "id": "5a4I2Qm853oe"
   },
   "source": [
    "**1. Problem Definition and Motivation**\n",
    "\n",
    "The problem is to classify handwritten digits with values ranging from 0-9. Handwritten digit recognition is a classic problem investigated in neural network experiments. It serves as a good benchmark for implementing other shape recognition algorithms. "
   ]
  },
  {
   "cell_type": "markdown",
   "metadata": {
    "id": "wn14a7ej6fdA"
   },
   "source": [
    "**2. Import Dataset + Data Preparation**\n",
    "\n",
    "The dataset used for this task was obtained from Kaggle - where it was collected from the MNIST handwritten digit database and converted to a csv format. The handwritten digits come from approximately 250 writers. The training and test sets consist of 60000 and 10000 images, respectively, with the writers in each dataset being disjoint.\n",
    "\n",
    "Each row in the training and test sets correspond to a single image. The first column contains the labels for each image (0-9). The remaining columns of the dataset represent the pixel values for each of the 784 pixels within the 28x28 images. These values range from 0-255, where 0 and 255 correspond to black and white pixels, respectively.\n",
    "\n",
    "**Note:** For basic EDA, please refer to the notebook titled \"NC_CW_MLP_Train\". For data prepartion, the majority of the code has been condensed, please refer to the aforementioned notebook for a more clearly structured template."
   ]
  },
  {
   "cell_type": "markdown",
   "metadata": {
    "id": "SYxlsXXiAMEX"
   },
   "source": [
    "**2. i) Loading Drive and Importing Libaries**\n",
    "\n",
    "Note: The libraries imported here are not just for dataset loading, but also for model training and evaluation required in the later sections."
   ]
  },
  {
   "cell_type": "code",
   "execution_count": null,
   "metadata": {
    "colab": {
     "base_uri": "https://localhost:8080/"
    },
    "id": "j3LCzwyRAYEG",
    "outputId": "b0edfbc0-37e2-4ce9-e3bd-45918b89d7d4"
   },
   "outputs": [
    {
     "name": "stdout",
     "output_type": "stream",
     "text": [
      "Drive already mounted at /content/drive; to attempt to forcibly remount, call drive.mount(\"/content/drive\", force_remount=True).\n"
     ]
    }
   ],
   "source": [
    "# Load the Drive helper and mount\n",
    "from google.colab import drive\n",
    "\n",
    "# This will prompt for authorization.\n",
    "drive.mount('/content/drive')"
   ]
  },
  {
   "cell_type": "code",
   "execution_count": null,
   "metadata": {
    "id": "VhpzN0T5efYo"
   },
   "outputs": [],
   "source": [
    "import numpy as np\n",
    "import pandas as pd\n",
    "import matplotlib.pyplot as plt\n",
    "import seaborn as sns\n",
    "from sklearn.model_selection import train_test_split\n",
    "from sklearn.metrics import accuracy_score, confusion_matrix, plot_confusion_matrix, plot_roc_curve\n",
    "from sklearn.model_selection import GridSearchCV, learning_curve\n",
    "from sklearn.svm import SVC\n",
    "import pickle\n",
    "import os"
   ]
  },
  {
   "cell_type": "code",
   "execution_count": null,
   "metadata": {
    "id": "LOe2r2ieA9GF"
   },
   "outputs": [],
   "source": [
    "# Change directory to current directory\n",
    "os.chdir(\"drive/My Drive/Neural Computing\")"
   ]
  },
  {
   "cell_type": "markdown",
   "metadata": {
    "id": "H_V8WXKUBBgA"
   },
   "source": [
    "**2. ii) Loading data**"
   ]
  },
  {
   "cell_type": "code",
   "execution_count": null,
   "metadata": {
    "id": "d7N0INSIA9Wh"
   },
   "outputs": [],
   "source": [
    "mnist_train = pd.read_csv(\"Data/mnist_train.csv\")\n",
    "mnist_test = pd.read_csv(\"Data/mnist_test.csv\")"
   ]
  },
  {
   "cell_type": "markdown",
   "metadata": {
    "id": "y6EK4nibBO7v"
   },
   "source": [
    "**2. iii) Data Preparation**\n",
    "\n",
    "Before splitting the data into independent and dependent variables, it is important to create a validation set. Given the large size of the dataset, implementing cross-validation will be time consuming. This especially holds when implementing SVM, given that the kernel operates on all pairs of training examples.  Running this process on a validation set of a smaller size will overcome this constraint. To create the cross-validation set, 10% of the training set will be randomly sampled. It is important after sampling to check that the distribution of the target class is maintained.\n",
    "\n",
    "Further data preparation will include the transformation of variable types to ensure compatability with the models built in the later sections.\n",
    "\n"
   ]
  },
  {
   "cell_type": "code",
   "execution_count": null,
   "metadata": {
    "id": "-zXFSi9zA9aP"
   },
   "outputs": [],
   "source": [
    "mnist_val = mnist_train.sample(frac=0.1)"
   ]
  },
  {
   "cell_type": "code",
   "execution_count": null,
   "metadata": {
    "id": "E7EiMilHA9dS"
   },
   "outputs": [],
   "source": [
    "# Splitting independent and dependent variabels for training, validation and test sets\n",
    "y_train = mnist_train[\"label\"]\n",
    "y_test = mnist_test[\"label\"]\n",
    "y_val = mnist_val[\"label\"]\n",
    "X_train = mnist_train.drop(\"label\", axis = 1)\n",
    "X_test = mnist_test.drop(\"label\", axis = 1)\n",
    "X_val = mnist_val.drop(\"label\", axis = 1)"
   ]
  },
  {
   "cell_type": "code",
   "execution_count": null,
   "metadata": {
    "id": "-4eZiQVqA9gZ"
   },
   "outputs": [],
   "source": [
    "# Changing datatypes of data for compatability with model building\n",
    "y_train = y_train.astype(\"int64\")\n",
    "y_test = y_test.astype(\"int64\")\n",
    "y_val = y_val.astype(\"int64\")\n",
    "X_train = X_train.astype(\"float32\")\n",
    "X_test = X_test.astype(\"float32\")\n",
    "X_val = X_val.astype(\"float32\")"
   ]
  },
  {
   "cell_type": "code",
   "execution_count": null,
   "metadata": {
    "id": "cMsuqN0aA9jq"
   },
   "outputs": [],
   "source": [
    "# Scaling pixel values to improve convergence properties during training\n",
    "X_train /= 255.0\n",
    "X_test /= 255.0\n",
    "X_val /= 255.0"
   ]
  },
  {
   "cell_type": "code",
   "execution_count": null,
   "metadata": {
    "id": "b-C85adZA9mx"
   },
   "outputs": [],
   "source": [
    "X_train = X_train.to_numpy()\n",
    "X_test = X_test.to_numpy()\n",
    "X_val = X_val.to_numpy()\n",
    "X_train = np.float32(X_train)\n",
    "X_test = np.float32(X_test)\n",
    "X_val = np.float32(X_val)\n",
    "y_train = np.int64(y_train)\n",
    "y_test = np.int64(y_test)\n",
    "y_val = np.int64(y_val)"
   ]
  },
  {
   "cell_type": "code",
   "execution_count": null,
   "metadata": {
    "colab": {
     "base_uri": "https://localhost:8080/"
    },
    "id": "feKRzHrkA9p5",
    "outputId": "cde1d988-f8dc-46bf-f10a-76226b4d0239"
   },
   "outputs": [
    {
     "data": {
      "text/plain": [
       "((60000, 784), (60000,))"
      ]
     },
     "execution_count": 10,
     "metadata": {},
     "output_type": "execute_result"
    }
   ],
   "source": [
    "X_train.shape, y_train.shape"
   ]
  },
  {
   "cell_type": "code",
   "execution_count": null,
   "metadata": {
    "colab": {
     "base_uri": "https://localhost:8080/"
    },
    "id": "vPKj2F6fA9s7",
    "outputId": "e5f54c50-b9ef-4a16-a506-3200898e0edf"
   },
   "outputs": [
    {
     "data": {
      "text/plain": [
       "((6000, 784), (6000,))"
      ]
     },
     "execution_count": 11,
     "metadata": {},
     "output_type": "execute_result"
    }
   ],
   "source": [
    "X_val.shape, y_val.shape"
   ]
  },
  {
   "cell_type": "code",
   "execution_count": null,
   "metadata": {
    "colab": {
     "base_uri": "https://localhost:8080/"
    },
    "id": "FlTJQcECCvtY",
    "outputId": "a7d8e60e-09d4-4c6e-fd5a-973b86a5afbd"
   },
   "outputs": [
    {
     "data": {
      "text/plain": [
       "((10000, 784), (10000,))"
      ]
     },
     "execution_count": 12,
     "metadata": {},
     "output_type": "execute_result"
    }
   ],
   "source": [
    "X_test.shape, y_test.shape"
   ]
  },
  {
   "cell_type": "code",
   "execution_count": null,
   "metadata": {
    "id": "e6rsnLQyCv64"
   },
   "outputs": [],
   "source": [
    "# To plot images, we utilise the \"plot_example\" function obtained from lab 5 of the Neural Computing module at City, University of London\n",
    "def plot_example(X,y):\n",
    "  for i, (img, y) in enumerate(zip(X[:5].reshape(5,28,28), y[:5])):\n",
    "    plt.subplot(151+i)\n",
    "    plt.imshow(img)\n",
    "    plt.xticks([])\n",
    "    plt.yticks([])\n",
    "    plt.title(y)"
   ]
  },
  {
   "cell_type": "code",
   "execution_count": null,
   "metadata": {
    "colab": {
     "base_uri": "https://localhost:8080/",
     "height": 108
    },
    "id": "Ni3XvEQ_Cv-n",
    "outputId": "9cb16d29-e76d-4f47-d023-5ece0376a8ed"
   },
   "outputs": [
    {
     "data": {
      "image/png": "[encoded data removed]",
      "text/plain": [
       "<Figure size 432x288 with 5 Axes>"
      ]
     },
     "metadata": {},
     "output_type": "display_data"
    }
   ],
   "source": [
    "plot_example(X_train, y_train)"
   ]
  },
  {
   "cell_type": "code",
   "execution_count": null,
   "metadata": {
    "colab": {
     "base_uri": "https://localhost:8080/",
     "height": 108
    },
    "id": "jLDz9lHXCwBo",
    "outputId": "bb9bba51-3d64-4663-d9c0-0b588b4a4c23"
   },
   "outputs": [
    {
     "data": {
      "image/png": "[encoded data removed]",
      "text/plain": [
       "<Figure size 432x288 with 5 Axes>"
      ]
     },
     "metadata": {},
     "output_type": "display_data"
    }
   ],
   "source": [
    "plot_example(X_test, y_test)"
   ]
  },
  {
   "cell_type": "markdown",
   "metadata": {
    "id": "dXe1tqOCJp8c"
   },
   "source": [
    "**3.   Construction of base model + Evaluation**\n",
    "\n",
    "To begin with, a base model will be constructed to serve as a benchmark for future iterations of model building.\n",
    "\n",
    "Building a base model utilising the sklearn library is quite simple - and will be implemented below. The kernel of choice for this model is the \"linear\" kernel. It is used when the data is linearly separable, and has the additional advantage of faster training in comparison to other kernels."
   ]
  },
  {
   "cell_type": "code",
   "execution_count": null,
   "metadata": {
    "id": "QoVCaO1ADasR"
   },
   "outputs": [],
   "source": [
    "clf = SVC(kernel=\"linear\", random_state=1)"
   ]
  },
  {
   "cell_type": "code",
   "execution_count": null,
   "metadata": {
    "colab": {
     "base_uri": "https://localhost:8080/"
    },
    "id": "Qpx_ond3DaxF",
    "outputId": "976b6867-948a-40a9-8e0c-0a82eeb64e53"
   },
   "outputs": [
    {
     "data": {
      "text/plain": [
       "SVC(kernel='linear', random_state=1)"
      ]
     },
     "execution_count": 17,
     "metadata": {},
     "output_type": "execute_result"
    }
   ],
   "source": [
    "clf.fit(X_train, y_train)"
   ]
  },
  {
   "cell_type": "code",
   "execution_count": null,
   "metadata": {
    "id": "8oZrmKjhDa1b"
   },
   "outputs": [],
   "source": [
    "y_pred = clf.predict(X_test)"
   ]
  },
  {
   "cell_type": "code",
   "execution_count": null,
   "metadata": {
    "colab": {
     "base_uri": "https://localhost:8080/"
    },
    "id": "CrmOt7RRDa5J",
    "outputId": "993868da-d066-479c-8362-855410d47922"
   },
   "outputs": [
    {
     "data": {
      "text/plain": [
       "0.9404"
      ]
     },
     "execution_count": 19,
     "metadata": {},
     "output_type": "execute_result"
    }
   ],
   "source": [
    "accuracy_score(y_test, y_pred)"
   ]
  },
  {
   "cell_type": "code",
   "execution_count": null,
   "metadata": {
    "id": "YjjLeNcyDa8l"
   },
   "outputs": [],
   "source": [
    "# Calculating confusion matrix \n",
    "cf = confusion_matrix(y_test, y_pred)"
   ]
  },
  {
   "cell_type": "code",
   "execution_count": null,
   "metadata": {
    "colab": {
     "base_uri": "https://localhost:8080/"
    },
    "id": "cR1Unan9DbAG",
    "outputId": "bda1894d-433b-4a1e-89c3-10ed73715010"
   },
   "outputs": [
    {
     "name": "stdout",
     "output_type": "stream",
     "text": [
      "The digit 0 was misclassified 23 times\n",
      "The digit 1 was misclassified 13 times\n",
      "The digit 2 was misclassified 65 times\n",
      "The digit 3 was misclassified 63 times\n",
      "The digit 4 was misclassified 40 times\n",
      "The digit 5 was misclassified 89 times\n",
      "The digit 6 was misclassified 48 times\n",
      "The digit 7 was misclassified 71 times\n",
      "The digit 8 was misclassified 97 times\n",
      "The digit 9 was misclassified 87 times\n",
      "Total number of misclassified digits: 596\n"
     ]
    }
   ],
   "source": [
    "# Calculating how many times a digit was misclassified\n",
    "num_misclassified_list = list()\n",
    "for i in range(cf.shape[0]):\n",
    "  num_classified = 0\n",
    "  for j in range(cf.shape[1]):\n",
    "    if i != j:\n",
    "      num_classified += cf[i,j]\n",
    "  num_misclassified_list.append(num_classified)\n",
    "\n",
    "for i in range(len(num_misclassified_list)):\n",
    "  print(\"The digit {} was misclassified {} times\".format(i, num_misclassified_list[i]))\n",
    "\n",
    "print(\"Total number of misclassified digits: {}\".format(sum(num_misclassified_list)))"
   ]
  },
  {
   "cell_type": "code",
   "execution_count": null,
   "metadata": {
    "colab": {
     "base_uri": "https://localhost:8080/",
     "height": 353
    },
    "id": "9vHV0h8vDbDI",
    "outputId": "f12ea182-4262-457c-fafc-8e10f07ad500"
   },
   "outputs": [
    {
     "name": "stderr",
     "output_type": "stream",
     "text": [
      "/usr/local/lib/python3.7/dist-packages/sklearn/utils/deprecation.py:87: FutureWarning: Function plot_confusion_matrix is deprecated; Function `plot_confusion_matrix` is deprecated in 1.0 and will be removed in 1.2. Use one of the class methods: ConfusionMatrixDisplay.from_predictions or ConfusionMatrixDisplay.from_estimator.\n",
      "  warnings.warn(msg, category=FutureWarning)\n"
     ]
    },
    {
     "data": {
      "text/plain": [
       "<sklearn.metrics._plot.confusion_matrix.ConfusionMatrixDisplay at 0x7f1f1bd1f090>"
      ]
     },
     "execution_count": 22,
     "metadata": {},
     "output_type": "execute_result"
    },
    {
     "data": {
      "image/png": "[encoded data removed]",
      "text/plain": [
       "<Figure size 432x288 with 2 Axes>"
      ]
     },
     "metadata": {
      "needs_background": "light"
     },
     "output_type": "display_data"
    }
   ],
   "source": [
    "# Plot confusion matrix\n",
    "plot_confusion_matrix(clf, X_test, y_test)"
   ]
  },
  {
   "cell_type": "code",
   "execution_count": null,
   "metadata": {
    "id": "6el0aqABDbJw"
   },
   "outputs": [],
   "source": [
    "# Observing misclassified images\n",
    "misclassified_imgs = y_pred != y_test"
   ]
  },
  {
   "cell_type": "code",
   "execution_count": null,
   "metadata": {
    "colab": {
     "base_uri": "https://localhost:8080/",
     "height": 108
    },
    "id": "nVUnfMfUDbNp",
    "outputId": "09f59068-d954-434b-c970-dd87537e55ad"
   },
   "outputs": [
    {
     "data": {
      "image/png": "[encoded data removed]",
      "text/plain": [
       "<Figure size 432x288 with 5 Axes>"
      ]
     },
     "metadata": {},
     "output_type": "display_data"
    }
   ],
   "source": [
    "plot_example(X_test[misclassified_imgs], y_pred[misclassified_imgs])"
   ]
  },
  {
   "cell_type": "markdown",
   "metadata": {
    "id": "OxNem15cUCAo"
   },
   "source": [
    "**4.   Adaptation of hyperparameters + Evaluation**"
   ]
  },
  {
   "cell_type": "markdown",
   "metadata": {
    "id": "GS0q_gkFULun"
   },
   "source": [
    "We will use results from the base run to inform decisions regarding the choice of hyperparameters for this next iteration. It is imperative at this point to understand the objective of SVMs - defining a decision boundary that separate classes. The concept of margins is centered around this degree of separation. Hyperparameter tuning revolves around alterations made to either the decision boundary or margin.\n",
    "\n",
    "\n",
    "The hyperparameters of interest are:\n",
    "\n",
    "*   **Kernel** - transforms the input data in order to obtain a better decision boundary. These transformation can be linear. In the case where classes cannot be linearly separated, other functions can be utilised (e.g. polynomial kernel, when this is used, an additional hyperparameter, \"degree\" can be specified).\n",
    "*   **C** (regularisation parameter) - indicates the level of importance given to misclassified observations. Higher values of C correspond to a narrower margin, which can result in overfitting. Lower values of C imply a wider margin, which in turn can result in underfitting.\n",
    "*   **Gamma** - regulates the amount of curvature in the decision boundary. Higher values correspond to more curvature and may lead to overfitting. Lower values imply less curvature, and may result in underfitting, as the decision boundary may fail to capture the complexities within the dataset. \n",
    "\n",
    "Given that the base model utilised a linear kernel, we will implement a polynomial kernel (with degree 3, the default value). In addition to this, a lower value for C will be used, and a higher value for gamma. \n",
    "\n",
    "\n"
   ]
  },
  {
   "cell_type": "code",
   "execution_count": null,
   "metadata": {
    "id": "PR5PXFU9DbQy"
   },
   "outputs": [],
   "source": [
    "clf2 = SVC(kernel=\"poly\", C = 0.5, gamma = 10)"
   ]
  },
  {
   "cell_type": "code",
   "execution_count": null,
   "metadata": {
    "colab": {
     "base_uri": "https://localhost:8080/"
    },
    "id": "FVjE1A3iDbVA",
    "outputId": "af718434-491a-4d83-982b-9e116abce990"
   },
   "outputs": [
    {
     "data": {
      "text/plain": [
       "SVC(C=0.5, gamma=10, kernel='poly')"
      ]
     },
     "execution_count": 26,
     "metadata": {},
     "output_type": "execute_result"
    }
   ],
   "source": [
    "clf2.fit(X_train, y_train)"
   ]
  },
  {
   "cell_type": "code",
   "execution_count": null,
   "metadata": {
    "id": "RRiq7nm3bYx5"
   },
   "outputs": [],
   "source": [
    "y_pred2 = clf2.predict(X_test)"
   ]
  },
  {
   "cell_type": "code",
   "execution_count": null,
   "metadata": {
    "colab": {
     "base_uri": "https://localhost:8080/"
    },
    "id": "rVLh-NzPbZCK",
    "outputId": "d8809e8a-1e35-44e2-d795-5f2dbdc8e312"
   },
   "outputs": [
    {
     "data": {
      "text/plain": [
       "0.9787"
      ]
     },
     "execution_count": 28,
     "metadata": {},
     "output_type": "execute_result"
    }
   ],
   "source": [
    "accuracy_score(y_test, y_pred2)"
   ]
  },
  {
   "cell_type": "code",
   "execution_count": null,
   "metadata": {
    "id": "bzFnBdeGbZH-"
   },
   "outputs": [],
   "source": [
    "# Calculating confusion matrix \n",
    "cf2 = confusion_matrix(y_test, y_pred2)"
   ]
  },
  {
   "cell_type": "code",
   "execution_count": null,
   "metadata": {
    "colab": {
     "base_uri": "https://localhost:8080/"
    },
    "id": "q_E4-j8CbZMH",
    "outputId": "5d1787b1-cc7f-4a24-ccfb-b4e004f11346"
   },
   "outputs": [
    {
     "name": "stdout",
     "output_type": "stream",
     "text": [
      "The digit 0 was misclassified 8 times\n",
      "The digit 1 was misclassified 9 times\n",
      "The digit 2 was misclassified 26 times\n",
      "The digit 3 was misclassified 23 times\n",
      "The digit 4 was misclassified 17 times\n",
      "The digit 5 was misclassified 25 times\n",
      "The digit 6 was misclassified 21 times\n",
      "The digit 7 was misclassified 28 times\n",
      "The digit 8 was misclassified 24 times\n",
      "The digit 9 was misclassified 32 times\n",
      "Total number of misclassified digits: 213\n"
     ]
    }
   ],
   "source": [
    "# Calculating how many times a digit was misclassified\n",
    "num_misclassified_list = list()\n",
    "for i in range(cf2.shape[0]):\n",
    "  num_classified = 0\n",
    "  for j in range(cf2.shape[1]):\n",
    "    if i != j:\n",
    "      num_classified += cf2[i,j]\n",
    "  num_misclassified_list.append(num_classified)\n",
    "\n",
    "for i in range(len(num_misclassified_list)):\n",
    "  print(\"The digit {} was misclassified {} times\".format(i, num_misclassified_list[i]))\n",
    "\n",
    "print(\"Total number of misclassified digits: {}\".format(sum(num_misclassified_list)))"
   ]
  },
  {
   "cell_type": "code",
   "execution_count": null,
   "metadata": {
    "colab": {
     "base_uri": "https://localhost:8080/",
     "height": 353
    },
    "id": "HGr5-v82bZPO",
    "outputId": "5a7734dd-b554-4b16-f733-488be2126d53"
   },
   "outputs": [
    {
     "name": "stderr",
     "output_type": "stream",
     "text": [
      "/usr/local/lib/python3.7/dist-packages/sklearn/utils/deprecation.py:87: FutureWarning: Function plot_confusion_matrix is deprecated; Function `plot_confusion_matrix` is deprecated in 1.0 and will be removed in 1.2. Use one of the class methods: ConfusionMatrixDisplay.from_predictions or ConfusionMatrixDisplay.from_estimator.\n",
      "  warnings.warn(msg, category=FutureWarning)\n"
     ]
    },
    {
     "data": {
      "text/plain": [
       "<sklearn.metrics._plot.confusion_matrix.ConfusionMatrixDisplay at 0x7f1f1b704b90>"
      ]
     },
     "execution_count": 31,
     "metadata": {},
     "output_type": "execute_result"
    },
    {
     "data": {
      "image/png": "[encoded data removed]",
      "text/plain": [
       "<Figure size 432x288 with 2 Axes>"
      ]
     },
     "metadata": {
      "needs_background": "light"
     },
     "output_type": "display_data"
    }
   ],
   "source": [
    "# Plot confusion matrix\n",
    "plot_confusion_matrix(clf2, X_test, y_test)"
   ]
  },
  {
   "cell_type": "code",
   "execution_count": null,
   "metadata": {
    "colab": {
     "base_uri": "https://localhost:8080/",
     "height": 108
    },
    "id": "Pj538Tabbv09",
    "outputId": "2a6bb4ef-b481-4286-a4e0-cc10aabdce88"
   },
   "outputs": [
    {
     "data": {
      "image/png": "[encoded data removed]",
      "text/plain": [
       "<Figure size 432x288 with 5 Axes>"
      ]
     },
     "metadata": {},
     "output_type": "display_data"
    }
   ],
   "source": [
    "# Observing misclassified images\n",
    "misclassified_imgs = y_pred2 != y_test\n",
    "plot_example(X_test[misclassified_imgs], y_pred2[misclassified_imgs])"
   ]
  },
  {
   "cell_type": "markdown",
   "metadata": {
    "id": "yZxVIymmdrQu"
   },
   "source": [
    "We can see a significant improvement in results! The number of misclassified images reduces drastically from 596 to 213. Model accuracy improves from 0.9404 to 0.9787."
   ]
  },
  {
   "cell_type": "markdown",
   "metadata": {
    "id": "4VA9P7kqeF7l"
   },
   "source": [
    "**5.   Hyperparameter tuning using Grid Search + Evaluation**\n",
    "\n",
    "The previous iteration showed that adjusting hyperparameters resulted in improved model performance. We expand this approach by investigating a greater range of values for each hyperparameter in order to obtain optimal results.\n",
    "\n",
    "Grid search can be an expensive process. Iterating through the learning process with various permutations of hyperparameter values can take significant time. Therefore, grid search will be run on the validation set created in the previous sections. This validation set consists of 6000 images. "
   ]
  },
  {
   "cell_type": "code",
   "execution_count": null,
   "metadata": {
    "id": "YbJlvip4fNZf"
   },
   "outputs": [],
   "source": [
    "params = {\n",
    "    \"kernel\": [\"poly\", \"rbf\"],\n",
    "    \"C\": [0.5, 10],\n",
    "    \"gamma\": [0.01,10]\n",
    "}"
   ]
  },
  {
   "cell_type": "code",
   "execution_count": null,
   "metadata": {
    "colab": {
     "base_uri": "https://localhost:8080/"
    },
    "id": "yTsGVeL5fyWU",
    "outputId": "81b012f5-36c2-45be-8add-18992aa128b4"
   },
   "outputs": [
    {
     "data": {
      "text/plain": [
       "GridSearchCV(cv=5, estimator=SVC(),\n",
       "             param_grid={'C': [0.5, 10], 'gamma': [0.01, 10],\n",
       "                         'kernel': ['poly', 'rbf']})"
      ]
     },
     "execution_count": 36,
     "metadata": {},
     "output_type": "execute_result"
    }
   ],
   "source": [
    "model = GridSearchCV(SVC(), params, cv=5)\n",
    "model.fit(X_val, y_val)"
   ]
  },
  {
   "cell_type": "code",
   "execution_count": null,
   "metadata": {
    "colab": {
     "base_uri": "https://localhost:8080/"
    },
    "id": "SkJLKjD5mP3Y",
    "outputId": "0e49e98b-7ebd-4946-a64b-c6d1bc250503"
   },
   "outputs": [
    {
     "data": {
      "text/plain": [
       "{'C': 10, 'gamma': 0.01, 'kernel': 'rbf'}"
      ]
     },
     "execution_count": 37,
     "metadata": {},
     "output_type": "execute_result"
    }
   ],
   "source": [
    "model.best_params_"
   ]
  },
  {
   "cell_type": "code",
   "execution_count": null,
   "metadata": {
    "colab": {
     "base_uri": "https://localhost:8080/"
    },
    "id": "GFOQsMiomUad",
    "outputId": "5c43d9cc-1395-48fa-d94f-f4d4aa8bc1ab"
   },
   "outputs": [
    {
     "data": {
      "text/plain": [
       "0.9570000000000001"
      ]
     },
     "execution_count": 38,
     "metadata": {},
     "output_type": "execute_result"
    }
   ],
   "source": [
    "model.best_score_"
   ]
  },
  {
   "cell_type": "markdown",
   "metadata": {
    "id": "UvkTAA5jmhgK"
   },
   "source": [
    "**6.   Optimal model construction using grid search results + Evaluation**\n",
    "\n",
    "Using the results from hyperparameter tuning, we now build an \"optimal model\", train it on the entire dataset (remember grid search was performed on the validation set) and test. The model will then be saved."
   ]
  },
  {
   "cell_type": "code",
   "execution_count": null,
   "metadata": {
    "id": "0hX5L_qXmkZx"
   },
   "outputs": [],
   "source": [
    "clf3 = SVC(kernel=\"rbf\", gamma=0.01, C=10)"
   ]
  },
  {
   "cell_type": "code",
   "execution_count": null,
   "metadata": {
    "colab": {
     "base_uri": "https://localhost:8080/"
    },
    "id": "Jyyxt9eomvDy",
    "outputId": "8c96d7f5-24b4-478d-883a-40d9cf7dc8dc"
   },
   "outputs": [
    {
     "data": {
      "text/plain": [
       "SVC(C=10, gamma=0.01)"
      ]
     },
     "execution_count": 40,
     "metadata": {},
     "output_type": "execute_result"
    }
   ],
   "source": [
    "clf3.fit(X_train, y_train)"
   ]
  },
  {
   "cell_type": "code",
   "execution_count": null,
   "metadata": {
    "id": "tI-ii2F5mvIp"
   },
   "outputs": [],
   "source": [
    "y_pred3 = clf3.predict(X_test)"
   ]
  },
  {
   "cell_type": "code",
   "execution_count": null,
   "metadata": {
    "colab": {
     "base_uri": "https://localhost:8080/"
    },
    "id": "f5IoBNc-mvMy",
    "outputId": "83057403-6120-45a0-eaba-d6635730f6e6"
   },
   "outputs": [
    {
     "data": {
      "text/plain": [
       "0.9833"
      ]
     },
     "execution_count": 42,
     "metadata": {},
     "output_type": "execute_result"
    }
   ],
   "source": [
    "accuracy_score(y_test, y_pred3)"
   ]
  },
  {
   "cell_type": "code",
   "execution_count": null,
   "metadata": {
    "id": "AKqxi6q1mvP7"
   },
   "outputs": [],
   "source": [
    "# Calculating confusion matrix \n",
    "cf3 = confusion_matrix(y_test, y_pred3)"
   ]
  },
  {
   "cell_type": "code",
   "execution_count": null,
   "metadata": {
    "colab": {
     "base_uri": "https://localhost:8080/"
    },
    "id": "xS-KHVnBmvTB",
    "outputId": "65b81bd4-9fdc-4f8a-f947-a786c9d650b0"
   },
   "outputs": [
    {
     "name": "stdout",
     "output_type": "stream",
     "text": [
      "The digit 0 was misclassified 7 times\n",
      "The digit 1 was misclassified 5 times\n",
      "The digit 2 was misclassified 18 times\n",
      "The digit 3 was misclassified 16 times\n",
      "The digit 4 was misclassified 17 times\n",
      "The digit 5 was misclassified 20 times\n",
      "The digit 6 was misclassified 13 times\n",
      "The digit 7 was misclassified 23 times\n",
      "The digit 8 was misclassified 21 times\n",
      "The digit 9 was misclassified 27 times\n",
      "Total number of misclassified digits: 167\n"
     ]
    }
   ],
   "source": [
    "# Calculating how many times a digit was misclassified\n",
    "num_misclassified_list = list()\n",
    "for i in range(cf3.shape[0]):\n",
    "  num_classified = 0\n",
    "  for j in range(cf3.shape[1]):\n",
    "    if i != j:\n",
    "      num_classified += cf3[i,j]\n",
    "  num_misclassified_list.append(num_classified)\n",
    "\n",
    "for i in range(len(num_misclassified_list)):\n",
    "  print(\"The digit {} was misclassified {} times\".format(i, num_misclassified_list[i]))\n",
    "\n",
    "print(\"Total number of misclassified digits: {}\".format(sum(num_misclassified_list)))"
   ]
  },
  {
   "cell_type": "code",
   "execution_count": null,
   "metadata": {
    "colab": {
     "base_uri": "https://localhost:8080/",
     "height": 353
    },
    "id": "9xZ0yJGhmvWL",
    "outputId": "83033c62-a70f-47ef-b5da-4207582fc0a1"
   },
   "outputs": [
    {
     "name": "stderr",
     "output_type": "stream",
     "text": [
      "/usr/local/lib/python3.7/dist-packages/sklearn/utils/deprecation.py:87: FutureWarning: Function plot_confusion_matrix is deprecated; Function `plot_confusion_matrix` is deprecated in 1.0 and will be removed in 1.2. Use one of the class methods: ConfusionMatrixDisplay.from_predictions or ConfusionMatrixDisplay.from_estimator.\n",
      "  warnings.warn(msg, category=FutureWarning)\n"
     ]
    },
    {
     "data": {
      "text/plain": [
       "<sklearn.metrics._plot.confusion_matrix.ConfusionMatrixDisplay at 0x7f1f1b585d90>"
      ]
     },
     "execution_count": 45,
     "metadata": {},
     "output_type": "execute_result"
    },
    {
     "data": {
      "image/png": "[encoded data removed]",
      "text/plain": [
       "<Figure size 432x288 with 2 Axes>"
      ]
     },
     "metadata": {
      "needs_background": "light"
     },
     "output_type": "display_data"
    }
   ],
   "source": [
    "# Plot confusion matrix\n",
    "plot_confusion_matrix(clf3, X_test, y_test)"
   ]
  },
  {
   "cell_type": "code",
   "execution_count": null,
   "metadata": {
    "colab": {
     "base_uri": "https://localhost:8080/",
     "height": 108
    },
    "id": "46QNb9b1nJa8",
    "outputId": "3be07196-cff6-497c-b0ff-bae14c999cd6"
   },
   "outputs": [
    {
     "data": {
      "image/png": "[encoded data removed]",
      "text/plain": [
       "<Figure size 432x288 with 5 Axes>"
      ]
     },
     "metadata": {},
     "output_type": "display_data"
    }
   ],
   "source": [
    "# Observing misclassified images\n",
    "misclassified_imgs = y_pred3 != y_test\n",
    "plot_example(X_test[misclassified_imgs], y_pred3[misclassified_imgs])"
   ]
  },
  {
   "cell_type": "markdown",
   "metadata": {
    "id": "np1uPUr2p1aI"
   },
   "source": [
    "We can see an improvement in model performace. The number of misclassified images reduces from 213 to 167. Model accuracy improves from 0.9787 to 0.9833."
   ]
  },
  {
   "cell_type": "code",
   "execution_count": null,
   "metadata": {
    "id": "k8WRFnnyqUYz"
   },
   "outputs": [],
   "source": [
    "# Save model using pickle\n",
    "with open(\"SVM_trained.pkl\", \"wb\") as f:\n",
    "  pickle.dump(clf3, f)"
   ]
  }
 ],
 "metadata": {
  "colab": {
   "collapsed_sections": [],
   "name": "NC_CW_SVM_Train.ipynb",
   "provenance": []
  },
  "kernelspec": {
   "display_name": "Python 3",
   "language": "python",
   "name": "python3"
  },
  "language_info": {
   "codemirror_mode": {
    "name": "ipython",
    "version": 3
   },
   "file_extension": ".py",
   "mimetype": "text/x-python",
   "name": "python",
   "nbconvert_exporter": "python",
   "pygments_lexer": "ipython3",
   "version": "3.8.8"
  }
 },
 "nbformat": 4,
 "nbformat_minor": 1
}
