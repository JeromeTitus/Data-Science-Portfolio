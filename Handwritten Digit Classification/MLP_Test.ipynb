{
 "cells": [
  {
   "cell_type": "markdown",
   "metadata": {
    "id": "spbVKvR4QqRi"
   },
   "source": [
    "# Neural Computing Coursework - Multilayer Perceptron (Testing)"
   ]
  },
  {
   "cell_type": "markdown",
   "metadata": {
    "id": "ZAC7qPuuQviq"
   },
   "source": [
    "This notebook will load the saved model from the training phase of the multilayer perceptron and test on imported test data.\n"
   ]
  },
  {
   "cell_type": "code",
   "execution_count": null,
   "metadata": {
    "colab": {
     "base_uri": "https://localhost:8080/"
    },
    "id": "h40RKKMfRGbY",
    "outputId": "e9fbea5d-14ce-4a4c-e2b2-7eb354d48153"
   },
   "outputs": [
    {
     "name": "stdout",
     "output_type": "stream",
     "text": [
      "Mounted at /content/drive\n"
     ]
    }
   ],
   "source": [
    "# PLEASE DO NOT RUN THIS CELL DURING TESTING\n",
    "# Load the Drive helper and mount \n",
    "from google.colab import drive\n",
    "\n",
    "# This will prompt for authorization.\n",
    "drive.mount('/content/drive')"
   ]
  },
  {
   "cell_type": "code",
   "execution_count": 1,
   "metadata": {
    "id": "kqYwLvlYQp_k"
   },
   "outputs": [],
   "source": [
    "# Import libraries\n",
    "import numpy as np\n",
    "import pandas as pd\n",
    "import matplotlib.pyplot as plt\n",
    "import seaborn as sns\n",
    "import torch\n",
    "from torch import nn, optim\n",
    "import torch.nn.functional as F\n",
    "import torchvision\n",
    "import matplotlib.pyplot as plt\n",
    "from time import time\n",
    "from sklearn.model_selection import train_test_split\n",
    "from sklearn.metrics import accuracy_score, confusion_matrix, plot_confusion_matrix\n",
    "from sklearn.model_selection import GridSearchCV\n",
    "import os\n",
    "import pickle\n",
    "from skorch import NeuralNetClassifier"
   ]
  },
  {
   "cell_type": "code",
   "execution_count": null,
   "metadata": {
    "id": "UQWtrTg9QgCA"
   },
   "outputs": [],
   "source": [
    "# PLEASE DO NOT RUN THIS CELL DURING TESTING\n",
    "# Change directory to current directory\n",
    "os.chdir(\"drive/My Drive/Neural Computing\")"
   ]
  },
  {
   "cell_type": "code",
   "execution_count": 2,
   "metadata": {
    "id": "sHjzA2cMZu22"
   },
   "outputs": [],
   "source": [
    "# Loading test dataset and preparing it\n",
    "mnist_test = pd.read_csv(\"Data/mnist_test.csv\")\n",
    "y_test = mnist_test[\"label\"]\n",
    "X_test = mnist_test.drop(\"label\", axis = 1)\n",
    "X_test = X_test.astype(\"float32\")\n",
    "y_test = y_test.astype(\"int64\")\n",
    "X_test /= 255.0\n",
    "X_test = X_test.to_numpy()\n",
    "X_test = np.float32(X_test)\n",
    "y_test = np.int64(y_test)"
   ]
  },
  {
   "cell_type": "code",
   "execution_count": 3,
   "metadata": {
    "id": "r4C8URynYrrb"
   },
   "outputs": [],
   "source": [
    "class Net5(nn.Module):\n",
    "  def __init__(self):\n",
    "    super(Net5, self).__init__()\n",
    "    self.hidden = nn.Linear(784, 200)\n",
    "    self.output = nn.Linear(200, 10)\n",
    "\n",
    "  def forward(self, X, **kwargs):\n",
    "    X = F.relu(self.hidden(X))\n",
    "    X = F.softmax(self.output(X), dim=-1)\n",
    "    return X"
   ]
  },
  {
   "cell_type": "code",
   "execution_count": 4,
   "metadata": {
    "id": "0xzeq5yRRRnj"
   },
   "outputs": [],
   "source": [
    "# Load model using pickle\n",
    "with open(\"MLP_trained.pkl\", \"rb\") as f:\n",
    "  model = pickle.load(f)"
   ]
  },
  {
   "cell_type": "code",
   "execution_count": 5,
   "metadata": {
    "id": "oRTfzUVfZExv"
   },
   "outputs": [],
   "source": [
    "# Making predictions on test set\n",
    "y_pred = model.predict(X_test)"
   ]
  },
  {
   "cell_type": "code",
   "execution_count": 6,
   "metadata": {
    "colab": {
     "base_uri": "https://localhost:8080/"
    },
    "id": "uhaWGXIxaOih",
    "outputId": "f45ab7e2-a0c9-4bb3-f04f-c9eeb309729d"
   },
   "outputs": [
    {
     "data": {
      "text/plain": [
       "0.9305"
      ]
     },
     "execution_count": 6,
     "metadata": {},
     "output_type": "execute_result"
    }
   ],
   "source": [
    "# Calculating prediction accuracy\n",
    "accuracy_score(y_test, y_pred)"
   ]
  },
  {
   "cell_type": "code",
   "execution_count": 7,
   "metadata": {
    "id": "UG96pOplaR1s"
   },
   "outputs": [],
   "source": [
    "# Calculating confusion matrix \n",
    "cf = confusion_matrix(y_test, y_pred)"
   ]
  },
  {
   "cell_type": "code",
   "execution_count": 8,
   "metadata": {
    "colab": {
     "base_uri": "https://localhost:8080/"
    },
    "id": "6EFtNV6HaUI7",
    "outputId": "a1a34a89-0cf8-4c3b-b0ab-137c51a4ffff"
   },
   "outputs": [
    {
     "name": "stdout",
     "output_type": "stream",
     "text": [
      "The digit 0 was misclassified 20 times\n",
      "The digit 1 was misclassified 15 times\n",
      "The digit 2 was misclassified 156 times\n",
      "The digit 3 was misclassified 88 times\n",
      "The digit 4 was misclassified 58 times\n",
      "The digit 5 was misclassified 35 times\n",
      "The digit 6 was misclassified 59 times\n",
      "The digit 7 was misclassified 97 times\n",
      "The digit 8 was misclassified 89 times\n",
      "The digit 9 was misclassified 78 times\n",
      "Total number of misclassified digits: 695\n"
     ]
    }
   ],
   "source": [
    "# Calculating how many times a digit was misclassified\n",
    "num_misclassified_list = list()\n",
    "for i in range(cf.shape[0]):\n",
    "  num_classified = 0\n",
    "  for j in range(cf.shape[1]):\n",
    "    if i != j:\n",
    "      num_classified += cf[i,j]\n",
    "  num_misclassified_list.append(num_classified)\n",
    "\n",
    "for i in range(len(num_misclassified_list)):\n",
    "  print(\"The digit {} was misclassified {} times\".format(i, num_misclassified_list[i]))\n",
    "\n",
    "print(\"Total number of misclassified digits: {}\".format(sum(num_misclassified_list)))"
   ]
  },
  {
   "cell_type": "code",
   "execution_count": 9,
   "metadata": {
    "colab": {
     "base_uri": "https://localhost:8080/",
     "height": 353
    },
    "id": "3mSUp5cpaYdf",
    "outputId": "f484b64b-f7e3-40e6-ce9b-916ca3f7482b"
   },
   "outputs": [
    {
     "data": {
      "text/plain": [
       "<sklearn.metrics._plot.confusion_matrix.ConfusionMatrixDisplay at 0x7f9ba05ad130>"
      ]
     },
     "execution_count": 9,
     "metadata": {},
     "output_type": "execute_result"
    },
    {
     "data": {
      "image/png": "[encoded data removed]",
      "text/plain": [
       "<Figure size 432x288 with 2 Axes>"
      ]
     },
     "metadata": {
      "needs_background": "light"
     },
     "output_type": "display_data"
    }
   ],
   "source": [
    "# Plot confusion matrix\n",
    "plot_confusion_matrix(model, X_test, y_test)"
   ]
  },
  {
   "cell_type": "code",
   "execution_count": 10,
   "metadata": {
    "colab": {
     "base_uri": "https://localhost:8080/",
     "height": 279
    },
    "id": "3nPVjhpKabuR",
    "outputId": "7deada42-7b6d-4659-8381-06d7526b2804"
   },
   "outputs": [
    {
     "data": {
      "image/png": "[encoded data removed]",
      "text/plain": [
       "<Figure size 432x288 with 1 Axes>"
      ]
     },
     "metadata": {
      "needs_background": "light"
     },
     "output_type": "display_data"
    }
   ],
   "source": [
    "# Plot loss curves\n",
    "plt.plot(model.history[:,\"train_loss\"], label=\"Training Loss\", color='b')\n",
    "plt.plot(model.history[:,\"valid_loss\"], label=\"Validation Loss\", color='r')\n",
    "plt.xlabel(\"Number of epochs\")\n",
    "plt.ylabel(\"Loss\")\n",
    "plt.legend()\n",
    "plt.show()"
   ]
  }
 ],
 "metadata": {
  "colab": {
   "collapsed_sections": [],
   "name": "NC_CW_MLP_Test.ipynb",
   "provenance": []
  },
  "kernelspec": {
   "display_name": "Python 3",
   "language": "python",
   "name": "python3"
  },
  "language_info": {
   "codemirror_mode": {
    "name": "ipython",
    "version": 3
   },
   "file_extension": ".py",
   "mimetype": "text/x-python",
   "name": "python",
   "nbconvert_exporter": "python",
   "pygments_lexer": "ipython3",
   "version": "3.8.8"
  }
 },
 "nbformat": 4,
 "nbformat_minor": 1
}
