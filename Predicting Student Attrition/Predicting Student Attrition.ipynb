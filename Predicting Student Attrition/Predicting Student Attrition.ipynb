{
 "cells": [
  {
   "cell_type": "markdown",
   "metadata": {},
   "source": [
    "# Clearwater State University: Modelling Early Attrition "
   ]
  },
  {
   "cell_type": "markdown",
   "metadata": {},
   "source": [
    "### Key Strategic Goals\n",
    "\n",
    "* Increase enrolment of students\n",
    "* Improve retention, progression and graduation rates\n",
    "* Recruit better qualified UG and PG students\n",
    "* Increase external funding and recognition"
   ]
  },
  {
   "cell_type": "markdown",
   "metadata": {},
   "source": [
    "### Business Questions\n",
    "\n",
    "* Identify key drivers of student attrition: EDA. How does student attrition change across various combinations of student characteristics? Perform objective segmentation or discriminant analysis\n",
    "\n",
    "* Build a predictive model to identify students with high early attrition risk: Try different models and see which ones perform optimally. Validate model\n",
    "\n",
    "* Recommend appropriate interventions based on the analysis: Based on the model results from the previous question."
   ]
  },
  {
   "cell_type": "markdown",
   "metadata": {},
   "source": [
    "### Deliverables\n",
    "    \n",
    "Need to submit well documented code and main takeaways and insights gained through the analysis\n",
    "\n",
    "* Exploratory Data Analysis showing key associations\n",
    "* Segment analysis showing key drivers of association\n",
    "* Results of statistical modl along with business interpretations and recommend interventions"
   ]
  },
  {
   "cell_type": "code",
   "execution_count": null,
   "metadata": {},
   "outputs": [],
   "source": []
  },
  {
   "cell_type": "markdown",
   "metadata": {},
   "source": [
    "## Exploratory Data Analysis"
   ]
  },
  {
   "cell_type": "code",
   "execution_count": 1,
   "metadata": {},
   "outputs": [],
   "source": [
    "import pandas as pd\n",
    "import numpy as np\n",
    "import seaborn as sns\n",
    "import matplotlib.pyplot as plt"
   ]
  },
  {
   "cell_type": "code",
   "execution_count": 2,
   "metadata": {},
   "outputs": [],
   "source": [
    "%run dqr.py"
   ]
  },
  {
   "cell_type": "code",
   "execution_count": 3,
   "metadata": {},
   "outputs": [],
   "source": [
    "#Importing data\n",
    "data = pd.read_excel(\"data.xlsx\")"
   ]
  },
  {
   "cell_type": "code",
   "execution_count": 4,
   "metadata": {},
   "outputs": [
    {
     "data": {
      "text/plain": [
       "(3400, 56)"
      ]
     },
     "execution_count": 4,
     "metadata": {},
     "output_type": "execute_result"
    }
   ],
   "source": [
    "data.shape"
   ]
  },
  {
   "cell_type": "code",
   "execution_count": 5,
   "metadata": {},
   "outputs": [
    {
     "data": {
      "text/html": [
       "<div>\n",
       "<style scoped>\n",
       "    .dataframe tbody tr th:only-of-type {\n",
       "        vertical-align: middle;\n",
       "    }\n",
       "\n",
       "    .dataframe tbody tr th {\n",
       "        vertical-align: top;\n",
       "    }\n",
       "\n",
       "    .dataframe thead th {\n",
       "        text-align: right;\n",
       "    }\n",
       "</style>\n",
       "<table border=\"1\" class=\"dataframe\">\n",
       "  <thead>\n",
       "    <tr style=\"text-align: right;\">\n",
       "      <th></th>\n",
       "      <th>STUDENT IDENTIFIER</th>\n",
       "      <th>STDNT_AGE</th>\n",
       "      <th>STDNT_GENDER</th>\n",
       "      <th>STDNT_BACKGROUND</th>\n",
       "      <th>IN_STATE_FLAG</th>\n",
       "      <th>INTERNATIONAL_STS</th>\n",
       "      <th>STDNT_MAJOR</th>\n",
       "      <th>STDNT_MINOR</th>\n",
       "      <th>STDNT_TEST_ENTRANCE1</th>\n",
       "      <th>STDNT_TEST_ENTRANCE2</th>\n",
       "      <th>...</th>\n",
       "      <th>DEGREE_GROUP_CD</th>\n",
       "      <th>DEGREE_GROUP_DESC</th>\n",
       "      <th>FIRST_TERM_ATTEMPT_HRS</th>\n",
       "      <th>FIRST_TERM_EARNED_HRS</th>\n",
       "      <th>SECOND_TERM_ATTEMPT_HRS</th>\n",
       "      <th>SECOND_TERM_EARNED_HRS</th>\n",
       "      <th>GROSS_FIN_NEED</th>\n",
       "      <th>COST_OF_ATTEND</th>\n",
       "      <th>EST_FAM_CONTRIBUTION</th>\n",
       "      <th>UNMET_NEED</th>\n",
       "    </tr>\n",
       "  </thead>\n",
       "  <tbody>\n",
       "    <tr>\n",
       "      <th>0</th>\n",
       "      <td>7808615</td>\n",
       "      <td>18</td>\n",
       "      <td>F</td>\n",
       "      <td>BGD 1</td>\n",
       "      <td>Y</td>\n",
       "      <td>N</td>\n",
       "      <td>Undeclared</td>\n",
       "      <td>N</td>\n",
       "      <td>NaN</td>\n",
       "      <td>1150.0</td>\n",
       "      <td>...</td>\n",
       "      <td>B</td>\n",
       "      <td>Bachelors</td>\n",
       "      <td>16</td>\n",
       "      <td>16</td>\n",
       "      <td>14.0</td>\n",
       "      <td>14.0</td>\n",
       "      <td>0</td>\n",
       "      <td>0</td>\n",
       "      <td>0</td>\n",
       "      <td>0.0</td>\n",
       "    </tr>\n",
       "    <tr>\n",
       "      <th>1</th>\n",
       "      <td>7830063</td>\n",
       "      <td>19</td>\n",
       "      <td>F</td>\n",
       "      <td>BGD 1</td>\n",
       "      <td>N</td>\n",
       "      <td>N</td>\n",
       "      <td>Undeclared</td>\n",
       "      <td>N</td>\n",
       "      <td>26.0</td>\n",
       "      <td>NaN</td>\n",
       "      <td>...</td>\n",
       "      <td>B</td>\n",
       "      <td>Bachelors</td>\n",
       "      <td>18</td>\n",
       "      <td>18</td>\n",
       "      <td>18.0</td>\n",
       "      <td>18.0</td>\n",
       "      <td>570000</td>\n",
       "      <td>1355760</td>\n",
       "      <td>785760</td>\n",
       "      <td>459300.0</td>\n",
       "    </tr>\n",
       "    <tr>\n",
       "      <th>2</th>\n",
       "      <td>7847538</td>\n",
       "      <td>18</td>\n",
       "      <td>M</td>\n",
       "      <td>BGD 1</td>\n",
       "      <td>Y</td>\n",
       "      <td>N</td>\n",
       "      <td>Mathematics</td>\n",
       "      <td>N</td>\n",
       "      <td>NaN</td>\n",
       "      <td>1020.0</td>\n",
       "      <td>...</td>\n",
       "      <td>B</td>\n",
       "      <td>Bachelors</td>\n",
       "      <td>15</td>\n",
       "      <td>15</td>\n",
       "      <td>14.0</td>\n",
       "      <td>14.0</td>\n",
       "      <td>0</td>\n",
       "      <td>0</td>\n",
       "      <td>0</td>\n",
       "      <td>0.0</td>\n",
       "    </tr>\n",
       "    <tr>\n",
       "      <th>3</th>\n",
       "      <td>8006429</td>\n",
       "      <td>18</td>\n",
       "      <td>M</td>\n",
       "      <td>BGD 1</td>\n",
       "      <td>Y</td>\n",
       "      <td>N</td>\n",
       "      <td>Undeclared</td>\n",
       "      <td>N</td>\n",
       "      <td>NaN</td>\n",
       "      <td>1210.0</td>\n",
       "      <td>...</td>\n",
       "      <td>B</td>\n",
       "      <td>Bachelors</td>\n",
       "      <td>13</td>\n",
       "      <td>13</td>\n",
       "      <td>14.0</td>\n",
       "      <td>14.0</td>\n",
       "      <td>0</td>\n",
       "      <td>0</td>\n",
       "      <td>0</td>\n",
       "      <td>0.0</td>\n",
       "    </tr>\n",
       "    <tr>\n",
       "      <th>4</th>\n",
       "      <td>7962680</td>\n",
       "      <td>18</td>\n",
       "      <td>F</td>\n",
       "      <td>BGD 1</td>\n",
       "      <td>Y</td>\n",
       "      <td>N</td>\n",
       "      <td>Art</td>\n",
       "      <td>N</td>\n",
       "      <td>NaN</td>\n",
       "      <td>1200.0</td>\n",
       "      <td>...</td>\n",
       "      <td>B</td>\n",
       "      <td>Bachelors</td>\n",
       "      <td>12</td>\n",
       "      <td>12</td>\n",
       "      <td>12.0</td>\n",
       "      <td>12.0</td>\n",
       "      <td>835920</td>\n",
       "      <td>1355760</td>\n",
       "      <td>519840</td>\n",
       "      <td>278340.0</td>\n",
       "    </tr>\n",
       "  </tbody>\n",
       "</table>\n",
       "<p>5 rows × 56 columns</p>\n",
       "</div>"
      ],
      "text/plain": [
       "   STUDENT IDENTIFIER  STDNT_AGE STDNT_GENDER STDNT_BACKGROUND IN_STATE_FLAG  \\\n",
       "0             7808615         18            F            BGD 1             Y   \n",
       "1             7830063         19            F            BGD 1             N   \n",
       "2             7847538         18            M            BGD 1             Y   \n",
       "3             8006429         18            M            BGD 1             Y   \n",
       "4             7962680         18            F            BGD 1             Y   \n",
       "\n",
       "  INTERNATIONAL_STS  STDNT_MAJOR STDNT_MINOR  STDNT_TEST_ENTRANCE1  \\\n",
       "0                 N   Undeclared           N                   NaN   \n",
       "1                 N   Undeclared           N                  26.0   \n",
       "2                 N  Mathematics           N                   NaN   \n",
       "3                 N   Undeclared           N                   NaN   \n",
       "4                 N          Art           N                   NaN   \n",
       "\n",
       "   STDNT_TEST_ENTRANCE2  ...  DEGREE_GROUP_CD  DEGREE_GROUP_DESC  \\\n",
       "0                1150.0  ...                B          Bachelors   \n",
       "1                   NaN  ...                B          Bachelors   \n",
       "2                1020.0  ...                B          Bachelors   \n",
       "3                1210.0  ...                B          Bachelors   \n",
       "4                1200.0  ...                B          Bachelors   \n",
       "\n",
       "  FIRST_TERM_ATTEMPT_HRS FIRST_TERM_EARNED_HRS SECOND_TERM_ATTEMPT_HRS  \\\n",
       "0                     16                    16                    14.0   \n",
       "1                     18                    18                    18.0   \n",
       "2                     15                    15                    14.0   \n",
       "3                     13                    13                    14.0   \n",
       "4                     12                    12                    12.0   \n",
       "\n",
       "  SECOND_TERM_EARNED_HRS GROSS_FIN_NEED COST_OF_ATTEND EST_FAM_CONTRIBUTION  \\\n",
       "0                   14.0              0              0                    0   \n",
       "1                   18.0         570000        1355760               785760   \n",
       "2                   14.0              0              0                    0   \n",
       "3                   14.0              0              0                    0   \n",
       "4                   12.0         835920        1355760               519840   \n",
       "\n",
       "  UNMET_NEED  \n",
       "0        0.0  \n",
       "1   459300.0  \n",
       "2        0.0  \n",
       "3        0.0  \n",
       "4   278340.0  \n",
       "\n",
       "[5 rows x 56 columns]"
      ]
     },
     "execution_count": 5,
     "metadata": {},
     "output_type": "execute_result"
    }
   ],
   "source": [
    "data.head()"
   ]
  },
  {
   "cell_type": "code",
   "execution_count": 6,
   "metadata": {},
   "outputs": [],
   "source": [
    "#Data Quality Report\n",
    "report = dataQuality(data)"
   ]
  },
  {
   "cell_type": "code",
   "execution_count": 7,
   "metadata": {},
   "outputs": [
    {
     "data": {
      "text/html": [
       "<div>\n",
       "<style scoped>\n",
       "    .dataframe tbody tr th:only-of-type {\n",
       "        vertical-align: middle;\n",
       "    }\n",
       "\n",
       "    .dataframe tbody tr th {\n",
       "        vertical-align: top;\n",
       "    }\n",
       "\n",
       "    .dataframe thead th {\n",
       "        text-align: right;\n",
       "    }\n",
       "</style>\n",
       "<table border=\"1\" class=\"dataframe\">\n",
       "  <thead>\n",
       "    <tr style=\"text-align: right;\">\n",
       "      <th></th>\n",
       "      <th>Count</th>\n",
       "      <th>Unique</th>\n",
       "      <th>Miss_per</th>\n",
       "      <th>Min</th>\n",
       "      <th>Max</th>\n",
       "      <th>Mean</th>\n",
       "      <th>Median</th>\n",
       "      <th>Std</th>\n",
       "      <th>Var</th>\n",
       "      <th>Q1</th>\n",
       "      <th>Q3</th>\n",
       "      <th>q99</th>\n",
       "    </tr>\n",
       "  </thead>\n",
       "  <tbody>\n",
       "    <tr>\n",
       "      <th>STUDENT IDENTIFIER</th>\n",
       "      <td>3400.0</td>\n",
       "      <td>3400.0</td>\n",
       "      <td>0.000000</td>\n",
       "      <td>7755837.0</td>\n",
       "      <td>8037098.0</td>\n",
       "      <td>7.897155e+06</td>\n",
       "      <td>7899052.5</td>\n",
       "      <td>80834.212657</td>\n",
       "      <td>6.534170e+09</td>\n",
       "      <td>7827039.25</td>\n",
       "      <td>7964008.00</td>\n",
       "      <td>8034112.56</td>\n",
       "    </tr>\n",
       "    <tr>\n",
       "      <th>STDNT_AGE</th>\n",
       "      <td>3400.0</td>\n",
       "      <td>11.0</td>\n",
       "      <td>0.000000</td>\n",
       "      <td>16.0</td>\n",
       "      <td>26.0</td>\n",
       "      <td>1.799412e+01</td>\n",
       "      <td>18.0</td>\n",
       "      <td>0.552052</td>\n",
       "      <td>3.047609e-01</td>\n",
       "      <td>18.00</td>\n",
       "      <td>18.00</td>\n",
       "      <td>19.00</td>\n",
       "    </tr>\n",
       "    <tr>\n",
       "      <th>STDNT_TEST_ENTRANCE1</th>\n",
       "      <td>1106.0</td>\n",
       "      <td>24.0</td>\n",
       "      <td>0.674706</td>\n",
       "      <td>8.0</td>\n",
       "      <td>32.0</td>\n",
       "      <td>2.066004e+01</td>\n",
       "      <td>20.0</td>\n",
       "      <td>3.234734</td>\n",
       "      <td>1.046351e+01</td>\n",
       "      <td>18.00</td>\n",
       "      <td>22.00</td>\n",
       "      <td>30.00</td>\n",
       "    </tr>\n",
       "    <tr>\n",
       "      <th>STDNT_TEST_ENTRANCE2</th>\n",
       "      <td>2492.0</td>\n",
       "      <td>110.0</td>\n",
       "      <td>0.267059</td>\n",
       "      <td>350.0</td>\n",
       "      <td>1490.0</td>\n",
       "      <td>9.650923e+02</td>\n",
       "      <td>990.0</td>\n",
       "      <td>209.088633</td>\n",
       "      <td>4.371806e+04</td>\n",
       "      <td>900.00</td>\n",
       "      <td>1100.00</td>\n",
       "      <td>1350.90</td>\n",
       "    </tr>\n",
       "    <tr>\n",
       "      <th>STDNT_TEST_ENTRANCE_COMB</th>\n",
       "      <td>2882.0</td>\n",
       "      <td>25.0</td>\n",
       "      <td>0.152353</td>\n",
       "      <td>530.0</td>\n",
       "      <td>1510.0</td>\n",
       "      <td>9.977585e+02</td>\n",
       "      <td>990.0</td>\n",
       "      <td>156.268221</td>\n",
       "      <td>2.441976e+04</td>\n",
       "      <td>910.00</td>\n",
       "      <td>1110.00</td>\n",
       "      <td>1340.00</td>\n",
       "    </tr>\n",
       "    <tr>\n",
       "      <th>FIRST_TERM</th>\n",
       "      <td>3400.0</td>\n",
       "      <td>6.0</td>\n",
       "      <td>0.000000</td>\n",
       "      <td>200508.0</td>\n",
       "      <td>201008.0</td>\n",
       "      <td>2.007770e+05</td>\n",
       "      <td>200808.0</td>\n",
       "      <td>170.001298</td>\n",
       "      <td>2.890044e+04</td>\n",
       "      <td>200608.00</td>\n",
       "      <td>200908.00</td>\n",
       "      <td>201008.00</td>\n",
       "    </tr>\n",
       "    <tr>\n",
       "      <th>SECOND_TERM</th>\n",
       "      <td>3400.0</td>\n",
       "      <td>6.0</td>\n",
       "      <td>0.000000</td>\n",
       "      <td>200602.0</td>\n",
       "      <td>201102.0</td>\n",
       "      <td>2.008710e+05</td>\n",
       "      <td>200902.0</td>\n",
       "      <td>170.001298</td>\n",
       "      <td>2.890044e+04</td>\n",
       "      <td>200702.00</td>\n",
       "      <td>201002.00</td>\n",
       "      <td>201102.00</td>\n",
       "    </tr>\n",
       "    <tr>\n",
       "      <th>RETURNED_2ND_YR</th>\n",
       "      <td>3400.0</td>\n",
       "      <td>2.0</td>\n",
       "      <td>0.000000</td>\n",
       "      <td>0.0</td>\n",
       "      <td>1.0</td>\n",
       "      <td>7.873529e-01</td>\n",
       "      <td>1.0</td>\n",
       "      <td>0.409240</td>\n",
       "      <td>1.674775e-01</td>\n",
       "      <td>1.00</td>\n",
       "      <td>1.00</td>\n",
       "      <td>1.00</td>\n",
       "    </tr>\n",
       "    <tr>\n",
       "      <th>DISTANCE_FROM_HOME</th>\n",
       "      <td>3375.0</td>\n",
       "      <td>72.0</td>\n",
       "      <td>0.007353</td>\n",
       "      <td>0.0</td>\n",
       "      <td>5932.0</td>\n",
       "      <td>9.982519e+01</td>\n",
       "      <td>69.0</td>\n",
       "      <td>235.196984</td>\n",
       "      <td>5.531762e+04</td>\n",
       "      <td>69.00</td>\n",
       "      <td>138.00</td>\n",
       "      <td>666.00</td>\n",
       "    </tr>\n",
       "    <tr>\n",
       "      <th>HIGH_SCHL_GPA</th>\n",
       "      <td>3347.0</td>\n",
       "      <td>201.0</td>\n",
       "      <td>0.015588</td>\n",
       "      <td>0.0</td>\n",
       "      <td>4.0</td>\n",
       "      <td>3.202738e+00</td>\n",
       "      <td>3.2</td>\n",
       "      <td>0.455337</td>\n",
       "      <td>2.073318e-01</td>\n",
       "      <td>2.87</td>\n",
       "      <td>3.56</td>\n",
       "      <td>4.00</td>\n",
       "    </tr>\n",
       "    <tr>\n",
       "      <th>FATHER_HI_EDU_CD</th>\n",
       "      <td>2968.0</td>\n",
       "      <td>5.0</td>\n",
       "      <td>0.127059</td>\n",
       "      <td>1.0</td>\n",
       "      <td>4.0</td>\n",
       "      <td>2.560647e+00</td>\n",
       "      <td>3.0</td>\n",
       "      <td>0.681273</td>\n",
       "      <td>4.641333e-01</td>\n",
       "      <td>2.00</td>\n",
       "      <td>3.00</td>\n",
       "      <td>4.00</td>\n",
       "    </tr>\n",
       "    <tr>\n",
       "      <th>MOTHER_HI_EDU_CD</th>\n",
       "      <td>2911.0</td>\n",
       "      <td>5.0</td>\n",
       "      <td>0.143824</td>\n",
       "      <td>1.0</td>\n",
       "      <td>4.0</td>\n",
       "      <td>2.571281e+00</td>\n",
       "      <td>3.0</td>\n",
       "      <td>0.611729</td>\n",
       "      <td>3.742128e-01</td>\n",
       "      <td>2.00</td>\n",
       "      <td>3.00</td>\n",
       "      <td>4.00</td>\n",
       "    </tr>\n",
       "    <tr>\n",
       "      <th>FIRST_TERM_ATTEMPT_HRS</th>\n",
       "      <td>3400.0</td>\n",
       "      <td>12.0</td>\n",
       "      <td>0.000000</td>\n",
       "      <td>9.0</td>\n",
       "      <td>21.0</td>\n",
       "      <td>1.398588e+01</td>\n",
       "      <td>14.0</td>\n",
       "      <td>1.554286</td>\n",
       "      <td>2.415805e+00</td>\n",
       "      <td>13.00</td>\n",
       "      <td>15.00</td>\n",
       "      <td>18.00</td>\n",
       "    </tr>\n",
       "    <tr>\n",
       "      <th>FIRST_TERM_EARNED_HRS</th>\n",
       "      <td>3400.0</td>\n",
       "      <td>22.0</td>\n",
       "      <td>0.000000</td>\n",
       "      <td>0.0</td>\n",
       "      <td>21.0</td>\n",
       "      <td>1.220500e+01</td>\n",
       "      <td>13.0</td>\n",
       "      <td>2.986294</td>\n",
       "      <td>8.917951e+00</td>\n",
       "      <td>11.00</td>\n",
       "      <td>15.00</td>\n",
       "      <td>17.00</td>\n",
       "    </tr>\n",
       "    <tr>\n",
       "      <th>SECOND_TERM_ATTEMPT_HRS</th>\n",
       "      <td>3194.0</td>\n",
       "      <td>22.0</td>\n",
       "      <td>0.060588</td>\n",
       "      <td>2.0</td>\n",
       "      <td>23.0</td>\n",
       "      <td>1.428585e+01</td>\n",
       "      <td>14.0</td>\n",
       "      <td>2.104387</td>\n",
       "      <td>4.428444e+00</td>\n",
       "      <td>13.00</td>\n",
       "      <td>16.00</td>\n",
       "      <td>19.00</td>\n",
       "    </tr>\n",
       "    <tr>\n",
       "      <th>SECOND_TERM_EARNED_HRS</th>\n",
       "      <td>3191.0</td>\n",
       "      <td>24.0</td>\n",
       "      <td>0.061471</td>\n",
       "      <td>0.0</td>\n",
       "      <td>23.0</td>\n",
       "      <td>1.251113e+01</td>\n",
       "      <td>13.0</td>\n",
       "      <td>3.470492</td>\n",
       "      <td>1.204431e+01</td>\n",
       "      <td>11.00</td>\n",
       "      <td>15.00</td>\n",
       "      <td>19.00</td>\n",
       "    </tr>\n",
       "    <tr>\n",
       "      <th>GROSS_FIN_NEED</th>\n",
       "      <td>3400.0</td>\n",
       "      <td>927.0</td>\n",
       "      <td>0.000000</td>\n",
       "      <td>0.0</td>\n",
       "      <td>2124900.0</td>\n",
       "      <td>3.034025e+05</td>\n",
       "      <td>0.0</td>\n",
       "      <td>483625.450816</td>\n",
       "      <td>2.338936e+11</td>\n",
       "      <td>0.00</td>\n",
       "      <td>599580.00</td>\n",
       "      <td>1418100.00</td>\n",
       "    </tr>\n",
       "    <tr>\n",
       "      <th>COST_OF_ATTEND</th>\n",
       "      <td>3400.0</td>\n",
       "      <td>120.0</td>\n",
       "      <td>0.000000</td>\n",
       "      <td>0.0</td>\n",
       "      <td>2124900.0</td>\n",
       "      <td>5.515335e+05</td>\n",
       "      <td>150540.0</td>\n",
       "      <td>606440.325202</td>\n",
       "      <td>3.677699e+11</td>\n",
       "      <td>0.00</td>\n",
       "      <td>1192815.00</td>\n",
       "      <td>1489080.00</td>\n",
       "    </tr>\n",
       "    <tr>\n",
       "      <th>EST_FAM_CONTRIBUTION</th>\n",
       "      <td>3400.0</td>\n",
       "      <td>1236.0</td>\n",
       "      <td>0.000000</td>\n",
       "      <td>0.0</td>\n",
       "      <td>5999940.0</td>\n",
       "      <td>3.446899e+05</td>\n",
       "      <td>0.0</td>\n",
       "      <td>787187.774837</td>\n",
       "      <td>6.196646e+11</td>\n",
       "      <td>0.00</td>\n",
       "      <td>324180.00</td>\n",
       "      <td>3905646.60</td>\n",
       "    </tr>\n",
       "    <tr>\n",
       "      <th>UNMET_NEED</th>\n",
       "      <td>3400.0</td>\n",
       "      <td>1197.0</td>\n",
       "      <td>0.000000</td>\n",
       "      <td>-1212072.0</td>\n",
       "      <td>1632660.0</td>\n",
       "      <td>7.222052e+04</td>\n",
       "      <td>0.0</td>\n",
       "      <td>279567.921396</td>\n",
       "      <td>7.815822e+10</td>\n",
       "      <td>0.00</td>\n",
       "      <td>187615.50</td>\n",
       "      <td>883023.60</td>\n",
       "    </tr>\n",
       "  </tbody>\n",
       "</table>\n",
       "</div>"
      ],
      "text/plain": [
       "                           Count  Unique  Miss_per        Min        Max  \\\n",
       "STUDENT IDENTIFIER        3400.0  3400.0  0.000000  7755837.0  8037098.0   \n",
       "STDNT_AGE                 3400.0    11.0  0.000000       16.0       26.0   \n",
       "STDNT_TEST_ENTRANCE1      1106.0    24.0  0.674706        8.0       32.0   \n",
       "STDNT_TEST_ENTRANCE2      2492.0   110.0  0.267059      350.0     1490.0   \n",
       "STDNT_TEST_ENTRANCE_COMB  2882.0    25.0  0.152353      530.0     1510.0   \n",
       "FIRST_TERM                3400.0     6.0  0.000000   200508.0   201008.0   \n",
       "SECOND_TERM               3400.0     6.0  0.000000   200602.0   201102.0   \n",
       "RETURNED_2ND_YR           3400.0     2.0  0.000000        0.0        1.0   \n",
       "DISTANCE_FROM_HOME        3375.0    72.0  0.007353        0.0     5932.0   \n",
       "HIGH_SCHL_GPA             3347.0   201.0  0.015588        0.0        4.0   \n",
       "FATHER_HI_EDU_CD          2968.0     5.0  0.127059        1.0        4.0   \n",
       "MOTHER_HI_EDU_CD          2911.0     5.0  0.143824        1.0        4.0   \n",
       "FIRST_TERM_ATTEMPT_HRS    3400.0    12.0  0.000000        9.0       21.0   \n",
       "FIRST_TERM_EARNED_HRS     3400.0    22.0  0.000000        0.0       21.0   \n",
       "SECOND_TERM_ATTEMPT_HRS   3194.0    22.0  0.060588        2.0       23.0   \n",
       "SECOND_TERM_EARNED_HRS    3191.0    24.0  0.061471        0.0       23.0   \n",
       "GROSS_FIN_NEED            3400.0   927.0  0.000000        0.0  2124900.0   \n",
       "COST_OF_ATTEND            3400.0   120.0  0.000000        0.0  2124900.0   \n",
       "EST_FAM_CONTRIBUTION      3400.0  1236.0  0.000000        0.0  5999940.0   \n",
       "UNMET_NEED                3400.0  1197.0  0.000000 -1212072.0  1632660.0   \n",
       "\n",
       "                                  Mean     Median            Std  \\\n",
       "STUDENT IDENTIFIER        7.897155e+06  7899052.5   80834.212657   \n",
       "STDNT_AGE                 1.799412e+01       18.0       0.552052   \n",
       "STDNT_TEST_ENTRANCE1      2.066004e+01       20.0       3.234734   \n",
       "STDNT_TEST_ENTRANCE2      9.650923e+02      990.0     209.088633   \n",
       "STDNT_TEST_ENTRANCE_COMB  9.977585e+02      990.0     156.268221   \n",
       "FIRST_TERM                2.007770e+05   200808.0     170.001298   \n",
       "SECOND_TERM               2.008710e+05   200902.0     170.001298   \n",
       "RETURNED_2ND_YR           7.873529e-01        1.0       0.409240   \n",
       "DISTANCE_FROM_HOME        9.982519e+01       69.0     235.196984   \n",
       "HIGH_SCHL_GPA             3.202738e+00        3.2       0.455337   \n",
       "FATHER_HI_EDU_CD          2.560647e+00        3.0       0.681273   \n",
       "MOTHER_HI_EDU_CD          2.571281e+00        3.0       0.611729   \n",
       "FIRST_TERM_ATTEMPT_HRS    1.398588e+01       14.0       1.554286   \n",
       "FIRST_TERM_EARNED_HRS     1.220500e+01       13.0       2.986294   \n",
       "SECOND_TERM_ATTEMPT_HRS   1.428585e+01       14.0       2.104387   \n",
       "SECOND_TERM_EARNED_HRS    1.251113e+01       13.0       3.470492   \n",
       "GROSS_FIN_NEED            3.034025e+05        0.0  483625.450816   \n",
       "COST_OF_ATTEND            5.515335e+05   150540.0  606440.325202   \n",
       "EST_FAM_CONTRIBUTION      3.446899e+05        0.0  787187.774837   \n",
       "UNMET_NEED                7.222052e+04        0.0  279567.921396   \n",
       "\n",
       "                                   Var          Q1          Q3         q99  \n",
       "STUDENT IDENTIFIER        6.534170e+09  7827039.25  7964008.00  8034112.56  \n",
       "STDNT_AGE                 3.047609e-01       18.00       18.00       19.00  \n",
       "STDNT_TEST_ENTRANCE1      1.046351e+01       18.00       22.00       30.00  \n",
       "STDNT_TEST_ENTRANCE2      4.371806e+04      900.00     1100.00     1350.90  \n",
       "STDNT_TEST_ENTRANCE_COMB  2.441976e+04      910.00     1110.00     1340.00  \n",
       "FIRST_TERM                2.890044e+04   200608.00   200908.00   201008.00  \n",
       "SECOND_TERM               2.890044e+04   200702.00   201002.00   201102.00  \n",
       "RETURNED_2ND_YR           1.674775e-01        1.00        1.00        1.00  \n",
       "DISTANCE_FROM_HOME        5.531762e+04       69.00      138.00      666.00  \n",
       "HIGH_SCHL_GPA             2.073318e-01        2.87        3.56        4.00  \n",
       "FATHER_HI_EDU_CD          4.641333e-01        2.00        3.00        4.00  \n",
       "MOTHER_HI_EDU_CD          3.742128e-01        2.00        3.00        4.00  \n",
       "FIRST_TERM_ATTEMPT_HRS    2.415805e+00       13.00       15.00       18.00  \n",
       "FIRST_TERM_EARNED_HRS     8.917951e+00       11.00       15.00       17.00  \n",
       "SECOND_TERM_ATTEMPT_HRS   4.428444e+00       13.00       16.00       19.00  \n",
       "SECOND_TERM_EARNED_HRS    1.204431e+01       11.00       15.00       19.00  \n",
       "GROSS_FIN_NEED            2.338936e+11        0.00   599580.00  1418100.00  \n",
       "COST_OF_ATTEND            3.677699e+11        0.00  1192815.00  1489080.00  \n",
       "EST_FAM_CONTRIBUTION      6.196646e+11        0.00   324180.00  3905646.60  \n",
       "UNMET_NEED                7.815822e+10        0.00   187615.50   883023.60  "
      ]
     },
     "execution_count": 7,
     "metadata": {},
     "output_type": "execute_result"
    }
   ],
   "source": [
    "#Numerical features report\n",
    "report[\"numeric\"]"
   ]
  },
  {
   "cell_type": "code",
   "execution_count": 8,
   "metadata": {},
   "outputs": [
    {
     "data": {
      "text/html": [
       "<div>\n",
       "<style scoped>\n",
       "    .dataframe tbody tr th:only-of-type {\n",
       "        vertical-align: middle;\n",
       "    }\n",
       "\n",
       "    .dataframe tbody tr th {\n",
       "        vertical-align: top;\n",
       "    }\n",
       "\n",
       "    .dataframe thead th {\n",
       "        text-align: right;\n",
       "    }\n",
       "</style>\n",
       "<table border=\"1\" class=\"dataframe\">\n",
       "  <thead>\n",
       "    <tr style=\"text-align: right;\">\n",
       "      <th></th>\n",
       "      <th>Count</th>\n",
       "      <th>Unique</th>\n",
       "      <th>Miss_per</th>\n",
       "      <th>Freq_Level</th>\n",
       "      <th>freq_cat_Per</th>\n",
       "    </tr>\n",
       "  </thead>\n",
       "  <tbody>\n",
       "    <tr>\n",
       "      <th>STDNT_GENDER</th>\n",
       "      <td>3400</td>\n",
       "      <td>2</td>\n",
       "      <td>0</td>\n",
       "      <td>F</td>\n",
       "      <td>0.629412</td>\n",
       "    </tr>\n",
       "    <tr>\n",
       "      <th>STDNT_BACKGROUND</th>\n",
       "      <td>3400</td>\n",
       "      <td>8</td>\n",
       "      <td>0</td>\n",
       "      <td>BGD 1</td>\n",
       "      <td>0.612353</td>\n",
       "    </tr>\n",
       "    <tr>\n",
       "      <th>IN_STATE_FLAG</th>\n",
       "      <td>3400</td>\n",
       "      <td>2</td>\n",
       "      <td>0</td>\n",
       "      <td>Y</td>\n",
       "      <td>0.900882</td>\n",
       "    </tr>\n",
       "    <tr>\n",
       "      <th>INTERNATIONAL_STS</th>\n",
       "      <td>3400</td>\n",
       "      <td>2</td>\n",
       "      <td>0</td>\n",
       "      <td>N</td>\n",
       "      <td>0.992059</td>\n",
       "    </tr>\n",
       "    <tr>\n",
       "      <th>STDNT_MAJOR</th>\n",
       "      <td>3400</td>\n",
       "      <td>54</td>\n",
       "      <td>0</td>\n",
       "      <td>Undeclared</td>\n",
       "      <td>0.135294</td>\n",
       "    </tr>\n",
       "    <tr>\n",
       "      <th>STDNT_MINOR</th>\n",
       "      <td>3400</td>\n",
       "      <td>37</td>\n",
       "      <td>0</td>\n",
       "      <td>N</td>\n",
       "      <td>0.929412</td>\n",
       "    </tr>\n",
       "    <tr>\n",
       "      <th>CORE_COURSE_NAME_1_F</th>\n",
       "      <td>3400</td>\n",
       "      <td>69</td>\n",
       "      <td>0</td>\n",
       "      <td>ENGL 1101</td>\n",
       "      <td>0.183529</td>\n",
       "    </tr>\n",
       "    <tr>\n",
       "      <th>CORE_COURSE_GRADE_1_F</th>\n",
       "      <td>3400</td>\n",
       "      <td>7</td>\n",
       "      <td>0</td>\n",
       "      <td>C</td>\n",
       "      <td>0.301176</td>\n",
       "    </tr>\n",
       "    <tr>\n",
       "      <th>CORE_COURSE_NAME_2_F</th>\n",
       "      <td>3301</td>\n",
       "      <td>75</td>\n",
       "      <td>0.0291176</td>\n",
       "      <td>ENGL 1101</td>\n",
       "      <td>0.216471</td>\n",
       "    </tr>\n",
       "    <tr>\n",
       "      <th>CORE_COURSE_GRADE_2_F</th>\n",
       "      <td>3301</td>\n",
       "      <td>8</td>\n",
       "      <td>0.0291176</td>\n",
       "      <td>B</td>\n",
       "      <td>0.393824</td>\n",
       "    </tr>\n",
       "    <tr>\n",
       "      <th>CORE_COURSE_NAME_3_F</th>\n",
       "      <td>2835</td>\n",
       "      <td>75</td>\n",
       "      <td>0.166176</td>\n",
       "      <td>ENGL 1101</td>\n",
       "      <td>0.167059</td>\n",
       "    </tr>\n",
       "    <tr>\n",
       "      <th>CORE_COURSE_GRADE_3_F</th>\n",
       "      <td>2835</td>\n",
       "      <td>7</td>\n",
       "      <td>0.166176</td>\n",
       "      <td>B</td>\n",
       "      <td>0.339706</td>\n",
       "    </tr>\n",
       "    <tr>\n",
       "      <th>CORE_COURSE_NAME_4_F</th>\n",
       "      <td>1803</td>\n",
       "      <td>69</td>\n",
       "      <td>0.469706</td>\n",
       "      <td>ENGL 1101</td>\n",
       "      <td>0.0914706</td>\n",
       "    </tr>\n",
       "    <tr>\n",
       "      <th>CORE_COURSE_GRADE_4_F</th>\n",
       "      <td>1803</td>\n",
       "      <td>7</td>\n",
       "      <td>0.469706</td>\n",
       "      <td>A</td>\n",
       "      <td>0.321765</td>\n",
       "    </tr>\n",
       "    <tr>\n",
       "      <th>CORE_COURSE_NAME_5_F</th>\n",
       "      <td>645</td>\n",
       "      <td>54</td>\n",
       "      <td>0.810294</td>\n",
       "      <td>ENGL 1101</td>\n",
       "      <td>0.0238235</td>\n",
       "    </tr>\n",
       "    <tr>\n",
       "      <th>CORE_COURSE_GRADE_5_F</th>\n",
       "      <td>645</td>\n",
       "      <td>5</td>\n",
       "      <td>0.810294</td>\n",
       "      <td>A</td>\n",
       "      <td>0.147647</td>\n",
       "    </tr>\n",
       "    <tr>\n",
       "      <th>CORE_COURSE_NAME_6_F</th>\n",
       "      <td>128</td>\n",
       "      <td>25</td>\n",
       "      <td>0.962353</td>\n",
       "      <td>ITDS 2749</td>\n",
       "      <td>0.00588235</td>\n",
       "    </tr>\n",
       "    <tr>\n",
       "      <th>CORE_COURSE_GRADE_6_F</th>\n",
       "      <td>128</td>\n",
       "      <td>5</td>\n",
       "      <td>0.962353</td>\n",
       "      <td>A</td>\n",
       "      <td>0.0323529</td>\n",
       "    </tr>\n",
       "    <tr>\n",
       "      <th>CORE_COURSE_NAME_1_S</th>\n",
       "      <td>3243</td>\n",
       "      <td>67</td>\n",
       "      <td>0.0461765</td>\n",
       "      <td>ENGL 1102</td>\n",
       "      <td>0.184412</td>\n",
       "    </tr>\n",
       "    <tr>\n",
       "      <th>CORE_COURSE_GRADE_1_S</th>\n",
       "      <td>3168</td>\n",
       "      <td>9</td>\n",
       "      <td>0.0682353</td>\n",
       "      <td>C</td>\n",
       "      <td>0.266471</td>\n",
       "    </tr>\n",
       "    <tr>\n",
       "      <th>CORE_COURSE_NAME_2_S</th>\n",
       "      <td>2961</td>\n",
       "      <td>70</td>\n",
       "      <td>0.129118</td>\n",
       "      <td>ENGL 1102</td>\n",
       "      <td>0.181471</td>\n",
       "    </tr>\n",
       "    <tr>\n",
       "      <th>CORE_COURSE_GRADE_2_S</th>\n",
       "      <td>2961</td>\n",
       "      <td>7</td>\n",
       "      <td>0.129118</td>\n",
       "      <td>B</td>\n",
       "      <td>0.328824</td>\n",
       "    </tr>\n",
       "    <tr>\n",
       "      <th>CORE_COURSE_NAME_3_S</th>\n",
       "      <td>2362</td>\n",
       "      <td>69</td>\n",
       "      <td>0.305294</td>\n",
       "      <td>ENGL 1102</td>\n",
       "      <td>0.119118</td>\n",
       "    </tr>\n",
       "    <tr>\n",
       "      <th>CORE_COURSE_GRADE_3_S</th>\n",
       "      <td>2362</td>\n",
       "      <td>7</td>\n",
       "      <td>0.305294</td>\n",
       "      <td>A</td>\n",
       "      <td>0.292647</td>\n",
       "    </tr>\n",
       "    <tr>\n",
       "      <th>CORE_COURSE_NAME_4_S</th>\n",
       "      <td>1355</td>\n",
       "      <td>65</td>\n",
       "      <td>0.601471</td>\n",
       "      <td>ENGL 1102</td>\n",
       "      <td>0.0582353</td>\n",
       "    </tr>\n",
       "    <tr>\n",
       "      <th>CORE_COURSE_GRADE_4_S</th>\n",
       "      <td>1355</td>\n",
       "      <td>6</td>\n",
       "      <td>0.601471</td>\n",
       "      <td>A</td>\n",
       "      <td>0.226471</td>\n",
       "    </tr>\n",
       "    <tr>\n",
       "      <th>CORE_COURSE_NAME_5_S</th>\n",
       "      <td>450</td>\n",
       "      <td>52</td>\n",
       "      <td>0.867647</td>\n",
       "      <td>MUSC 1100</td>\n",
       "      <td>0.0129412</td>\n",
       "    </tr>\n",
       "    <tr>\n",
       "      <th>CORE_COURSE_GRADE_5_S</th>\n",
       "      <td>450</td>\n",
       "      <td>6</td>\n",
       "      <td>0.867647</td>\n",
       "      <td>A</td>\n",
       "      <td>0.0891176</td>\n",
       "    </tr>\n",
       "    <tr>\n",
       "      <th>CORE_COURSE_NAME_6_S</th>\n",
       "      <td>81</td>\n",
       "      <td>27</td>\n",
       "      <td>0.976176</td>\n",
       "      <td>POLS 1101</td>\n",
       "      <td>0.00294118</td>\n",
       "    </tr>\n",
       "    <tr>\n",
       "      <th>CORE_COURSE_GRADE_6_S</th>\n",
       "      <td>81</td>\n",
       "      <td>4</td>\n",
       "      <td>0.976176</td>\n",
       "      <td>A</td>\n",
       "      <td>0.0191176</td>\n",
       "    </tr>\n",
       "    <tr>\n",
       "      <th>HOUSING_STS</th>\n",
       "      <td>3400</td>\n",
       "      <td>2</td>\n",
       "      <td>0</td>\n",
       "      <td>Off Campus</td>\n",
       "      <td>0.582647</td>\n",
       "    </tr>\n",
       "    <tr>\n",
       "      <th>HIGH_SCHL_NAME</th>\n",
       "      <td>3399</td>\n",
       "      <td>440</td>\n",
       "      <td>0.000294118</td>\n",
       "      <td>SCHOOL 11</td>\n",
       "      <td>0.0732353</td>\n",
       "    </tr>\n",
       "    <tr>\n",
       "      <th>FATHER_HI_EDU_DESC</th>\n",
       "      <td>3400</td>\n",
       "      <td>5</td>\n",
       "      <td>0</td>\n",
       "      <td>High School</td>\n",
       "      <td>0.392941</td>\n",
       "    </tr>\n",
       "    <tr>\n",
       "      <th>MOTHER_HI_EDU_DESC</th>\n",
       "      <td>3400</td>\n",
       "      <td>5</td>\n",
       "      <td>0</td>\n",
       "      <td>College/Beyond</td>\n",
       "      <td>0.441176</td>\n",
       "    </tr>\n",
       "    <tr>\n",
       "      <th>DEGREE_GROUP_CD</th>\n",
       "      <td>3400</td>\n",
       "      <td>3</td>\n",
       "      <td>0</td>\n",
       "      <td>B</td>\n",
       "      <td>0.995294</td>\n",
       "    </tr>\n",
       "    <tr>\n",
       "      <th>DEGREE_GROUP_DESC</th>\n",
       "      <td>3400</td>\n",
       "      <td>3</td>\n",
       "      <td>0</td>\n",
       "      <td>Bachelors</td>\n",
       "      <td>0.995294</td>\n",
       "    </tr>\n",
       "  </tbody>\n",
       "</table>\n",
       "</div>"
      ],
      "text/plain": [
       "                      Count Unique     Miss_per      Freq_Level freq_cat_Per\n",
       "STDNT_GENDER           3400      2            0               F     0.629412\n",
       "STDNT_BACKGROUND       3400      8            0           BGD 1     0.612353\n",
       "IN_STATE_FLAG          3400      2            0               Y     0.900882\n",
       "INTERNATIONAL_STS      3400      2            0               N     0.992059\n",
       "STDNT_MAJOR            3400     54            0      Undeclared     0.135294\n",
       "STDNT_MINOR            3400     37            0               N     0.929412\n",
       "CORE_COURSE_NAME_1_F   3400     69            0       ENGL 1101     0.183529\n",
       "CORE_COURSE_GRADE_1_F  3400      7            0               C     0.301176\n",
       "CORE_COURSE_NAME_2_F   3301     75    0.0291176       ENGL 1101     0.216471\n",
       "CORE_COURSE_GRADE_2_F  3301      8    0.0291176               B     0.393824\n",
       "CORE_COURSE_NAME_3_F   2835     75     0.166176       ENGL 1101     0.167059\n",
       "CORE_COURSE_GRADE_3_F  2835      7     0.166176               B     0.339706\n",
       "CORE_COURSE_NAME_4_F   1803     69     0.469706       ENGL 1101    0.0914706\n",
       "CORE_COURSE_GRADE_4_F  1803      7     0.469706               A     0.321765\n",
       "CORE_COURSE_NAME_5_F    645     54     0.810294       ENGL 1101    0.0238235\n",
       "CORE_COURSE_GRADE_5_F   645      5     0.810294               A     0.147647\n",
       "CORE_COURSE_NAME_6_F    128     25     0.962353       ITDS 2749   0.00588235\n",
       "CORE_COURSE_GRADE_6_F   128      5     0.962353               A    0.0323529\n",
       "CORE_COURSE_NAME_1_S   3243     67    0.0461765       ENGL 1102     0.184412\n",
       "CORE_COURSE_GRADE_1_S  3168      9    0.0682353               C     0.266471\n",
       "CORE_COURSE_NAME_2_S   2961     70     0.129118       ENGL 1102     0.181471\n",
       "CORE_COURSE_GRADE_2_S  2961      7     0.129118               B     0.328824\n",
       "CORE_COURSE_NAME_3_S   2362     69     0.305294       ENGL 1102     0.119118\n",
       "CORE_COURSE_GRADE_3_S  2362      7     0.305294               A     0.292647\n",
       "CORE_COURSE_NAME_4_S   1355     65     0.601471       ENGL 1102    0.0582353\n",
       "CORE_COURSE_GRADE_4_S  1355      6     0.601471               A     0.226471\n",
       "CORE_COURSE_NAME_5_S    450     52     0.867647       MUSC 1100    0.0129412\n",
       "CORE_COURSE_GRADE_5_S   450      6     0.867647               A    0.0891176\n",
       "CORE_COURSE_NAME_6_S     81     27     0.976176       POLS 1101   0.00294118\n",
       "CORE_COURSE_GRADE_6_S    81      4     0.976176               A    0.0191176\n",
       "HOUSING_STS            3400      2            0      Off Campus     0.582647\n",
       "HIGH_SCHL_NAME         3399    440  0.000294118       SCHOOL 11    0.0732353\n",
       "FATHER_HI_EDU_DESC     3400      5            0     High School     0.392941\n",
       "MOTHER_HI_EDU_DESC     3400      5            0  College/Beyond     0.441176\n",
       "DEGREE_GROUP_CD        3400      3            0               B     0.995294\n",
       "DEGREE_GROUP_DESC      3400      3            0       Bachelors     0.995294"
      ]
     },
     "execution_count": 8,
     "metadata": {},
     "output_type": "execute_result"
    }
   ],
   "source": [
    "#Categorical data quality report\n",
    "report[\"categorical\"]"
   ]
  },
  {
   "cell_type": "markdown",
   "metadata": {},
   "source": [
    "In this project, variables with more than 10% missing values will be dropped. This will be done before continuing with the EDA. This will allow the more important variables to be examined and studied. "
   ]
  },
  {
   "cell_type": "code",
   "execution_count": 9,
   "metadata": {},
   "outputs": [
    {
     "data": {
      "text/plain": [
       "STUDENT IDENTIFIER          0.000000\n",
       "STDNT_AGE                   0.000000\n",
       "STDNT_GENDER                0.000000\n",
       "STDNT_BACKGROUND            0.000000\n",
       "IN_STATE_FLAG               0.000000\n",
       "INTERNATIONAL_STS           0.000000\n",
       "STDNT_MAJOR                 0.000000\n",
       "STDNT_MINOR                 0.000000\n",
       "STDNT_TEST_ENTRANCE1        0.674706\n",
       "STDNT_TEST_ENTRANCE2        0.267059\n",
       "STDNT_TEST_ENTRANCE_COMB    0.152353\n",
       "FIRST_TERM                  0.000000\n",
       "CORE_COURSE_NAME_1_F        0.000000\n",
       "CORE_COURSE_GRADE_1_F       0.000000\n",
       "CORE_COURSE_NAME_2_F        0.029118\n",
       "CORE_COURSE_GRADE_2_F       0.029118\n",
       "CORE_COURSE_NAME_3_F        0.166176\n",
       "CORE_COURSE_GRADE_3_F       0.166176\n",
       "CORE_COURSE_NAME_4_F        0.469706\n",
       "CORE_COURSE_GRADE_4_F       0.469706\n",
       "CORE_COURSE_NAME_5_F        0.810294\n",
       "CORE_COURSE_GRADE_5_F       0.810294\n",
       "CORE_COURSE_NAME_6_F        0.962353\n",
       "CORE_COURSE_GRADE_6_F       0.962353\n",
       "SECOND_TERM                 0.000000\n",
       "CORE_COURSE_NAME_1_S        0.046176\n",
       "CORE_COURSE_GRADE_1_S       0.068235\n",
       "CORE_COURSE_NAME_2_S        0.129118\n",
       "CORE_COURSE_GRADE_2_S       0.129118\n",
       "CORE_COURSE_NAME_3_S        0.305294\n",
       "CORE_COURSE_GRADE_3_S       0.305294\n",
       "CORE_COURSE_NAME_4_S        0.601471\n",
       "CORE_COURSE_GRADE_4_S       0.601471\n",
       "CORE_COURSE_NAME_5_S        0.867647\n",
       "CORE_COURSE_GRADE_5_S       0.867647\n",
       "CORE_COURSE_NAME_6_S        0.976176\n",
       "CORE_COURSE_GRADE_6_S       0.976176\n",
       "HOUSING_STS                 0.000000\n",
       "RETURNED_2ND_YR             0.000000\n",
       "DISTANCE_FROM_HOME          0.007353\n",
       "HIGH_SCHL_GPA               0.015588\n",
       "HIGH_SCHL_NAME              0.000294\n",
       "FATHER_HI_EDU_CD            0.127059\n",
       "FATHER_HI_EDU_DESC          0.000000\n",
       "MOTHER_HI_EDU_CD            0.143824\n",
       "MOTHER_HI_EDU_DESC          0.000000\n",
       "DEGREE_GROUP_CD             0.000000\n",
       "DEGREE_GROUP_DESC           0.000000\n",
       "FIRST_TERM_ATTEMPT_HRS      0.000000\n",
       "FIRST_TERM_EARNED_HRS       0.000000\n",
       "SECOND_TERM_ATTEMPT_HRS     0.060588\n",
       "SECOND_TERM_EARNED_HRS      0.061471\n",
       "GROSS_FIN_NEED              0.000000\n",
       "COST_OF_ATTEND              0.000000\n",
       "EST_FAM_CONTRIBUTION        0.000000\n",
       "UNMET_NEED                  0.000000\n",
       "dtype: float64"
      ]
     },
     "execution_count": 9,
     "metadata": {},
     "output_type": "execute_result"
    }
   ],
   "source": [
    "data.isnull().sum()/data.shape[0]"
   ]
  },
  {
   "cell_type": "code",
   "execution_count": 10,
   "metadata": {},
   "outputs": [],
   "source": [
    "#Deleting variables with more than 10% missing values\n",
    "missing_variables = []\n",
    "\n",
    "for variable in data.columns.tolist():\n",
    "    \n",
    "    if data[variable].isnull().sum()/data.shape[0] > 0.1:\n",
    "        \n",
    "        missing_variables.append(variable)"
   ]
  },
  {
   "cell_type": "code",
   "execution_count": 11,
   "metadata": {},
   "outputs": [],
   "source": [
    "data.drop(missing_variables, inplace = True, axis = 1)"
   ]
  },
  {
   "cell_type": "code",
   "execution_count": 12,
   "metadata": {},
   "outputs": [
    {
     "data": {
      "text/plain": [
       "['STUDENT IDENTIFIER',\n",
       " 'STDNT_AGE',\n",
       " 'STDNT_GENDER',\n",
       " 'STDNT_BACKGROUND',\n",
       " 'IN_STATE_FLAG',\n",
       " 'INTERNATIONAL_STS',\n",
       " 'STDNT_MAJOR',\n",
       " 'STDNT_MINOR',\n",
       " 'FIRST_TERM',\n",
       " 'CORE_COURSE_NAME_1_F',\n",
       " 'CORE_COURSE_GRADE_1_F',\n",
       " 'CORE_COURSE_NAME_2_F',\n",
       " 'CORE_COURSE_GRADE_2_F',\n",
       " 'SECOND_TERM',\n",
       " 'CORE_COURSE_NAME_1_S',\n",
       " 'CORE_COURSE_GRADE_1_S',\n",
       " 'HOUSING_STS',\n",
       " 'RETURNED_2ND_YR',\n",
       " 'DISTANCE_FROM_HOME',\n",
       " 'HIGH_SCHL_GPA',\n",
       " 'HIGH_SCHL_NAME',\n",
       " 'FATHER_HI_EDU_DESC',\n",
       " 'MOTHER_HI_EDU_DESC',\n",
       " 'DEGREE_GROUP_CD',\n",
       " 'DEGREE_GROUP_DESC',\n",
       " 'FIRST_TERM_ATTEMPT_HRS',\n",
       " 'FIRST_TERM_EARNED_HRS',\n",
       " 'SECOND_TERM_ATTEMPT_HRS',\n",
       " 'SECOND_TERM_EARNED_HRS',\n",
       " 'GROSS_FIN_NEED',\n",
       " 'COST_OF_ATTEND',\n",
       " 'EST_FAM_CONTRIBUTION',\n",
       " 'UNMET_NEED']"
      ]
     },
     "execution_count": 12,
     "metadata": {},
     "output_type": "execute_result"
    }
   ],
   "source": [
    "data.columns.tolist()"
   ]
  },
  {
   "cell_type": "markdown",
   "metadata": {},
   "source": [
    "### Examining Target/Dependent variable"
   ]
  },
  {
   "cell_type": "markdown",
   "metadata": {},
   "source": [
    "The target variable for this project is <b>RETURNED_2ND_YR</b>."
   ]
  },
  {
   "cell_type": "code",
   "execution_count": 13,
   "metadata": {},
   "outputs": [
    {
     "data": {
      "text/plain": [
       "1    0.787353\n",
       "0    0.212647\n",
       "Name: RETURNED_2ND_YR, dtype: float64"
      ]
     },
     "execution_count": 13,
     "metadata": {},
     "output_type": "execute_result"
    }
   ],
   "source": [
    "data[\"RETURNED_2ND_YR\"].value_counts()/data.shape[0]"
   ]
  },
  {
   "cell_type": "markdown",
   "metadata": {},
   "source": [
    "* Firstly, the numerical feature report illustrates that the target variable has no missing values. \n",
    "\n",
    "* Secondly, the value counts show that there is a class imbalance. This must be taken into consideration when building the predictive model (i.e. need to choose models that are not affected by class imbalance (like ensemble models)).\n",
    "\n",
    "* The goal of the predictive model is to predict whether a student will attrite or not. Therefore, the 1s and 0s in the target variables need to be switched. This is done below."
   ]
  },
  {
   "cell_type": "code",
   "execution_count": 14,
   "metadata": {},
   "outputs": [],
   "source": [
    "data[\"RETURNED_2ND_YR\"] = data[\"RETURNED_2ND_YR\"].apply(lambda x: 1 if x == 0 else 0)"
   ]
  },
  {
   "cell_type": "markdown",
   "metadata": {},
   "source": [
    "The new counts are shown below"
   ]
  },
  {
   "cell_type": "code",
   "execution_count": 15,
   "metadata": {},
   "outputs": [
    {
     "data": {
      "text/plain": [
       "0    0.787353\n",
       "1    0.212647\n",
       "Name: RETURNED_2ND_YR, dtype: float64"
      ]
     },
     "execution_count": 15,
     "metadata": {},
     "output_type": "execute_result"
    }
   ],
   "source": [
    "data[\"RETURNED_2ND_YR\"].value_counts()/data.shape[0]"
   ]
  },
  {
   "cell_type": "markdown",
   "metadata": {},
   "source": [
    "The university has an attrition rate of 21%."
   ]
  },
  {
   "cell_type": "code",
   "execution_count": 16,
   "metadata": {},
   "outputs": [
    {
     "data": {
      "image/png": "[encoded data removed]",
      "text/plain": [
       "<Figure size 360x360 with 1 Axes>"
      ]
     },
     "metadata": {
      "needs_background": "light"
     },
     "output_type": "display_data"
    }
   ],
   "source": [
    "sns.catplot(y=\"RETURNED_2ND_YR\", data=data, kind = \"count\")\n",
    "plt.title(\"RETURNED_2ND_YR vs Count\")\n",
    "plt.xlabel(\"Count\")\n",
    "plt.text(6.5,1.8, \"The university has an attrition rate of 21%.\")\n",
    "plt.show()"
   ]
  },
  {
   "cell_type": "markdown",
   "metadata": {},
   "source": [
    "### Examining Independent Variables"
   ]
  },
  {
   "cell_type": "markdown",
   "metadata": {},
   "source": [
    "When analysing independent variables, features will be chosen that are:\n",
    "\n",
    "* <b>Informative</b>\n",
    "* <b>Independent</b>\n",
    "* <b>Simple</b>"
   ]
  },
  {
   "cell_type": "markdown",
   "metadata": {},
   "source": [
    "### Qualitative Data"
   ]
  },
  {
   "cell_type": "markdown",
   "metadata": {},
   "source": [
    "#### STUDENT IDENTIFIER"
   ]
  },
  {
   "cell_type": "code",
   "execution_count": 17,
   "metadata": {},
   "outputs": [
    {
     "data": {
      "text/plain": [
       "3400"
      ]
     },
     "execution_count": 17,
     "metadata": {},
     "output_type": "execute_result"
    }
   ],
   "source": [
    "data[\"STUDENT IDENTIFIER\"].nunique()"
   ]
  },
  {
   "cell_type": "markdown",
   "metadata": {},
   "source": [
    "Due to its high cardinality, this variable will be dropped. Variables with high cardinality are not informative."
   ]
  },
  {
   "cell_type": "code",
   "execution_count": 18,
   "metadata": {},
   "outputs": [],
   "source": [
    "data.drop(\"STUDENT IDENTIFIER\", inplace = True, axis = 1)"
   ]
  },
  {
   "cell_type": "markdown",
   "metadata": {},
   "source": [
    "#### STDNT_GENDER"
   ]
  },
  {
   "cell_type": "code",
   "execution_count": 19,
   "metadata": {},
   "outputs": [
    {
     "data": {
      "text/plain": [
       "F    0.629412\n",
       "M    0.370588\n",
       "Name: STDNT_GENDER, dtype: float64"
      ]
     },
     "execution_count": 19,
     "metadata": {},
     "output_type": "execute_result"
    }
   ],
   "source": [
    "data[\"STDNT_GENDER\"].value_counts()/data.shape[0]"
   ]
  },
  {
   "cell_type": "code",
   "execution_count": 20,
   "metadata": {},
   "outputs": [
    {
     "data": {
      "text/plain": [
       "F    2140\n",
       "M    1260\n",
       "Name: STDNT_GENDER, dtype: int64"
      ]
     },
     "execution_count": 20,
     "metadata": {},
     "output_type": "execute_result"
    }
   ],
   "source": [
    "data[\"STDNT_GENDER\"].value_counts()"
   ]
  },
  {
   "cell_type": "code",
   "execution_count": 21,
   "metadata": {},
   "outputs": [
    {
     "data": {
      "image/png": "[encoded data removed]",
      "text/plain": [
       "<Figure size 467.375x360 with 1 Axes>"
      ]
     },
     "metadata": {
      "needs_background": "light"
     },
     "output_type": "display_data"
    }
   ],
   "source": [
    "sns.catplot(x=\"STDNT_GENDER\", data=data, kind = \"count\", hue = \"RETURNED_2ND_YR\")\n",
    "plt.title(\"Attrition by Gender\")\n",
    "plt.ylabel(\"Count\")\n",
    "plt.xlabel(\"Gender\")\n",
    "plt.show()"
   ]
  },
  {
   "cell_type": "code",
   "execution_count": null,
   "metadata": {},
   "outputs": [],
   "source": []
  },
  {
   "cell_type": "code",
   "execution_count": 22,
   "metadata": {},
   "outputs": [
    {
     "data": {
      "text/html": [
       "<div>\n",
       "<style scoped>\n",
       "    .dataframe tbody tr th:only-of-type {\n",
       "        vertical-align: middle;\n",
       "    }\n",
       "\n",
       "    .dataframe tbody tr th {\n",
       "        vertical-align: top;\n",
       "    }\n",
       "\n",
       "    .dataframe thead th {\n",
       "        text-align: right;\n",
       "    }\n",
       "</style>\n",
       "<table border=\"1\" class=\"dataframe\">\n",
       "  <thead>\n",
       "    <tr style=\"text-align: right;\">\n",
       "      <th>STDNT_GENDER</th>\n",
       "      <th>F</th>\n",
       "      <th>M</th>\n",
       "      <th>All</th>\n",
       "    </tr>\n",
       "    <tr>\n",
       "      <th>RETURNED_2ND_YR</th>\n",
       "      <th></th>\n",
       "      <th></th>\n",
       "      <th></th>\n",
       "    </tr>\n",
       "  </thead>\n",
       "  <tbody>\n",
       "    <tr>\n",
       "      <th>0</th>\n",
       "      <td>0.489706</td>\n",
       "      <td>0.297647</td>\n",
       "      <td>0.787353</td>\n",
       "    </tr>\n",
       "    <tr>\n",
       "      <th>1</th>\n",
       "      <td>0.139706</td>\n",
       "      <td>0.072941</td>\n",
       "      <td>0.212647</td>\n",
       "    </tr>\n",
       "    <tr>\n",
       "      <th>All</th>\n",
       "      <td>0.629412</td>\n",
       "      <td>0.370588</td>\n",
       "      <td>1.000000</td>\n",
       "    </tr>\n",
       "  </tbody>\n",
       "</table>\n",
       "</div>"
      ],
      "text/plain": [
       "STDNT_GENDER            F         M       All\n",
       "RETURNED_2ND_YR                              \n",
       "0                0.489706  0.297647  0.787353\n",
       "1                0.139706  0.072941  0.212647\n",
       "All              0.629412  0.370588  1.000000"
      ]
     },
     "execution_count": 22,
     "metadata": {},
     "output_type": "execute_result"
    }
   ],
   "source": [
    "#Examining relationship between student gender and attrition rate\n",
    "pd.crosstab(data[\"RETURNED_2ND_YR\"], data[\"STDNT_GENDER\"], margins = True)/data.shape[0]"
   ]
  },
  {
   "cell_type": "code",
   "execution_count": 23,
   "metadata": {},
   "outputs": [
    {
     "name": "stdout",
     "output_type": "stream",
     "text": [
      "Proportion of females who drop out = 0.22185894441849602.\n",
      "Proportion of males who drop out = 0.19682539682539682.\n"
     ]
    }
   ],
   "source": [
    "print(f\"Proportion of females who drop out = {475/2141}.\")\n",
    "print(f\"Proportion of males who drop out = {248/1260}.\")"
   ]
  },
  {
   "cell_type": "markdown",
   "metadata": {},
   "source": [
    "The result above shows that the attrition rate does not differ significantly across genders. However, gender is an important attribute and will be kept in the model. "
   ]
  },
  {
   "cell_type": "markdown",
   "metadata": {},
   "source": [
    "<b>Note:</b> This variable will need to be encoded. 1s will be assigned to all instances of males and 0s to females. This is shown below."
   ]
  },
  {
   "cell_type": "code",
   "execution_count": 24,
   "metadata": {},
   "outputs": [],
   "source": [
    "data[\"STDNT_GENDER\"] = data[\"STDNT_GENDER\"].apply(lambda x: 1 if x == \"M\" else 0)"
   ]
  },
  {
   "cell_type": "code",
   "execution_count": null,
   "metadata": {},
   "outputs": [],
   "source": []
  },
  {
   "cell_type": "markdown",
   "metadata": {},
   "source": [
    "#### STDNT_BACKGROUND"
   ]
  },
  {
   "cell_type": "code",
   "execution_count": 25,
   "metadata": {},
   "outputs": [
    {
     "data": {
      "text/plain": [
       "BGD 1    0.612353\n",
       "BGD 3    0.278529\n",
       "BGD 4    0.040882\n",
       "BGD 2    0.031176\n",
       "BGD 6    0.027647\n",
       "BGD 7    0.005588\n",
       "BGD 5    0.002353\n",
       "BGD 8    0.001471\n",
       "Name: STDNT_BACKGROUND, dtype: float64"
      ]
     },
     "execution_count": 25,
     "metadata": {},
     "output_type": "execute_result"
    }
   ],
   "source": [
    "data[\"STDNT_BACKGROUND\"].value_counts()/data.shape[0]"
   ]
  },
  {
   "cell_type": "code",
   "execution_count": 26,
   "metadata": {},
   "outputs": [
    {
     "data": {
      "text/html": [
       "<div>\n",
       "<style scoped>\n",
       "    .dataframe tbody tr th:only-of-type {\n",
       "        vertical-align: middle;\n",
       "    }\n",
       "\n",
       "    .dataframe tbody tr th {\n",
       "        vertical-align: top;\n",
       "    }\n",
       "\n",
       "    .dataframe thead th {\n",
       "        text-align: right;\n",
       "    }\n",
       "</style>\n",
       "<table border=\"1\" class=\"dataframe\">\n",
       "  <thead>\n",
       "    <tr style=\"text-align: right;\">\n",
       "      <th>STDNT_BACKGROUND</th>\n",
       "      <th>BGD 1</th>\n",
       "      <th>BGD 2</th>\n",
       "      <th>BGD 3</th>\n",
       "      <th>BGD 4</th>\n",
       "      <th>BGD 5</th>\n",
       "      <th>BGD 6</th>\n",
       "      <th>BGD 7</th>\n",
       "      <th>BGD 8</th>\n",
       "      <th>All</th>\n",
       "    </tr>\n",
       "    <tr>\n",
       "      <th>RETURNED_2ND_YR</th>\n",
       "      <th></th>\n",
       "      <th></th>\n",
       "      <th></th>\n",
       "      <th></th>\n",
       "      <th></th>\n",
       "      <th></th>\n",
       "      <th></th>\n",
       "      <th></th>\n",
       "      <th></th>\n",
       "    </tr>\n",
       "  </thead>\n",
       "  <tbody>\n",
       "    <tr>\n",
       "      <th>0</th>\n",
       "      <td>1605</td>\n",
       "      <td>82</td>\n",
       "      <td>777</td>\n",
       "      <td>113</td>\n",
       "      <td>4</td>\n",
       "      <td>80</td>\n",
       "      <td>12</td>\n",
       "      <td>4</td>\n",
       "      <td>2677</td>\n",
       "    </tr>\n",
       "    <tr>\n",
       "      <th>1</th>\n",
       "      <td>477</td>\n",
       "      <td>24</td>\n",
       "      <td>170</td>\n",
       "      <td>26</td>\n",
       "      <td>4</td>\n",
       "      <td>14</td>\n",
       "      <td>7</td>\n",
       "      <td>1</td>\n",
       "      <td>723</td>\n",
       "    </tr>\n",
       "    <tr>\n",
       "      <th>All</th>\n",
       "      <td>2082</td>\n",
       "      <td>106</td>\n",
       "      <td>947</td>\n",
       "      <td>139</td>\n",
       "      <td>8</td>\n",
       "      <td>94</td>\n",
       "      <td>19</td>\n",
       "      <td>5</td>\n",
       "      <td>3400</td>\n",
       "    </tr>\n",
       "  </tbody>\n",
       "</table>\n",
       "</div>"
      ],
      "text/plain": [
       "STDNT_BACKGROUND  BGD 1  BGD 2  BGD 3  BGD 4  BGD 5  BGD 6  BGD 7  BGD 8   All\n",
       "RETURNED_2ND_YR                                                               \n",
       "0                  1605     82    777    113      4     80     12      4  2677\n",
       "1                   477     24    170     26      4     14      7      1   723\n",
       "All                2082    106    947    139      8     94     19      5  3400"
      ]
     },
     "execution_count": 26,
     "metadata": {},
     "output_type": "execute_result"
    }
   ],
   "source": [
    "#Examining relationship between student background and attrition\n",
    "pd.crosstab(data[\"RETURNED_2ND_YR\"], data[\"STDNT_BACKGROUND\"], margins = True)"
   ]
  },
  {
   "cell_type": "code",
   "execution_count": 27,
   "metadata": {},
   "outputs": [
    {
     "name": "stdout",
     "output_type": "stream",
     "text": [
      "Proportion of BGD 1 students who drop out = 0.22910662824207492.\n",
      "Proportion of BGD 2 students who drop out = 0.22641509433962265.\n",
      "Proportion of BGD 3 students who drop out = 0.1795142555438226.\n",
      "Proportion of BGD 4 students who drop out = 0.18705035971223022.\n",
      "Proportion of BGD 5 students who drop out = 0.5.\n",
      "Proportion of BGD 6 students who drop out = 0.14893617021276595.\n",
      "Proportion of BGD 7 students who drop out = 0.3684210526315789.\n",
      "Proportion of BGD 8 students who drop out = 0.2.\n"
     ]
    }
   ],
   "source": [
    "print(f\"Proportion of BGD 1 students who drop out = {477/2082}.\")\n",
    "print(f\"Proportion of BGD 2 students who drop out = {24/106}.\")\n",
    "print(f\"Proportion of BGD 3 students who drop out = {170/947}.\")\n",
    "print(f\"Proportion of BGD 4 students who drop out = {26/139}.\")\n",
    "print(f\"Proportion of BGD 5 students who drop out = {4/8}.\")\n",
    "print(f\"Proportion of BGD 6 students who drop out = {14/94}.\")\n",
    "print(f\"Proportion of BGD 7 students who drop out = {7/19}.\")\n",
    "print(f\"Proportion of BGD 8 students who drop out = {1/5}.\")"
   ]
  },
  {
   "cell_type": "code",
   "execution_count": 28,
   "metadata": {},
   "outputs": [
    {
     "data": {
      "text/plain": [
       "<seaborn.axisgrid.FacetGrid at 0x121311730>"
      ]
     },
     "execution_count": 28,
     "metadata": {},
     "output_type": "execute_result"
    },
    {
     "data": {
      "image/png": "[encoded data removed]",
      "text/plain": [
       "<Figure size 360x360 with 1 Axes>"
      ]
     },
     "metadata": {
      "needs_background": "light"
     },
     "output_type": "display_data"
    }
   ],
   "source": [
    "sns.catplot(x = \"STDNT_BACKGROUND\", data=data, kind = \"count\")"
   ]
  },
  {
   "cell_type": "markdown",
   "metadata": {},
   "source": [
    "This variable can be engineered as follows: create one bucket for BGD 1 and another bucket for the other categories."
   ]
  },
  {
   "cell_type": "code",
   "execution_count": 29,
   "metadata": {},
   "outputs": [],
   "source": [
    "data[\"STDNT_BACKGROUND\"] = data[\"STDNT_BACKGROUND\"].apply(lambda x: \"BGD 1\" if x == \"BGD 1\" else \"OTHER\")"
   ]
  },
  {
   "cell_type": "code",
   "execution_count": 30,
   "metadata": {},
   "outputs": [
    {
     "data": {
      "text/html": [
       "<div>\n",
       "<style scoped>\n",
       "    .dataframe tbody tr th:only-of-type {\n",
       "        vertical-align: middle;\n",
       "    }\n",
       "\n",
       "    .dataframe tbody tr th {\n",
       "        vertical-align: top;\n",
       "    }\n",
       "\n",
       "    .dataframe thead th {\n",
       "        text-align: right;\n",
       "    }\n",
       "</style>\n",
       "<table border=\"1\" class=\"dataframe\">\n",
       "  <thead>\n",
       "    <tr style=\"text-align: right;\">\n",
       "      <th>STDNT_BACKGROUND</th>\n",
       "      <th>BGD 1</th>\n",
       "      <th>OTHER</th>\n",
       "      <th>All</th>\n",
       "    </tr>\n",
       "    <tr>\n",
       "      <th>RETURNED_2ND_YR</th>\n",
       "      <th></th>\n",
       "      <th></th>\n",
       "      <th></th>\n",
       "    </tr>\n",
       "  </thead>\n",
       "  <tbody>\n",
       "    <tr>\n",
       "      <th>0</th>\n",
       "      <td>1605</td>\n",
       "      <td>1072</td>\n",
       "      <td>2677</td>\n",
       "    </tr>\n",
       "    <tr>\n",
       "      <th>1</th>\n",
       "      <td>477</td>\n",
       "      <td>246</td>\n",
       "      <td>723</td>\n",
       "    </tr>\n",
       "    <tr>\n",
       "      <th>All</th>\n",
       "      <td>2082</td>\n",
       "      <td>1318</td>\n",
       "      <td>3400</td>\n",
       "    </tr>\n",
       "  </tbody>\n",
       "</table>\n",
       "</div>"
      ],
      "text/plain": [
       "STDNT_BACKGROUND  BGD 1  OTHER   All\n",
       "RETURNED_2ND_YR                     \n",
       "0                  1605   1072  2677\n",
       "1                   477    246   723\n",
       "All                2082   1318  3400"
      ]
     },
     "execution_count": 30,
     "metadata": {},
     "output_type": "execute_result"
    }
   ],
   "source": [
    "pd.crosstab(data[\"RETURNED_2ND_YR\"], data[\"STDNT_BACKGROUND\"], margins = True)"
   ]
  },
  {
   "cell_type": "code",
   "execution_count": 31,
   "metadata": {},
   "outputs": [
    {
     "name": "stdout",
     "output_type": "stream",
     "text": [
      "Proportion of BGD 1 students who drop out = 0.22910662824207492.\n",
      "Proportion of OTHER students who drop out = 0.18664643399089528.\n"
     ]
    }
   ],
   "source": [
    "print(f\"Proportion of BGD 1 students who drop out = {477/2082}.\")\n",
    "print(f\"Proportion of OTHER students who drop out = {246/1318}.\")"
   ]
  },
  {
   "cell_type": "code",
   "execution_count": 32,
   "metadata": {},
   "outputs": [
    {
     "data": {
      "text/plain": [
       "<seaborn.axisgrid.FacetGrid at 0x121079730>"
      ]
     },
     "execution_count": 32,
     "metadata": {},
     "output_type": "execute_result"
    },
    {
     "data": {
      "image/png": "[encoded data removed]",
      "text/plain": [
       "<Figure size 478.5x360 with 1 Axes>"
      ]
     },
     "metadata": {
      "needs_background": "light"
     },
     "output_type": "display_data"
    }
   ],
   "source": [
    "sns.catplot(x=\"RETURNED_2ND_YR\", hue = \"STDNT_BACKGROUND\", data=data, kind = \"count\")"
   ]
  },
  {
   "cell_type": "markdown",
   "metadata": {},
   "source": [
    "From the graph above, it is difficult to ascertain whether backgrounds are associated with student attrition. The results from the cross-tabulation show that 23% of students from BGD 1 drop out, compared to 19% from the other backgrounds. While this difference may seem negligible, it significantly reduces the number of bins, making the final model more efficient."
   ]
  },
  {
   "cell_type": "code",
   "execution_count": null,
   "metadata": {},
   "outputs": [],
   "source": []
  },
  {
   "cell_type": "markdown",
   "metadata": {},
   "source": [
    "#### IN_STATE_FLAG"
   ]
  },
  {
   "cell_type": "code",
   "execution_count": 33,
   "metadata": {},
   "outputs": [
    {
     "data": {
      "text/plain": [
       "Y    0.900882\n",
       "N    0.099118\n",
       "Name: IN_STATE_FLAG, dtype: float64"
      ]
     },
     "execution_count": 33,
     "metadata": {},
     "output_type": "execute_result"
    }
   ],
   "source": [
    "data[\"IN_STATE_FLAG\"].value_counts()/data.shape[0]"
   ]
  },
  {
   "cell_type": "code",
   "execution_count": 34,
   "metadata": {},
   "outputs": [
    {
     "data": {
      "text/plain": [
       "<seaborn.axisgrid.FacetGrid at 0x12121d1f0>"
      ]
     },
     "execution_count": 34,
     "metadata": {},
     "output_type": "execute_result"
    },
    {
     "data": {
      "image/png": "[encoded data removed]",
      "text/plain": [
       "<Figure size 360x360 with 1 Axes>"
      ]
     },
     "metadata": {
      "needs_background": "light"
     },
     "output_type": "display_data"
    }
   ],
   "source": [
    "sns.catplot(x=\"IN_STATE_FLAG\", data=data, kind = \"count\")"
   ]
  },
  {
   "cell_type": "code",
   "execution_count": 35,
   "metadata": {},
   "outputs": [
    {
     "data": {
      "text/html": [
       "<div>\n",
       "<style scoped>\n",
       "    .dataframe tbody tr th:only-of-type {\n",
       "        vertical-align: middle;\n",
       "    }\n",
       "\n",
       "    .dataframe tbody tr th {\n",
       "        vertical-align: top;\n",
       "    }\n",
       "\n",
       "    .dataframe thead th {\n",
       "        text-align: right;\n",
       "    }\n",
       "</style>\n",
       "<table border=\"1\" class=\"dataframe\">\n",
       "  <thead>\n",
       "    <tr style=\"text-align: right;\">\n",
       "      <th>IN_STATE_FLAG</th>\n",
       "      <th>N</th>\n",
       "      <th>Y</th>\n",
       "      <th>All</th>\n",
       "    </tr>\n",
       "    <tr>\n",
       "      <th>RETURNED_2ND_YR</th>\n",
       "      <th></th>\n",
       "      <th></th>\n",
       "      <th></th>\n",
       "    </tr>\n",
       "  </thead>\n",
       "  <tbody>\n",
       "    <tr>\n",
       "      <th>0</th>\n",
       "      <td>248</td>\n",
       "      <td>2429</td>\n",
       "      <td>2677</td>\n",
       "    </tr>\n",
       "    <tr>\n",
       "      <th>1</th>\n",
       "      <td>89</td>\n",
       "      <td>634</td>\n",
       "      <td>723</td>\n",
       "    </tr>\n",
       "    <tr>\n",
       "      <th>All</th>\n",
       "      <td>337</td>\n",
       "      <td>3063</td>\n",
       "      <td>3400</td>\n",
       "    </tr>\n",
       "  </tbody>\n",
       "</table>\n",
       "</div>"
      ],
      "text/plain": [
       "IN_STATE_FLAG      N     Y   All\n",
       "RETURNED_2ND_YR                 \n",
       "0                248  2429  2677\n",
       "1                 89   634   723\n",
       "All              337  3063  3400"
      ]
     },
     "execution_count": 35,
     "metadata": {},
     "output_type": "execute_result"
    }
   ],
   "source": [
    "#Examining relationship between in state flag and attrition\n",
    "pd.crosstab(data[\"RETURNED_2ND_YR\"], data[\"IN_STATE_FLAG\"], margins = True)"
   ]
  },
  {
   "cell_type": "markdown",
   "metadata": {},
   "source": [
    "26% of students who are not from the state drop out, compared to 21% for students from the state. As was the case with gender, this seems like an informative feature to have for the model - as it is an important statistic for universities. "
   ]
  },
  {
   "cell_type": "markdown",
   "metadata": {},
   "source": [
    "<b>Note:</b> This variable will need to be encoded when used in the model."
   ]
  },
  {
   "cell_type": "code",
   "execution_count": 36,
   "metadata": {},
   "outputs": [],
   "source": [
    "data[\"IN_STATE_FLAG\"] = data[\"IN_STATE_FLAG\"].apply(lambda x: 1 if x == \"Y\" else 0)"
   ]
  },
  {
   "cell_type": "code",
   "execution_count": null,
   "metadata": {},
   "outputs": [],
   "source": []
  },
  {
   "cell_type": "markdown",
   "metadata": {},
   "source": [
    "#### INTERNATIONAL_STS"
   ]
  },
  {
   "cell_type": "code",
   "execution_count": 37,
   "metadata": {},
   "outputs": [
    {
     "data": {
      "text/plain": [
       "N    0.992059\n",
       "Y    0.007941\n",
       "Name: INTERNATIONAL_STS, dtype: float64"
      ]
     },
     "execution_count": 37,
     "metadata": {},
     "output_type": "execute_result"
    }
   ],
   "source": [
    "data[\"INTERNATIONAL_STS\"].value_counts()/data.shape[0]"
   ]
  },
  {
   "cell_type": "code",
   "execution_count": 38,
   "metadata": {},
   "outputs": [
    {
     "data": {
      "text/html": [
       "<div>\n",
       "<style scoped>\n",
       "    .dataframe tbody tr th:only-of-type {\n",
       "        vertical-align: middle;\n",
       "    }\n",
       "\n",
       "    .dataframe tbody tr th {\n",
       "        vertical-align: top;\n",
       "    }\n",
       "\n",
       "    .dataframe thead th {\n",
       "        text-align: right;\n",
       "    }\n",
       "</style>\n",
       "<table border=\"1\" class=\"dataframe\">\n",
       "  <thead>\n",
       "    <tr style=\"text-align: right;\">\n",
       "      <th>INTERNATIONAL_STS</th>\n",
       "      <th>N</th>\n",
       "      <th>Y</th>\n",
       "      <th>All</th>\n",
       "    </tr>\n",
       "    <tr>\n",
       "      <th>RETURNED_2ND_YR</th>\n",
       "      <th></th>\n",
       "      <th></th>\n",
       "      <th></th>\n",
       "    </tr>\n",
       "  </thead>\n",
       "  <tbody>\n",
       "    <tr>\n",
       "      <th>0</th>\n",
       "      <td>2662</td>\n",
       "      <td>15</td>\n",
       "      <td>2677</td>\n",
       "    </tr>\n",
       "    <tr>\n",
       "      <th>1</th>\n",
       "      <td>711</td>\n",
       "      <td>12</td>\n",
       "      <td>723</td>\n",
       "    </tr>\n",
       "    <tr>\n",
       "      <th>All</th>\n",
       "      <td>3373</td>\n",
       "      <td>27</td>\n",
       "      <td>3400</td>\n",
       "    </tr>\n",
       "  </tbody>\n",
       "</table>\n",
       "</div>"
      ],
      "text/plain": [
       "INTERNATIONAL_STS     N   Y   All\n",
       "RETURNED_2ND_YR                  \n",
       "0                  2662  15  2677\n",
       "1                   711  12   723\n",
       "All                3373  27  3400"
      ]
     },
     "execution_count": 38,
     "metadata": {},
     "output_type": "execute_result"
    }
   ],
   "source": [
    "#Examining the relationship between international students and attrition rate\n",
    "pd.crosstab(data[\"RETURNED_2ND_YR\"], data[\"INTERNATIONAL_STS\"], margins = True)"
   ]
  },
  {
   "cell_type": "markdown",
   "metadata": {},
   "source": [
    "Almost 40% of international students who attend the university drop out. While the total number of international students itself is very low, this is an interesting finding, and may of use to the university. "
   ]
  },
  {
   "cell_type": "markdown",
   "metadata": {},
   "source": [
    "<b>Note:</b> This variable will need to be encoded."
   ]
  },
  {
   "cell_type": "code",
   "execution_count": 39,
   "metadata": {},
   "outputs": [],
   "source": [
    "data[\"INTERNATIONAL_STS\"] = data[\"INTERNATIONAL_STS\"].apply(lambda x: 1 if x == \"Y\" else 0)"
   ]
  },
  {
   "cell_type": "code",
   "execution_count": null,
   "metadata": {},
   "outputs": [],
   "source": []
  },
  {
   "cell_type": "markdown",
   "metadata": {},
   "source": [
    "#### STDNT_MAJOR"
   ]
  },
  {
   "cell_type": "code",
   "execution_count": 40,
   "metadata": {},
   "outputs": [
    {
     "data": {
      "text/plain": [
       "54"
      ]
     },
     "execution_count": 40,
     "metadata": {},
     "output_type": "execute_result"
    }
   ],
   "source": [
    "data[\"STDNT_MAJOR\"].nunique()"
   ]
  },
  {
   "cell_type": "code",
   "execution_count": 41,
   "metadata": {},
   "outputs": [
    {
     "data": {
      "text/plain": [
       "Undeclared                        460\n",
       "Biology                           362\n",
       "Early Childhood Education         190\n",
       "Pre-Nursing                       177\n",
       "Nursing                           164\n",
       "Psychology                        155\n",
       "Pre-Business                      133\n",
       "Theatre Arts                      131\n",
       "Music Performance                  99\n",
       "Criminal Justice                   98\n",
       "Music Education                    96\n",
       "General Business                   85\n",
       "Exercise Science                   81\n",
       "Art                                75\n",
       "Management                         72\n",
       "Communication                      70\n",
       "Chemistry                          64\n",
       "Political Science                  64\n",
       "Engineering Studies                60\n",
       "English Language/Literature        60\n",
       "Marketing                          59\n",
       "Computer Science - Systems         58\n",
       "Accounting                         54\n",
       "Health Science                     48\n",
       "Computer Science - Games           40\n",
       "Joint Enrollment - Accel           35\n",
       "History                            33\n",
       "Applied Computer Science           32\n",
       "Theatre Education                  29\n",
       "English and Secondary Ed           28\n",
       "Pre-Engineering/RETP               27\n",
       "History and Secondary Ed           27\n",
       "Mathematics                        26\n",
       "Finance                            24\n",
       "Management Information Systems     21\n",
       "Sociology                          20\n",
       "Health and Physical Education      20\n",
       "Middle Grades Education            17\n",
       "Music                              17\n",
       "Spec Ed: Gen. Curr. - Reading      13\n",
       "General Studies/AS                 12\n",
       "Mathematics and Secondary Ed       11\n",
       "Information Technology             10\n",
       "Art Education                       9\n",
       "Biology and Secondary Ed            5\n",
       "Spanish                             5\n",
       "Geology                             4\n",
       "French                              4\n",
       "French with Teacher Cert            4\n",
       "Spanish with Teacher Cert           4\n",
       "Early Admission - Accel             3\n",
       "Earth and Space Science             2\n",
       "Chemistry and Secondary Ed          2\n",
       "Liberal Arts                        1\n",
       "Name: STDNT_MAJOR, dtype: int64"
      ]
     },
     "execution_count": 41,
     "metadata": {},
     "output_type": "execute_result"
    }
   ],
   "source": [
    "data[\"STDNT_MAJOR\"].value_counts()"
   ]
  },
  {
   "cell_type": "markdown",
   "metadata": {},
   "source": [
    "One method of engineering this variable would be to assign bins according the respective schools of the subject (i.e. Mathematics&Sciences, Education, English&Arts&Languages, etc.). While a tedious task, knowledge of student performance across various schools can be very useful to the university."
   ]
  },
  {
   "cell_type": "code",
   "execution_count": 42,
   "metadata": {},
   "outputs": [],
   "source": [
    "#Binning the Student Major Variables: Separating majors into UNDECLARED/MATHEMATICS & SCIENCES/ENGLISH \n",
    "MS = [\"Biology\", \"Pre-Nursing\", \"Nursing\", \"Exercise Science\", \"Chemistry\",\n",
    "     \"Engineering Studies\", \"Computer Science - Systems\", \"Accounting\", \"Health Science\",\n",
    "     \"Computer Science - Games\", \"Join Enrollment - Accel\", \"Applied Computer Science\",\n",
    "     \"Pre-Engineering/RETP\", \"Mathematics\", \"Management Information Systems\", \"Information Technology\",\n",
    "     \"Geology\", \"Early Admission - Accel\", \"Earth and Space Science\"]\n",
    "\n",
    "\n",
    "EAL = [\"Theatre Arts\", \"Musical Performance\", \"Art\", \"English Language/Literature\", \"Music\",\n",
    "      \"Spec Ed: Gen. Curr. - Reading\", \"Spanish\", \"French\", \"Liberal Arts\"]\n",
    "\n",
    "BMS = [\"Pre-Business\", \"Criminal Justice\", \"General Business\", \"Management\", \"Communication\",\n",
    "      \"Political Science\", \"Marketing\", \"History\", \"Finance\", \"Sociology\", \"General Studies/AS\", \"Psychology\"]\n",
    "\n",
    "EDU = [\"Early Childhood Education\", \"Music Education\", \"Theatre Education\", \"English and Secondary Education\",\n",
    "      \"History and Secondary Education\", \"Health and Physical Education\", \"Middle Grades Education\",\n",
    "      \"Mathematics and Secondary Ed\", \"Art Education\", \"Biology and Secondary Ed\", \"Spanish with Teacher Cert\",\n",
    "      \"French with Teacher Cert\", \"Chemistry and Secondary Ed\"]\n",
    "\n",
    "#Function to bin Student Majors\n",
    "def subject_binning(item):\n",
    "        \n",
    "        if item in MS:\n",
    "            \n",
    "            return \"MS\"\n",
    "        \n",
    "        elif item in EAL:\n",
    "            \n",
    "            return \"EAL\"\n",
    "        \n",
    "        elif item in BMS:\n",
    "            \n",
    "            return \"BMS\"\n",
    "        \n",
    "        elif item in EDU:\n",
    "            \n",
    "            return \"EDU\"\n",
    "        \n",
    "        elif item == \"Undeclared\":\n",
    "            \n",
    "            return \"Undeclared\""
   ]
  },
  {
   "cell_type": "code",
   "execution_count": 43,
   "metadata": {},
   "outputs": [],
   "source": [
    "data[\"STDNT_MAJOR\"] = data[\"STDNT_MAJOR\"].map(subject_binning)"
   ]
  },
  {
   "cell_type": "code",
   "execution_count": 44,
   "metadata": {},
   "outputs": [
    {
     "data": {
      "text/plain": [
       "MS            0.362647\n",
       "BMS           0.242647\n",
       "Undeclared    0.135294\n",
       "EDU           0.113824\n",
       "EAL           0.090000\n",
       "Name: STDNT_MAJOR, dtype: float64"
      ]
     },
     "execution_count": 44,
     "metadata": {},
     "output_type": "execute_result"
    }
   ],
   "source": [
    "data[\"STDNT_MAJOR\"].value_counts()/data.shape[0]"
   ]
  },
  {
   "cell_type": "code",
   "execution_count": 45,
   "metadata": {},
   "outputs": [
    {
     "data": {
      "text/html": [
       "<div>\n",
       "<style scoped>\n",
       "    .dataframe tbody tr th:only-of-type {\n",
       "        vertical-align: middle;\n",
       "    }\n",
       "\n",
       "    .dataframe tbody tr th {\n",
       "        vertical-align: top;\n",
       "    }\n",
       "\n",
       "    .dataframe thead th {\n",
       "        text-align: right;\n",
       "    }\n",
       "</style>\n",
       "<table border=\"1\" class=\"dataframe\">\n",
       "  <thead>\n",
       "    <tr style=\"text-align: right;\">\n",
       "      <th>STDNT_MAJOR</th>\n",
       "      <th>BMS</th>\n",
       "      <th>EAL</th>\n",
       "      <th>EDU</th>\n",
       "      <th>MS</th>\n",
       "      <th>Undeclared</th>\n",
       "      <th>All</th>\n",
       "    </tr>\n",
       "    <tr>\n",
       "      <th>RETURNED_2ND_YR</th>\n",
       "      <th></th>\n",
       "      <th></th>\n",
       "      <th></th>\n",
       "      <th></th>\n",
       "      <th></th>\n",
       "      <th></th>\n",
       "    </tr>\n",
       "  </thead>\n",
       "  <tbody>\n",
       "    <tr>\n",
       "      <th>0</th>\n",
       "      <td>629</td>\n",
       "      <td>257</td>\n",
       "      <td>323</td>\n",
       "      <td>953</td>\n",
       "      <td>349</td>\n",
       "      <td>2511</td>\n",
       "    </tr>\n",
       "    <tr>\n",
       "      <th>1</th>\n",
       "      <td>196</td>\n",
       "      <td>49</td>\n",
       "      <td>64</td>\n",
       "      <td>280</td>\n",
       "      <td>111</td>\n",
       "      <td>700</td>\n",
       "    </tr>\n",
       "    <tr>\n",
       "      <th>All</th>\n",
       "      <td>825</td>\n",
       "      <td>306</td>\n",
       "      <td>387</td>\n",
       "      <td>1233</td>\n",
       "      <td>460</td>\n",
       "      <td>3211</td>\n",
       "    </tr>\n",
       "  </tbody>\n",
       "</table>\n",
       "</div>"
      ],
      "text/plain": [
       "STDNT_MAJOR      BMS  EAL  EDU    MS  Undeclared   All\n",
       "RETURNED_2ND_YR                                       \n",
       "0                629  257  323   953         349  2511\n",
       "1                196   49   64   280         111   700\n",
       "All              825  306  387  1233         460  3211"
      ]
     },
     "execution_count": 45,
     "metadata": {},
     "output_type": "execute_result"
    }
   ],
   "source": [
    "#Examining the affects of student major on attrition rate \n",
    "pd.crosstab(data[\"RETURNED_2ND_YR\"], data[\"STDNT_MAJOR\"], margins = True)"
   ]
  },
  {
   "cell_type": "code",
   "execution_count": 46,
   "metadata": {},
   "outputs": [
    {
     "data": {
      "text/plain": [
       "Text(19.714826388888895, 0.5, 'Count')"
      ]
     },
     "execution_count": 46,
     "metadata": {},
     "output_type": "execute_result"
    },
    {
     "data": {
      "image/png": "[encoded data removed]",
      "text/plain": [
       "<Figure size 467.375x360 with 1 Axes>"
      ]
     },
     "metadata": {
      "needs_background": "light"
     },
     "output_type": "display_data"
    }
   ],
   "source": [
    "sns.catplot(x = \"STDNT_MAJOR\", data = data, kind = 'count', hue = \"RETURNED_2ND_YR\")\n",
    "plt.title(\"Total per Major Category (filtered by attrition)\")\n",
    "plt.xlabel(\"Student Major Category\")\n",
    "plt.ylabel(\"Count\")"
   ]
  },
  {
   "cell_type": "code",
   "execution_count": 47,
   "metadata": {},
   "outputs": [
    {
     "data": {
      "text/plain": [
       "Text(-2.700000000000003, 0.5, 'Count')"
      ]
     },
     "execution_count": 47,
     "metadata": {},
     "output_type": "execute_result"
    },
    {
     "data": {
      "image/png": "[encoded data removed]",
      "text/plain": [
       "<Figure size 360x360 with 1 Axes>"
      ]
     },
     "metadata": {
      "needs_background": "light"
     },
     "output_type": "display_data"
    }
   ],
   "source": [
    "sns.catplot(x = \"STDNT_MAJOR\", data = data, kind = 'count')\n",
    "plt.title(\"Total Students per Major Category\")\n",
    "plt.xlabel(\"Student Major Category\")\n",
    "plt.ylabel(\"Count\")"
   ]
  },
  {
   "cell_type": "markdown",
   "metadata": {},
   "source": [
    "The results to the left show the following:\n",
    "\n",
    "* <b>BMS</b> - 23.7% drop-out rate\n",
    "* <b>EAL</b> - 16.7% drop-out rate\n",
    "* <b>EDU</b> - 16.5% drop-out rate\n",
    "* <b>MS</b> - 22.7% drop-out rate\n",
    "* <b>Undeclared</b> - 24% drop-out rate"
   ]
  },
  {
   "cell_type": "code",
   "execution_count": null,
   "metadata": {},
   "outputs": [],
   "source": []
  },
  {
   "cell_type": "markdown",
   "metadata": {},
   "source": [
    "#### STDNT_MINOR"
   ]
  },
  {
   "cell_type": "code",
   "execution_count": 48,
   "metadata": {},
   "outputs": [
    {
     "data": {
      "text/plain": [
       "N                                0.929412\n",
       "Spanish                          0.007647\n",
       "Psychology                       0.005588\n",
       "Music                            0.005588\n",
       "Foundations of Business          0.004412\n",
       "Communication                    0.004118\n",
       "History                          0.003824\n",
       "Theatre Arts                     0.003529\n",
       "Criminal Justice                 0.003529\n",
       "Computer Science - Systems       0.002941\n",
       "Early Childhood Education        0.002647\n",
       "Mathematics                      0.002059\n",
       "Art History                      0.001765\n",
       "Marketing                        0.001765\n",
       "Professional Writing             0.001765\n",
       "Sociology                        0.001471\n",
       "English Language/Literature      0.001471\n",
       "Art                              0.001471\n",
       "Chemistry                        0.001176\n",
       "Biology                          0.001176\n",
       "Accounting                       0.001176\n",
       "Political Science                0.001176\n",
       "French                           0.001176\n",
       "International Business           0.000882\n",
       "Computer Info. Management        0.000882\n",
       "Economics                        0.000882\n",
       "Exercise Science                 0.000882\n",
       "Health Science                   0.000882\n",
       "Anthropology                     0.000588\n",
       "Military Sci & Adv Leadership    0.000588\n",
       "Philosophy                       0.000588\n",
       "African Studies                  0.000588\n",
       "Asian Studies                    0.000588\n",
       "Creative Writing                 0.000588\n",
       "Management                       0.000588\n",
       "Women's Studies                  0.000294\n",
       "Finance                          0.000294\n",
       "Name: STDNT_MINOR, dtype: float64"
      ]
     },
     "execution_count": 48,
     "metadata": {},
     "output_type": "execute_result"
    }
   ],
   "source": [
    "data[\"STDNT_MINOR\"].value_counts()/data.shape[0]"
   ]
  },
  {
   "cell_type": "markdown",
   "metadata": {},
   "source": [
    "This variables can be engineered as follows: one bucket for N and another for the rest of the minor subjects."
   ]
  },
  {
   "cell_type": "code",
   "execution_count": 49,
   "metadata": {},
   "outputs": [],
   "source": [
    "data[\"STDNT_MINOR\"] = data[\"STDNT_MINOR\"].apply(lambda x: \"N\" if x == \"N\" else \"OTHER\")"
   ]
  },
  {
   "cell_type": "code",
   "execution_count": 50,
   "metadata": {},
   "outputs": [
    {
     "data": {
      "text/plain": [
       "N        0.929412\n",
       "OTHER    0.070588\n",
       "Name: STDNT_MINOR, dtype: float64"
      ]
     },
     "execution_count": 50,
     "metadata": {},
     "output_type": "execute_result"
    }
   ],
   "source": [
    "data[\"STDNT_MINOR\"].value_counts()/data.shape[0]"
   ]
  },
  {
   "cell_type": "code",
   "execution_count": 51,
   "metadata": {},
   "outputs": [
    {
     "data": {
      "text/html": [
       "<div>\n",
       "<style scoped>\n",
       "    .dataframe tbody tr th:only-of-type {\n",
       "        vertical-align: middle;\n",
       "    }\n",
       "\n",
       "    .dataframe tbody tr th {\n",
       "        vertical-align: top;\n",
       "    }\n",
       "\n",
       "    .dataframe thead th {\n",
       "        text-align: right;\n",
       "    }\n",
       "</style>\n",
       "<table border=\"1\" class=\"dataframe\">\n",
       "  <thead>\n",
       "    <tr style=\"text-align: right;\">\n",
       "      <th>STDNT_MINOR</th>\n",
       "      <th>N</th>\n",
       "      <th>OTHER</th>\n",
       "      <th>All</th>\n",
       "    </tr>\n",
       "    <tr>\n",
       "      <th>RETURNED_2ND_YR</th>\n",
       "      <th></th>\n",
       "      <th></th>\n",
       "      <th></th>\n",
       "    </tr>\n",
       "  </thead>\n",
       "  <tbody>\n",
       "    <tr>\n",
       "      <th>0</th>\n",
       "      <td>2485</td>\n",
       "      <td>192</td>\n",
       "      <td>2677</td>\n",
       "    </tr>\n",
       "    <tr>\n",
       "      <th>1</th>\n",
       "      <td>675</td>\n",
       "      <td>48</td>\n",
       "      <td>723</td>\n",
       "    </tr>\n",
       "    <tr>\n",
       "      <th>All</th>\n",
       "      <td>3160</td>\n",
       "      <td>240</td>\n",
       "      <td>3400</td>\n",
       "    </tr>\n",
       "  </tbody>\n",
       "</table>\n",
       "</div>"
      ],
      "text/plain": [
       "STDNT_MINOR         N  OTHER   All\n",
       "RETURNED_2ND_YR                   \n",
       "0                2485    192  2677\n",
       "1                 675     48   723\n",
       "All              3160    240  3400"
      ]
     },
     "execution_count": 51,
     "metadata": {},
     "output_type": "execute_result"
    }
   ],
   "source": [
    "pd.crosstab(data[\"RETURNED_2ND_YR\"], data[\"STDNT_MINOR\"], margins = True)"
   ]
  },
  {
   "cell_type": "code",
   "execution_count": 52,
   "metadata": {},
   "outputs": [
    {
     "name": "stdout",
     "output_type": "stream",
     "text": [
      "Drop out rate of students with undeclared minor = 0.21360759493670886.\n",
      "Drop out rate of students with declared minor = 0.2.\n"
     ]
    }
   ],
   "source": [
    "print(f\"Drop out rate of students with undeclared minor = {675/3160}.\")\n",
    "print(f\"Drop out rate of students with declared minor = {48/240}.\")"
   ]
  },
  {
   "cell_type": "markdown",
   "metadata": {},
   "source": [
    "There is no discernable difference between the two categories. This variable can be dropped. "
   ]
  },
  {
   "cell_type": "code",
   "execution_count": null,
   "metadata": {},
   "outputs": [],
   "source": []
  },
  {
   "cell_type": "markdown",
   "metadata": {},
   "source": [
    "#### CORE_COURSE_NAME & CORE_COURSE_GRADE"
   ]
  },
  {
   "cell_type": "markdown",
   "metadata": {},
   "source": [
    "After dropping variables with more than 10% missing values, the following variables remained:\n",
    "\n",
    "* <b>CORE_COURSE_NAME_1_F</b>\n",
    "* <b>CORE_COURSE_GRADE_1_F</b>\n",
    "* <b>CORE_COURSE_NAME_2_F</b>\n",
    "* <b>CORE_COURSE_GRADE_2_F</b>\n",
    "* <b>CORE_COURSE_NAME_1_S</b>\n",
    "* <b>CORE_COURSE_GRADE_1_S</b>"
   ]
  },
  {
   "cell_type": "markdown",
   "metadata": {},
   "source": [
    "The name variables will all be dropped. The subjects associated with each student have been captured in the <b>STDNT_MAJOR</b> feature. "
   ]
  },
  {
   "cell_type": "code",
   "execution_count": 53,
   "metadata": {},
   "outputs": [],
   "source": [
    "data.drop([\"CORE_COURSE_NAME_1_F\", \"CORE_COURSE_NAME_2_F\", \"CORE_COURSE_NAME_1_S\"], axis = 1, inplace = True)"
   ]
  },
  {
   "cell_type": "code",
   "execution_count": null,
   "metadata": {},
   "outputs": [],
   "source": []
  },
  {
   "cell_type": "markdown",
   "metadata": {},
   "source": [
    "#### CORE_COURSE_GRADE_1_F"
   ]
  },
  {
   "cell_type": "code",
   "execution_count": 54,
   "metadata": {},
   "outputs": [
    {
     "data": {
      "text/plain": [
       "C          0.301176\n",
       "B          0.276765\n",
       "D          0.158235\n",
       "F          0.129412\n",
       "A          0.094706\n",
       "NOT REP    0.031176\n",
       "INCOMPL    0.008529\n",
       "Name: CORE_COURSE_GRADE_1_F, dtype: float64"
      ]
     },
     "execution_count": 54,
     "metadata": {},
     "output_type": "execute_result"
    }
   ],
   "source": [
    "data[\"CORE_COURSE_GRADE_1_F\"].value_counts()/data.shape[0]"
   ]
  },
  {
   "cell_type": "code",
   "execution_count": 55,
   "metadata": {},
   "outputs": [
    {
     "data": {
      "text/plain": [
       "<seaborn.axisgrid.FacetGrid at 0x1210ade50>"
      ]
     },
     "execution_count": 55,
     "metadata": {},
     "output_type": "execute_result"
    },
    {
     "data": {
      "image/png": "[encoded data removed]",
      "text/plain": [
       "<Figure size 360x360 with 1 Axes>"
      ]
     },
     "metadata": {
      "needs_background": "light"
     },
     "output_type": "display_data"
    }
   ],
   "source": [
    "sns.catplot(x = \"CORE_COURSE_GRADE_1_F\", kind = \"count\", data = data)"
   ]
  },
  {
   "cell_type": "code",
   "execution_count": 56,
   "metadata": {},
   "outputs": [
    {
     "data": {
      "text/html": [
       "<div>\n",
       "<style scoped>\n",
       "    .dataframe tbody tr th:only-of-type {\n",
       "        vertical-align: middle;\n",
       "    }\n",
       "\n",
       "    .dataframe tbody tr th {\n",
       "        vertical-align: top;\n",
       "    }\n",
       "\n",
       "    .dataframe thead th {\n",
       "        text-align: right;\n",
       "    }\n",
       "</style>\n",
       "<table border=\"1\" class=\"dataframe\">\n",
       "  <thead>\n",
       "    <tr style=\"text-align: right;\">\n",
       "      <th>CORE_COURSE_GRADE_1_F</th>\n",
       "      <th>A</th>\n",
       "      <th>B</th>\n",
       "      <th>C</th>\n",
       "      <th>D</th>\n",
       "      <th>F</th>\n",
       "      <th>INCOMPL</th>\n",
       "      <th>NOT REP</th>\n",
       "      <th>All</th>\n",
       "    </tr>\n",
       "    <tr>\n",
       "      <th>RETURNED_2ND_YR</th>\n",
       "      <th></th>\n",
       "      <th></th>\n",
       "      <th></th>\n",
       "      <th></th>\n",
       "      <th></th>\n",
       "      <th></th>\n",
       "      <th></th>\n",
       "      <th></th>\n",
       "    </tr>\n",
       "  </thead>\n",
       "  <tbody>\n",
       "    <tr>\n",
       "      <th>0</th>\n",
       "      <td>264</td>\n",
       "      <td>811</td>\n",
       "      <td>821</td>\n",
       "      <td>389</td>\n",
       "      <td>285</td>\n",
       "      <td>21</td>\n",
       "      <td>86</td>\n",
       "      <td>2677</td>\n",
       "    </tr>\n",
       "    <tr>\n",
       "      <th>1</th>\n",
       "      <td>58</td>\n",
       "      <td>130</td>\n",
       "      <td>203</td>\n",
       "      <td>149</td>\n",
       "      <td>155</td>\n",
       "      <td>8</td>\n",
       "      <td>20</td>\n",
       "      <td>723</td>\n",
       "    </tr>\n",
       "    <tr>\n",
       "      <th>All</th>\n",
       "      <td>322</td>\n",
       "      <td>941</td>\n",
       "      <td>1024</td>\n",
       "      <td>538</td>\n",
       "      <td>440</td>\n",
       "      <td>29</td>\n",
       "      <td>106</td>\n",
       "      <td>3400</td>\n",
       "    </tr>\n",
       "  </tbody>\n",
       "</table>\n",
       "</div>"
      ],
      "text/plain": [
       "CORE_COURSE_GRADE_1_F    A    B     C    D    F  INCOMPL  NOT REP   All\n",
       "RETURNED_2ND_YR                                                        \n",
       "0                      264  811   821  389  285       21       86  2677\n",
       "1                       58  130   203  149  155        8       20   723\n",
       "All                    322  941  1024  538  440       29      106  3400"
      ]
     },
     "execution_count": 56,
     "metadata": {},
     "output_type": "execute_result"
    }
   ],
   "source": [
    "pd.crosstab(data[\"RETURNED_2ND_YR\"], data[\"CORE_COURSE_GRADE_1_F\"], margins = True)"
   ]
  },
  {
   "cell_type": "code",
   "execution_count": 57,
   "metadata": {},
   "outputs": [
    {
     "name": "stdout",
     "output_type": "stream",
     "text": [
      "Drop out rate of A students = 0.18012422360248448.\n",
      "Drop out rate of B students = 0.1381509032943677.\n",
      "Drop out rate of C students = 0.1982421875.\n",
      "Drop out rate of D students = 0.27695167286245354.\n",
      "Drop out rate of F students = 0.3522727272727273.\n",
      "Drop out rate of IMCOMPL students = 0.27586206896551724.\n",
      "Drop out rate of NOT REP students = 0.18867924528301888.\n"
     ]
    }
   ],
   "source": [
    "print(f\"Drop out rate of A students = {58/322}.\")\n",
    "print(f\"Drop out rate of B students = {130/941}.\")\n",
    "print(f\"Drop out rate of C students = {203/1024}.\")\n",
    "print(f\"Drop out rate of D students = {149/538}.\")\n",
    "print(f\"Drop out rate of F students = {155/440}.\")\n",
    "print(f\"Drop out rate of IMCOMPL students = {8/29}.\")\n",
    "print(f\"Drop out rate of NOT REP students = {20/106}.\")"
   ]
  },
  {
   "cell_type": "markdown",
   "metadata": {},
   "source": [
    "#### CORE_COURSE_GRADE_2_F"
   ]
  },
  {
   "cell_type": "code",
   "execution_count": 58,
   "metadata": {},
   "outputs": [
    {
     "data": {
      "text/plain": [
       "B          0.393824\n",
       "C          0.233824\n",
       "A          0.219118\n",
       "D          0.085882\n",
       "F          0.036176\n",
       "INCOMPL    0.001176\n",
       "NOT REP    0.000882\n",
       "Name: CORE_COURSE_GRADE_2_F, dtype: float64"
      ]
     },
     "execution_count": 58,
     "metadata": {},
     "output_type": "execute_result"
    }
   ],
   "source": [
    "data[\"CORE_COURSE_GRADE_2_F\"].value_counts()/data.shape[0]"
   ]
  },
  {
   "cell_type": "code",
   "execution_count": 59,
   "metadata": {},
   "outputs": [
    {
     "data": {
      "text/plain": [
       "<seaborn.axisgrid.FacetGrid at 0x120cd8370>"
      ]
     },
     "execution_count": 59,
     "metadata": {},
     "output_type": "execute_result"
    },
    {
     "data": {
      "image/png": "[encoded data removed]",
      "text/plain": [
       "<Figure size 360x360 with 1 Axes>"
      ]
     },
     "metadata": {
      "needs_background": "light"
     },
     "output_type": "display_data"
    }
   ],
   "source": [
    "sns.catplot(x = \"CORE_COURSE_GRADE_1_F\", kind = \"count\", data = data)"
   ]
  },
  {
   "cell_type": "code",
   "execution_count": 60,
   "metadata": {},
   "outputs": [
    {
     "data": {
      "text/html": [
       "<div>\n",
       "<style scoped>\n",
       "    .dataframe tbody tr th:only-of-type {\n",
       "        vertical-align: middle;\n",
       "    }\n",
       "\n",
       "    .dataframe tbody tr th {\n",
       "        vertical-align: top;\n",
       "    }\n",
       "\n",
       "    .dataframe thead th {\n",
       "        text-align: right;\n",
       "    }\n",
       "</style>\n",
       "<table border=\"1\" class=\"dataframe\">\n",
       "  <thead>\n",
       "    <tr style=\"text-align: right;\">\n",
       "      <th>CORE_COURSE_GRADE_2_F</th>\n",
       "      <th>A</th>\n",
       "      <th>B</th>\n",
       "      <th>C</th>\n",
       "      <th>D</th>\n",
       "      <th>F</th>\n",
       "      <th>INCOMPL</th>\n",
       "      <th>NOT REP</th>\n",
       "      <th>All</th>\n",
       "    </tr>\n",
       "    <tr>\n",
       "      <th>RETURNED_2ND_YR</th>\n",
       "      <th></th>\n",
       "      <th></th>\n",
       "      <th></th>\n",
       "      <th></th>\n",
       "      <th></th>\n",
       "      <th></th>\n",
       "      <th></th>\n",
       "      <th></th>\n",
       "    </tr>\n",
       "  </thead>\n",
       "  <tbody>\n",
       "    <tr>\n",
       "      <th>0</th>\n",
       "      <td>632</td>\n",
       "      <td>1105</td>\n",
       "      <td>581</td>\n",
       "      <td>209</td>\n",
       "      <td>66</td>\n",
       "      <td>2</td>\n",
       "      <td>3</td>\n",
       "      <td>2598</td>\n",
       "    </tr>\n",
       "    <tr>\n",
       "      <th>1</th>\n",
       "      <td>113</td>\n",
       "      <td>234</td>\n",
       "      <td>214</td>\n",
       "      <td>83</td>\n",
       "      <td>57</td>\n",
       "      <td>2</td>\n",
       "      <td>0</td>\n",
       "      <td>703</td>\n",
       "    </tr>\n",
       "    <tr>\n",
       "      <th>All</th>\n",
       "      <td>745</td>\n",
       "      <td>1339</td>\n",
       "      <td>795</td>\n",
       "      <td>292</td>\n",
       "      <td>123</td>\n",
       "      <td>4</td>\n",
       "      <td>3</td>\n",
       "      <td>3301</td>\n",
       "    </tr>\n",
       "  </tbody>\n",
       "</table>\n",
       "</div>"
      ],
      "text/plain": [
       "CORE_COURSE_GRADE_2_F    A     B    C    D    F  INCOMPL  NOT REP   All\n",
       "RETURNED_2ND_YR                                                        \n",
       "0                      632  1105  581  209   66        2        3  2598\n",
       "1                      113   234  214   83   57        2        0   703\n",
       "All                    745  1339  795  292  123        4        3  3301"
      ]
     },
     "execution_count": 60,
     "metadata": {},
     "output_type": "execute_result"
    }
   ],
   "source": [
    "pd.crosstab(data[\"RETURNED_2ND_YR\"], data[\"CORE_COURSE_GRADE_2_F\"], margins = True)"
   ]
  },
  {
   "cell_type": "code",
   "execution_count": 61,
   "metadata": {},
   "outputs": [
    {
     "name": "stdout",
     "output_type": "stream",
     "text": [
      "Drop out rate of A students = 0.15167785234899328.\n",
      "Drop out rate of B students = 0.17475728155339806.\n",
      "Drop out rate of C students = 0.2691823899371069.\n",
      "Drop out rate of D students = 0.2842465753424658.\n",
      "Drop out rate of F students = 0.4634146341463415.\n",
      "Drop out rate of IMCOMPL students = 0.5.\n",
      "Drop out rate of NOT REP students = 0.0.\n"
     ]
    }
   ],
   "source": [
    "print(f\"Drop out rate of A students = {113/745}.\")\n",
    "print(f\"Drop out rate of B students = {234/1339}.\")\n",
    "print(f\"Drop out rate of C students = {214/795}.\")\n",
    "print(f\"Drop out rate of D students = {83/292}.\")\n",
    "print(f\"Drop out rate of F students = {57/123}.\")\n",
    "print(f\"Drop out rate of IMCOMPL students = {2/4}.\")\n",
    "print(f\"Drop out rate of NOT REP students = {0/3}.\")"
   ]
  },
  {
   "cell_type": "markdown",
   "metadata": {},
   "source": [
    "Unsurprisingly, worse performing students have a higher probability of dropping out. "
   ]
  },
  {
   "cell_type": "markdown",
   "metadata": {},
   "source": [
    "#### CORE_COURSE_GRADE_1_S"
   ]
  },
  {
   "cell_type": "code",
   "execution_count": 62,
   "metadata": {},
   "outputs": [
    {
     "data": {
      "text/plain": [
       "C          0.266471\n",
       "B          0.263529\n",
       "D          0.147353\n",
       "F          0.123824\n",
       "A          0.107647\n",
       "NOT REP    0.013824\n",
       "INCOMPL    0.007647\n",
       "Unknown    0.001471\n",
       "Name: CORE_COURSE_GRADE_1_S, dtype: float64"
      ]
     },
     "execution_count": 62,
     "metadata": {},
     "output_type": "execute_result"
    }
   ],
   "source": [
    "data[\"CORE_COURSE_GRADE_1_S\"].value_counts()/data.shape[0]"
   ]
  },
  {
   "cell_type": "code",
   "execution_count": 63,
   "metadata": {},
   "outputs": [
    {
     "data": {
      "text/plain": [
       "<seaborn.axisgrid.FacetGrid at 0x120f611f0>"
      ]
     },
     "execution_count": 63,
     "metadata": {},
     "output_type": "execute_result"
    },
    {
     "data": {
      "image/png": "[encoded data removed]",
      "text/plain": [
       "<Figure size 360x360 with 1 Axes>"
      ]
     },
     "metadata": {
      "needs_background": "light"
     },
     "output_type": "display_data"
    }
   ],
   "source": [
    "sns.catplot(x = \"CORE_COURSE_GRADE_1_S\", kind = \"count\", data = data)"
   ]
  },
  {
   "cell_type": "code",
   "execution_count": 64,
   "metadata": {},
   "outputs": [
    {
     "data": {
      "text/html": [
       "<div>\n",
       "<style scoped>\n",
       "    .dataframe tbody tr th:only-of-type {\n",
       "        vertical-align: middle;\n",
       "    }\n",
       "\n",
       "    .dataframe tbody tr th {\n",
       "        vertical-align: top;\n",
       "    }\n",
       "\n",
       "    .dataframe thead th {\n",
       "        text-align: right;\n",
       "    }\n",
       "</style>\n",
       "<table border=\"1\" class=\"dataframe\">\n",
       "  <thead>\n",
       "    <tr style=\"text-align: right;\">\n",
       "      <th>CORE_COURSE_GRADE_1_S</th>\n",
       "      <th>A</th>\n",
       "      <th>B</th>\n",
       "      <th>C</th>\n",
       "      <th>D</th>\n",
       "      <th>F</th>\n",
       "      <th>INCOMPL</th>\n",
       "      <th>NOT REP</th>\n",
       "      <th>Unknown</th>\n",
       "      <th>All</th>\n",
       "    </tr>\n",
       "    <tr>\n",
       "      <th>RETURNED_2ND_YR</th>\n",
       "      <th></th>\n",
       "      <th></th>\n",
       "      <th></th>\n",
       "      <th></th>\n",
       "      <th></th>\n",
       "      <th></th>\n",
       "      <th></th>\n",
       "      <th></th>\n",
       "      <th></th>\n",
       "    </tr>\n",
       "  </thead>\n",
       "  <tbody>\n",
       "    <tr>\n",
       "      <th>0</th>\n",
       "      <td>315</td>\n",
       "      <td>795</td>\n",
       "      <td>778</td>\n",
       "      <td>401</td>\n",
       "      <td>289</td>\n",
       "      <td>15</td>\n",
       "      <td>41</td>\n",
       "      <td>0</td>\n",
       "      <td>2634</td>\n",
       "    </tr>\n",
       "    <tr>\n",
       "      <th>1</th>\n",
       "      <td>51</td>\n",
       "      <td>101</td>\n",
       "      <td>128</td>\n",
       "      <td>100</td>\n",
       "      <td>132</td>\n",
       "      <td>11</td>\n",
       "      <td>6</td>\n",
       "      <td>5</td>\n",
       "      <td>534</td>\n",
       "    </tr>\n",
       "    <tr>\n",
       "      <th>All</th>\n",
       "      <td>366</td>\n",
       "      <td>896</td>\n",
       "      <td>906</td>\n",
       "      <td>501</td>\n",
       "      <td>421</td>\n",
       "      <td>26</td>\n",
       "      <td>47</td>\n",
       "      <td>5</td>\n",
       "      <td>3168</td>\n",
       "    </tr>\n",
       "  </tbody>\n",
       "</table>\n",
       "</div>"
      ],
      "text/plain": [
       "CORE_COURSE_GRADE_1_S    A    B    C    D    F  INCOMPL  NOT REP  Unknown  \\\n",
       "RETURNED_2ND_YR                                                             \n",
       "0                      315  795  778  401  289       15       41        0   \n",
       "1                       51  101  128  100  132       11        6        5   \n",
       "All                    366  896  906  501  421       26       47        5   \n",
       "\n",
       "CORE_COURSE_GRADE_1_S   All  \n",
       "RETURNED_2ND_YR              \n",
       "0                      2634  \n",
       "1                       534  \n",
       "All                    3168  "
      ]
     },
     "execution_count": 64,
     "metadata": {},
     "output_type": "execute_result"
    }
   ],
   "source": [
    "pd.crosstab(data[\"RETURNED_2ND_YR\"], data[\"CORE_COURSE_GRADE_1_S\"], margins = True)"
   ]
  },
  {
   "cell_type": "code",
   "execution_count": 65,
   "metadata": {},
   "outputs": [
    {
     "name": "stdout",
     "output_type": "stream",
     "text": [
      "Drop out rate of A students = 0.13934426229508196.\n",
      "Drop out rate of B students = 0.11272321428571429.\n",
      "Drop out rate of C students = 0.141280353200883.\n",
      "Drop out rate of D students = 0.1996007984031936.\n",
      "Drop out rate of F students = 0.31353919239904987.\n",
      "Drop out rate of IMCOMPL students = 0.4230769230769231.\n",
      "Drop out rate of NOT REP students = 0.1276595744680851.\n",
      "Drop out rate of Unknown students = 1.0.\n"
     ]
    }
   ],
   "source": [
    "print(f\"Drop out rate of A students = {51/366}.\")\n",
    "print(f\"Drop out rate of B students = {101/896}.\")\n",
    "print(f\"Drop out rate of C students = {128/906}.\")\n",
    "print(f\"Drop out rate of D students = {100/501}.\")\n",
    "print(f\"Drop out rate of F students = {132/421}.\")\n",
    "print(f\"Drop out rate of IMCOMPL students = {11/26}.\")\n",
    "print(f\"Drop out rate of NOT REP students = {6/47}.\")\n",
    "print(f\"Drop out rate of Unknown students = {5/5}.\")"
   ]
  },
  {
   "cell_type": "markdown",
   "metadata": {},
   "source": [
    "A very interesting finding has occured with the grade variables. For CORE_COURSE_GRADE_1_F and CORE_COURSE_GRADE_1_S it is found that students with As have a higher drop out rate than students with Bs. Then as expected, as the grades get worse, drop-out rates increase. \n",
    "\n",
    "How can this be explained?\n",
    "\n",
    "In certain countries, students are allowed to transfer to other universities. One possible explanation for this finding is that better performing students transfer to better universities."
   ]
  },
  {
   "cell_type": "markdown",
   "metadata": {},
   "source": [
    "The variable will be engineered as follows:"
   ]
  },
  {
   "cell_type": "code",
   "execution_count": 66,
   "metadata": {},
   "outputs": [],
   "source": [
    "def grade_binner(x):\n",
    "    \n",
    "    if x == \"A\":\n",
    "        \n",
    "        return \"A\"\n",
    "    \n",
    "    elif x == \"B\":\n",
    "        \n",
    "        return \"B\"\n",
    "    \n",
    "    elif x == \"C\":\n",
    "        \n",
    "        return \"C\"\n",
    "    \n",
    "    elif x == \"D\":\n",
    "        \n",
    "        return \"D\"\n",
    "    \n",
    "    else:\n",
    "        \n",
    "        return \"F&OTHER\""
   ]
  },
  {
   "cell_type": "code",
   "execution_count": 67,
   "metadata": {},
   "outputs": [],
   "source": [
    "data[\"CORE_COURSE_GRADE_1_F\"] = data[\"CORE_COURSE_GRADE_1_F\"].map(grade_binner)\n",
    "data[\"CORE_COURSE_GRADE_2_F\"] = data[\"CORE_COURSE_GRADE_2_F\"].map(grade_binner)\n",
    "data[\"CORE_COURSE_GRADE_1_S\"] = data[\"CORE_COURSE_GRADE_1_S\"].map(grade_binner)"
   ]
  },
  {
   "cell_type": "code",
   "execution_count": null,
   "metadata": {},
   "outputs": [],
   "source": []
  },
  {
   "cell_type": "markdown",
   "metadata": {},
   "source": [
    "#### HOUSING_STS"
   ]
  },
  {
   "cell_type": "code",
   "execution_count": 68,
   "metadata": {},
   "outputs": [
    {
     "data": {
      "text/plain": [
       "Off Campus    0.582647\n",
       "On Campus     0.417353\n",
       "Name: HOUSING_STS, dtype: float64"
      ]
     },
     "execution_count": 68,
     "metadata": {},
     "output_type": "execute_result"
    }
   ],
   "source": [
    "data[\"HOUSING_STS\"].value_counts()/data.shape[0]"
   ]
  },
  {
   "cell_type": "code",
   "execution_count": 69,
   "metadata": {},
   "outputs": [
    {
     "data": {
      "text/plain": [
       "<seaborn.axisgrid.FacetGrid at 0x1212312b0>"
      ]
     },
     "execution_count": 69,
     "metadata": {},
     "output_type": "execute_result"
    },
    {
     "data": {
      "image/png": "[encoded data removed]",
      "text/plain": [
       "<Figure size 360x360 with 1 Axes>"
      ]
     },
     "metadata": {
      "needs_background": "light"
     },
     "output_type": "display_data"
    }
   ],
   "source": [
    "sns.catplot(x=\"HOUSING_STS\", data=data, kind = \"count\")"
   ]
  },
  {
   "cell_type": "code",
   "execution_count": 70,
   "metadata": {},
   "outputs": [
    {
     "data": {
      "text/html": [
       "<div>\n",
       "<style scoped>\n",
       "    .dataframe tbody tr th:only-of-type {\n",
       "        vertical-align: middle;\n",
       "    }\n",
       "\n",
       "    .dataframe tbody tr th {\n",
       "        vertical-align: top;\n",
       "    }\n",
       "\n",
       "    .dataframe thead th {\n",
       "        text-align: right;\n",
       "    }\n",
       "</style>\n",
       "<table border=\"1\" class=\"dataframe\">\n",
       "  <thead>\n",
       "    <tr style=\"text-align: right;\">\n",
       "      <th>HOUSING_STS</th>\n",
       "      <th>Off Campus</th>\n",
       "      <th>On Campus</th>\n",
       "      <th>All</th>\n",
       "    </tr>\n",
       "    <tr>\n",
       "      <th>RETURNED_2ND_YR</th>\n",
       "      <th></th>\n",
       "      <th></th>\n",
       "      <th></th>\n",
       "    </tr>\n",
       "  </thead>\n",
       "  <tbody>\n",
       "    <tr>\n",
       "      <th>0</th>\n",
       "      <td>1592</td>\n",
       "      <td>1085</td>\n",
       "      <td>2677</td>\n",
       "    </tr>\n",
       "    <tr>\n",
       "      <th>1</th>\n",
       "      <td>389</td>\n",
       "      <td>334</td>\n",
       "      <td>723</td>\n",
       "    </tr>\n",
       "    <tr>\n",
       "      <th>All</th>\n",
       "      <td>1981</td>\n",
       "      <td>1419</td>\n",
       "      <td>3400</td>\n",
       "    </tr>\n",
       "  </tbody>\n",
       "</table>\n",
       "</div>"
      ],
      "text/plain": [
       "HOUSING_STS      Off Campus  On Campus   All\n",
       "RETURNED_2ND_YR                             \n",
       "0                      1592       1085  2677\n",
       "1                       389        334   723\n",
       "All                    1981       1419  3400"
      ]
     },
     "execution_count": 70,
     "metadata": {},
     "output_type": "execute_result"
    }
   ],
   "source": [
    "#Examining the affect of housing status on drop-out rate\n",
    "pd.crosstab(data[\"RETURNED_2ND_YR\"], data[\"HOUSING_STS\"], margins = True)"
   ]
  },
  {
   "cell_type": "code",
   "execution_count": 71,
   "metadata": {},
   "outputs": [
    {
     "name": "stdout",
     "output_type": "stream",
     "text": [
      "Proportion of off-campus students who drop out = 0.19636547198384655.\n",
      "Proportion of on-campus students who drop out = 0.23537702607470048.\n"
     ]
    }
   ],
   "source": [
    "print(f\"Proportion of off-campus students who drop out = {389/1981}.\")\n",
    "print(f\"Proportion of on-campus students who drop out = {334/1419}.\")"
   ]
  },
  {
   "cell_type": "code",
   "execution_count": 72,
   "metadata": {},
   "outputs": [
    {
     "data": {
      "text/plain": [
       "<seaborn.axisgrid.FacetGrid at 0x121115ac0>"
      ]
     },
     "execution_count": 72,
     "metadata": {},
     "output_type": "execute_result"
    },
    {
     "data": {
      "image/png": "[encoded data removed]",
      "text/plain": [
       "<Figure size 454.625x360 with 1 Axes>"
      ]
     },
     "metadata": {
      "needs_background": "light"
     },
     "output_type": "display_data"
    }
   ],
   "source": [
    "sns.catplot(x=\"RETURNED_2ND_YR\", hue = \"HOUSING_STS\", data=data, kind = \"count\")"
   ]
  },
  {
   "cell_type": "markdown",
   "metadata": {},
   "source": [
    "The results above show the following drop-out rates according to student accommodation:\n",
    "\n",
    "* <b>On-campus:</b> 24%\n",
    "* <b>Off-camplus:</b> 20%"
   ]
  },
  {
   "cell_type": "markdown",
   "metadata": {},
   "source": [
    "<b>Note:</b> This variable can be encoded as follows:"
   ]
  },
  {
   "cell_type": "code",
   "execution_count": 73,
   "metadata": {},
   "outputs": [],
   "source": [
    "data[\"HOUSING_STS\"] = data[\"HOUSING_STS\"].apply(lambda x: 1 if x == \"On Campus\" else 0)"
   ]
  },
  {
   "cell_type": "code",
   "execution_count": null,
   "metadata": {},
   "outputs": [],
   "source": []
  },
  {
   "cell_type": "markdown",
   "metadata": {},
   "source": [
    "#### DEGREE_GROUP_CD & DEGREE_GROUP_DESC"
   ]
  },
  {
   "cell_type": "code",
   "execution_count": 74,
   "metadata": {},
   "outputs": [
    {
     "data": {
      "text/plain": [
       "B    0.995294\n",
       "A    0.003529\n",
       "V    0.001176\n",
       "Name: DEGREE_GROUP_CD, dtype: float64"
      ]
     },
     "execution_count": 74,
     "metadata": {},
     "output_type": "execute_result"
    }
   ],
   "source": [
    "data[\"DEGREE_GROUP_CD\"].value_counts()/data.shape[0]"
   ]
  },
  {
   "cell_type": "code",
   "execution_count": 75,
   "metadata": {},
   "outputs": [
    {
     "data": {
      "text/plain": [
       "Bachelors           0.995294\n",
       "Associate           0.003529\n",
       "Career Associate    0.001176\n",
       "Name: DEGREE_GROUP_DESC, dtype: float64"
      ]
     },
     "execution_count": 75,
     "metadata": {},
     "output_type": "execute_result"
    }
   ],
   "source": [
    "data[\"DEGREE_GROUP_DESC\"].value_counts()/data.shape[0]"
   ]
  },
  {
   "cell_type": "markdown",
   "metadata": {},
   "source": [
    "Both these variables are identical, one of them will be dropped."
   ]
  },
  {
   "cell_type": "code",
   "execution_count": 76,
   "metadata": {},
   "outputs": [],
   "source": [
    "data.drop(\"DEGREE_GROUP_CD\", axis = 1, inplace = True)"
   ]
  },
  {
   "cell_type": "code",
   "execution_count": 77,
   "metadata": {},
   "outputs": [
    {
     "data": {
      "text/plain": [
       "<seaborn.axisgrid.FacetGrid at 0x1216a90d0>"
      ]
     },
     "execution_count": 77,
     "metadata": {},
     "output_type": "execute_result"
    },
    {
     "data": {
      "image/png": "[encoded data removed]",
      "text/plain": [
       "<Figure size 360x360 with 1 Axes>"
      ]
     },
     "metadata": {
      "needs_background": "light"
     },
     "output_type": "display_data"
    }
   ],
   "source": [
    "sns.catplot(x=\"DEGREE_GROUP_DESC\", data=data, kind = \"count\")"
   ]
  },
  {
   "cell_type": "code",
   "execution_count": 78,
   "metadata": {},
   "outputs": [
    {
     "data": {
      "text/html": [
       "<div>\n",
       "<style scoped>\n",
       "    .dataframe tbody tr th:only-of-type {\n",
       "        vertical-align: middle;\n",
       "    }\n",
       "\n",
       "    .dataframe tbody tr th {\n",
       "        vertical-align: top;\n",
       "    }\n",
       "\n",
       "    .dataframe thead th {\n",
       "        text-align: right;\n",
       "    }\n",
       "</style>\n",
       "<table border=\"1\" class=\"dataframe\">\n",
       "  <thead>\n",
       "    <tr style=\"text-align: right;\">\n",
       "      <th>DEGREE_GROUP_DESC</th>\n",
       "      <th>Associate</th>\n",
       "      <th>Bachelors</th>\n",
       "      <th>Career Associate</th>\n",
       "      <th>All</th>\n",
       "    </tr>\n",
       "    <tr>\n",
       "      <th>RETURNED_2ND_YR</th>\n",
       "      <th></th>\n",
       "      <th></th>\n",
       "      <th></th>\n",
       "      <th></th>\n",
       "    </tr>\n",
       "  </thead>\n",
       "  <tbody>\n",
       "    <tr>\n",
       "      <th>0</th>\n",
       "      <td>10</td>\n",
       "      <td>2664</td>\n",
       "      <td>3</td>\n",
       "      <td>2677</td>\n",
       "    </tr>\n",
       "    <tr>\n",
       "      <th>1</th>\n",
       "      <td>2</td>\n",
       "      <td>720</td>\n",
       "      <td>1</td>\n",
       "      <td>723</td>\n",
       "    </tr>\n",
       "    <tr>\n",
       "      <th>All</th>\n",
       "      <td>12</td>\n",
       "      <td>3384</td>\n",
       "      <td>4</td>\n",
       "      <td>3400</td>\n",
       "    </tr>\n",
       "  </tbody>\n",
       "</table>\n",
       "</div>"
      ],
      "text/plain": [
       "DEGREE_GROUP_DESC  Associate  Bachelors  Career Associate   All\n",
       "RETURNED_2ND_YR                                                \n",
       "0                         10       2664                 3  2677\n",
       "1                          2        720                 1   723\n",
       "All                       12       3384                 4  3400"
      ]
     },
     "execution_count": 78,
     "metadata": {},
     "output_type": "execute_result"
    }
   ],
   "source": [
    "#Examining the affects of degree group on attrition rate\n",
    "pd.crosstab(data[\"RETURNED_2ND_YR\"], data[\"DEGREE_GROUP_DESC\"], margins = True)"
   ]
  },
  {
   "cell_type": "code",
   "execution_count": 79,
   "metadata": {},
   "outputs": [
    {
     "name": "stdout",
     "output_type": "stream",
     "text": [
      "Proportion of Associate students who drop out = 0.16666666666666666.\n",
      "Proportion of Bachelors students who drop out = 0.2127659574468085.\n",
      "Proportion of Career Associate students who drop out = 0.25.\n"
     ]
    }
   ],
   "source": [
    "print(f\"Proportion of Associate students who drop out = {2/12}.\")\n",
    "print(f\"Proportion of Bachelors students who drop out = {720/3384}.\")\n",
    "print(f\"Proportion of Career Associate students who drop out = {1/4}.\")"
   ]
  },
  {
   "cell_type": "code",
   "execution_count": null,
   "metadata": {},
   "outputs": [],
   "source": []
  },
  {
   "cell_type": "markdown",
   "metadata": {},
   "source": [
    "#### FATHER_HI_EDU_DESC & MOTHER_HI_EDU_DESC"
   ]
  },
  {
   "cell_type": "code",
   "execution_count": 80,
   "metadata": {},
   "outputs": [
    {
     "data": {
      "text/plain": [
       "High School                  1336\n",
       "College/Beyond               1309\n",
       "No Information                432\n",
       "Other/Unknown                 226\n",
       "Middle School/Junior High      97\n",
       "Name: FATHER_HI_EDU_DESC, dtype: int64"
      ]
     },
     "execution_count": 80,
     "metadata": {},
     "output_type": "execute_result"
    }
   ],
   "source": [
    "data[\"FATHER_HI_EDU_DESC\"].value_counts()"
   ]
  },
  {
   "cell_type": "code",
   "execution_count": 81,
   "metadata": {},
   "outputs": [
    {
     "data": {
      "text/html": [
       "<div>\n",
       "<style scoped>\n",
       "    .dataframe tbody tr th:only-of-type {\n",
       "        vertical-align: middle;\n",
       "    }\n",
       "\n",
       "    .dataframe tbody tr th {\n",
       "        vertical-align: top;\n",
       "    }\n",
       "\n",
       "    .dataframe thead th {\n",
       "        text-align: right;\n",
       "    }\n",
       "</style>\n",
       "<table border=\"1\" class=\"dataframe\">\n",
       "  <thead>\n",
       "    <tr style=\"text-align: right;\">\n",
       "      <th>FATHER_HI_EDU_DESC</th>\n",
       "      <th>College/Beyond</th>\n",
       "      <th>High School</th>\n",
       "      <th>Middle School/Junior High</th>\n",
       "      <th>No Information</th>\n",
       "      <th>Other/Unknown</th>\n",
       "      <th>All</th>\n",
       "    </tr>\n",
       "    <tr>\n",
       "      <th>RETURNED_2ND_YR</th>\n",
       "      <th></th>\n",
       "      <th></th>\n",
       "      <th></th>\n",
       "      <th></th>\n",
       "      <th></th>\n",
       "      <th></th>\n",
       "    </tr>\n",
       "  </thead>\n",
       "  <tbody>\n",
       "    <tr>\n",
       "      <th>0</th>\n",
       "      <td>1052</td>\n",
       "      <td>1047</td>\n",
       "      <td>71</td>\n",
       "      <td>329</td>\n",
       "      <td>178</td>\n",
       "      <td>2677</td>\n",
       "    </tr>\n",
       "    <tr>\n",
       "      <th>1</th>\n",
       "      <td>257</td>\n",
       "      <td>289</td>\n",
       "      <td>26</td>\n",
       "      <td>103</td>\n",
       "      <td>48</td>\n",
       "      <td>723</td>\n",
       "    </tr>\n",
       "    <tr>\n",
       "      <th>All</th>\n",
       "      <td>1309</td>\n",
       "      <td>1336</td>\n",
       "      <td>97</td>\n",
       "      <td>432</td>\n",
       "      <td>226</td>\n",
       "      <td>3400</td>\n",
       "    </tr>\n",
       "  </tbody>\n",
       "</table>\n",
       "</div>"
      ],
      "text/plain": [
       "FATHER_HI_EDU_DESC  College/Beyond  High School  Middle School/Junior High  \\\n",
       "RETURNED_2ND_YR                                                              \n",
       "0                             1052         1047                         71   \n",
       "1                              257          289                         26   \n",
       "All                           1309         1336                         97   \n",
       "\n",
       "FATHER_HI_EDU_DESC  No Information  Other/Unknown   All  \n",
       "RETURNED_2ND_YR                                          \n",
       "0                              329            178  2677  \n",
       "1                              103             48   723  \n",
       "All                            432            226  3400  "
      ]
     },
     "execution_count": 81,
     "metadata": {},
     "output_type": "execute_result"
    }
   ],
   "source": [
    "pd.crosstab(data[\"RETURNED_2ND_YR\"], data[\"FATHER_HI_EDU_DESC\"], margins = True)"
   ]
  },
  {
   "cell_type": "code",
   "execution_count": 82,
   "metadata": {},
   "outputs": [
    {
     "data": {
      "text/plain": [
       "<seaborn.axisgrid.FacetGrid at 0x120f76640>"
      ]
     },
     "execution_count": 82,
     "metadata": {},
     "output_type": "execute_result"
    },
    {
     "data": {
      "image/png": "[encoded data removed]",
      "text/plain": [
       "<Figure size 360x360 with 1 Axes>"
      ]
     },
     "metadata": {
      "needs_background": "light"
     },
     "output_type": "display_data"
    }
   ],
   "source": [
    "sns.catplot(x=\"FATHER_HI_EDU_DESC\", data=data, kind = \"count\")"
   ]
  },
  {
   "cell_type": "code",
   "execution_count": null,
   "metadata": {},
   "outputs": [],
   "source": []
  },
  {
   "cell_type": "code",
   "execution_count": 83,
   "metadata": {},
   "outputs": [
    {
     "data": {
      "text/plain": [
       "College/Beyond               1500\n",
       "High School                  1223\n",
       "No Information                489\n",
       "Other/Unknown                 117\n",
       "Middle School/Junior High      71\n",
       "Name: MOTHER_HI_EDU_DESC, dtype: int64"
      ]
     },
     "execution_count": 83,
     "metadata": {},
     "output_type": "execute_result"
    }
   ],
   "source": [
    "data[\"MOTHER_HI_EDU_DESC\"].value_counts()"
   ]
  },
  {
   "cell_type": "code",
   "execution_count": 84,
   "metadata": {},
   "outputs": [
    {
     "data": {
      "text/html": [
       "<div>\n",
       "<style scoped>\n",
       "    .dataframe tbody tr th:only-of-type {\n",
       "        vertical-align: middle;\n",
       "    }\n",
       "\n",
       "    .dataframe tbody tr th {\n",
       "        vertical-align: top;\n",
       "    }\n",
       "\n",
       "    .dataframe thead th {\n",
       "        text-align: right;\n",
       "    }\n",
       "</style>\n",
       "<table border=\"1\" class=\"dataframe\">\n",
       "  <thead>\n",
       "    <tr style=\"text-align: right;\">\n",
       "      <th>MOTHER_HI_EDU_DESC</th>\n",
       "      <th>College/Beyond</th>\n",
       "      <th>High School</th>\n",
       "      <th>Middle School/Junior High</th>\n",
       "      <th>No Information</th>\n",
       "      <th>Other/Unknown</th>\n",
       "      <th>All</th>\n",
       "    </tr>\n",
       "    <tr>\n",
       "      <th>RETURNED_2ND_YR</th>\n",
       "      <th></th>\n",
       "      <th></th>\n",
       "      <th></th>\n",
       "      <th></th>\n",
       "      <th></th>\n",
       "      <th></th>\n",
       "    </tr>\n",
       "  </thead>\n",
       "  <tbody>\n",
       "    <tr>\n",
       "      <th>0</th>\n",
       "      <td>1199</td>\n",
       "      <td>958</td>\n",
       "      <td>55</td>\n",
       "      <td>366</td>\n",
       "      <td>99</td>\n",
       "      <td>2677</td>\n",
       "    </tr>\n",
       "    <tr>\n",
       "      <th>1</th>\n",
       "      <td>301</td>\n",
       "      <td>265</td>\n",
       "      <td>16</td>\n",
       "      <td>123</td>\n",
       "      <td>18</td>\n",
       "      <td>723</td>\n",
       "    </tr>\n",
       "    <tr>\n",
       "      <th>All</th>\n",
       "      <td>1500</td>\n",
       "      <td>1223</td>\n",
       "      <td>71</td>\n",
       "      <td>489</td>\n",
       "      <td>117</td>\n",
       "      <td>3400</td>\n",
       "    </tr>\n",
       "  </tbody>\n",
       "</table>\n",
       "</div>"
      ],
      "text/plain": [
       "MOTHER_HI_EDU_DESC  College/Beyond  High School  Middle School/Junior High  \\\n",
       "RETURNED_2ND_YR                                                              \n",
       "0                             1199          958                         55   \n",
       "1                              301          265                         16   \n",
       "All                           1500         1223                         71   \n",
       "\n",
       "MOTHER_HI_EDU_DESC  No Information  Other/Unknown   All  \n",
       "RETURNED_2ND_YR                                          \n",
       "0                              366             99  2677  \n",
       "1                              123             18   723  \n",
       "All                            489            117  3400  "
      ]
     },
     "execution_count": 84,
     "metadata": {},
     "output_type": "execute_result"
    }
   ],
   "source": [
    "pd.crosstab(data[\"RETURNED_2ND_YR\"], data[\"MOTHER_HI_EDU_DESC\"], margins = True)"
   ]
  },
  {
   "cell_type": "code",
   "execution_count": 85,
   "metadata": {},
   "outputs": [
    {
     "data": {
      "text/plain": [
       "<seaborn.axisgrid.FacetGrid at 0x120d483a0>"
      ]
     },
     "execution_count": 85,
     "metadata": {},
     "output_type": "execute_result"
    },
    {
     "data": {
      "image/png": "[encoded data removed]",
      "text/plain": [
       "<Figure size 360x360 with 1 Axes>"
      ]
     },
     "metadata": {
      "needs_background": "light"
     },
     "output_type": "display_data"
    }
   ],
   "source": [
    "sns.catplot(x=\"MOTHER_HI_EDU_DESC\", data=data, kind = \"count\")"
   ]
  },
  {
   "cell_type": "markdown",
   "metadata": {},
   "source": [
    "Due to the low occurences frequences of the categories \"No Information\", \"Middle School/Junior High\" and \"Other Unknown\", these will be grouped together in one bin."
   ]
  },
  {
   "cell_type": "code",
   "execution_count": 86,
   "metadata": {},
   "outputs": [],
   "source": [
    "def edu_binning(x):\n",
    "    \n",
    "    if x == \"College/Beyond\":\n",
    "        \n",
    "        return \"College/Beyond\"\n",
    "    \n",
    "    elif x == \"High School\":\n",
    "        \n",
    "        return \"High School\"\n",
    "    \n",
    "    else:\n",
    "        \n",
    "        return \"OTHER\""
   ]
  },
  {
   "cell_type": "code",
   "execution_count": 87,
   "metadata": {},
   "outputs": [],
   "source": [
    "data[\"FATHER_HI_EDU_DESC\"] = data[\"FATHER_HI_EDU_DESC\"].map(edu_binning)"
   ]
  },
  {
   "cell_type": "code",
   "execution_count": 88,
   "metadata": {},
   "outputs": [],
   "source": [
    "data[\"MOTHER_HI_EDU_DESC\"] = data[\"MOTHER_HI_EDU_DESC\"].map(edu_binning)"
   ]
  },
  {
   "cell_type": "code",
   "execution_count": 89,
   "metadata": {},
   "outputs": [
    {
     "data": {
      "text/plain": [
       "0    0.792514\n",
       "1    0.207486\n",
       "Name: RETURNED_2ND_YR, dtype: float64"
      ]
     },
     "execution_count": 89,
     "metadata": {},
     "output_type": "execute_result"
    }
   ],
   "source": [
    "#Examining a combination of the two variables\n",
    "parents_higher_educated = data.query(\"((FATHER_HI_EDU_DESC == 'College/Beyond') or (FATHER_HI_EDU_DESC == 'High School'))  & ((MOTHER_HI_EDU_DESC == 'College/Beyond') or (MOTHER_HI_EDU_DESC == 'High School'))\")\n",
    "parents_higher_educated[\"RETURNED_2ND_YR\"].value_counts()/parents_higher_educated.shape[0]"
   ]
  },
  {
   "cell_type": "code",
   "execution_count": 90,
   "metadata": {},
   "outputs": [
    {
     "data": {
      "text/plain": [
       "0    0.753061\n",
       "1    0.246939\n",
       "Name: RETURNED_2ND_YR, dtype: float64"
      ]
     },
     "execution_count": 90,
     "metadata": {},
     "output_type": "execute_result"
    }
   ],
   "source": [
    "parents_other_educated = data.query(\"FATHER_HI_EDU_DESC == 'OTHER' & MOTHER_HI_EDU_DESC == 'OTHER'\")\n",
    "parents_other_educated[\"RETURNED_2ND_YR\"].value_counts()/parents_other_educated.shape[0]"
   ]
  },
  {
   "cell_type": "markdown",
   "metadata": {},
   "source": [
    "Students whose parents' education statuses fall in OTHER are more likely to drop out."
   ]
  },
  {
   "cell_type": "code",
   "execution_count": null,
   "metadata": {},
   "outputs": [],
   "source": []
  },
  {
   "cell_type": "markdown",
   "metadata": {},
   "source": [
    "#### STDNT_MINOR"
   ]
  },
  {
   "cell_type": "code",
   "execution_count": 91,
   "metadata": {},
   "outputs": [
    {
     "data": {
      "text/plain": [
       "N        0.929412\n",
       "OTHER    0.070588\n",
       "Name: STDNT_MINOR, dtype: float64"
      ]
     },
     "execution_count": 91,
     "metadata": {},
     "output_type": "execute_result"
    }
   ],
   "source": [
    "data[\"STDNT_MINOR\"].value_counts()/data.shape[0]"
   ]
  },
  {
   "cell_type": "markdown",
   "metadata": {},
   "source": [
    "This variable can be binned as follows:"
   ]
  },
  {
   "cell_type": "code",
   "execution_count": 92,
   "metadata": {},
   "outputs": [],
   "source": [
    "data[\"STDNT_MINOR\"] = data[\"STDNT_MINOR\"].apply(lambda x: \"N\" if x == \"N\" else \"OTHER\")"
   ]
  },
  {
   "cell_type": "code",
   "execution_count": 93,
   "metadata": {},
   "outputs": [
    {
     "data": {
      "text/plain": [
       "N        0.929412\n",
       "OTHER    0.070588\n",
       "Name: STDNT_MINOR, dtype: float64"
      ]
     },
     "execution_count": 93,
     "metadata": {},
     "output_type": "execute_result"
    }
   ],
   "source": [
    "data[\"STDNT_MINOR\"].value_counts()/data.shape[0]"
   ]
  },
  {
   "cell_type": "code",
   "execution_count": 94,
   "metadata": {},
   "outputs": [
    {
     "data": {
      "text/html": [
       "<div>\n",
       "<style scoped>\n",
       "    .dataframe tbody tr th:only-of-type {\n",
       "        vertical-align: middle;\n",
       "    }\n",
       "\n",
       "    .dataframe tbody tr th {\n",
       "        vertical-align: top;\n",
       "    }\n",
       "\n",
       "    .dataframe thead th {\n",
       "        text-align: right;\n",
       "    }\n",
       "</style>\n",
       "<table border=\"1\" class=\"dataframe\">\n",
       "  <thead>\n",
       "    <tr style=\"text-align: right;\">\n",
       "      <th>STDNT_MINOR</th>\n",
       "      <th>N</th>\n",
       "      <th>OTHER</th>\n",
       "      <th>All</th>\n",
       "    </tr>\n",
       "    <tr>\n",
       "      <th>RETURNED_2ND_YR</th>\n",
       "      <th></th>\n",
       "      <th></th>\n",
       "      <th></th>\n",
       "    </tr>\n",
       "  </thead>\n",
       "  <tbody>\n",
       "    <tr>\n",
       "      <th>0</th>\n",
       "      <td>2485</td>\n",
       "      <td>192</td>\n",
       "      <td>2677</td>\n",
       "    </tr>\n",
       "    <tr>\n",
       "      <th>1</th>\n",
       "      <td>675</td>\n",
       "      <td>48</td>\n",
       "      <td>723</td>\n",
       "    </tr>\n",
       "    <tr>\n",
       "      <th>All</th>\n",
       "      <td>3160</td>\n",
       "      <td>240</td>\n",
       "      <td>3400</td>\n",
       "    </tr>\n",
       "  </tbody>\n",
       "</table>\n",
       "</div>"
      ],
      "text/plain": [
       "STDNT_MINOR         N  OTHER   All\n",
       "RETURNED_2ND_YR                   \n",
       "0                2485    192  2677\n",
       "1                 675     48   723\n",
       "All              3160    240  3400"
      ]
     },
     "execution_count": 94,
     "metadata": {},
     "output_type": "execute_result"
    }
   ],
   "source": [
    "pd.crosstab(data[\"RETURNED_2ND_YR\"], data[\"STDNT_MINOR\"], margins = True)"
   ]
  },
  {
   "cell_type": "code",
   "execution_count": 95,
   "metadata": {},
   "outputs": [
    {
     "name": "stdout",
     "output_type": "stream",
     "text": [
      "Drop out rate of students with undeclared minor = 0.21360759493670886.\n",
      "Drop out rate of students with declared minor = 0.2.\n"
     ]
    }
   ],
   "source": [
    "print(f\"Drop out rate of students with undeclared minor = {675/3160}.\")\n",
    "print(f\"Drop out rate of students with declared minor = {48/240}.\")"
   ]
  },
  {
   "cell_type": "markdown",
   "metadata": {},
   "source": [
    "Results show no discernable difference. This variable can be dropped."
   ]
  },
  {
   "cell_type": "markdown",
   "metadata": {},
   "source": [
    "All the qualitative variables have been explored. To examine the affects that they have collectively on the target variable, chi-squared testing can be done, as this data is count data. "
   ]
  },
  {
   "cell_type": "markdown",
   "metadata": {},
   "source": [
    "Before starting with this, some sanity checks need to be done, especially missing value treatment. Missing values will be treated as follows:\n",
    "\n",
    "* <b>Qualitative:</b> fill missing values with most frequently occuring values.\n",
    "* <b>Quantitative:</b> fill missing values with median values"
   ]
  },
  {
   "cell_type": "code",
   "execution_count": 96,
   "metadata": {},
   "outputs": [
    {
     "data": {
      "text/plain": [
       "STDNT_AGE                  0.000000\n",
       "STDNT_GENDER               0.000000\n",
       "STDNT_BACKGROUND           0.000000\n",
       "IN_STATE_FLAG              0.000000\n",
       "INTERNATIONAL_STS          0.000000\n",
       "STDNT_MAJOR                0.055588\n",
       "STDNT_MINOR                0.000000\n",
       "FIRST_TERM                 0.000000\n",
       "CORE_COURSE_GRADE_1_F      0.000000\n",
       "CORE_COURSE_GRADE_2_F      0.000000\n",
       "SECOND_TERM                0.000000\n",
       "CORE_COURSE_GRADE_1_S      0.000000\n",
       "HOUSING_STS                0.000000\n",
       "RETURNED_2ND_YR            0.000000\n",
       "DISTANCE_FROM_HOME         0.007353\n",
       "HIGH_SCHL_GPA              0.015588\n",
       "HIGH_SCHL_NAME             0.000294\n",
       "FATHER_HI_EDU_DESC         0.000000\n",
       "MOTHER_HI_EDU_DESC         0.000000\n",
       "DEGREE_GROUP_DESC          0.000000\n",
       "FIRST_TERM_ATTEMPT_HRS     0.000000\n",
       "FIRST_TERM_EARNED_HRS      0.000000\n",
       "SECOND_TERM_ATTEMPT_HRS    0.060588\n",
       "SECOND_TERM_EARNED_HRS     0.061471\n",
       "GROSS_FIN_NEED             0.000000\n",
       "COST_OF_ATTEND             0.000000\n",
       "EST_FAM_CONTRIBUTION       0.000000\n",
       "UNMET_NEED                 0.000000\n",
       "dtype: float64"
      ]
     },
     "execution_count": 96,
     "metadata": {},
     "output_type": "execute_result"
    }
   ],
   "source": [
    "data.isnull().sum()/data.shape[0]"
   ]
  },
  {
   "cell_type": "code",
   "execution_count": 97,
   "metadata": {},
   "outputs": [],
   "source": [
    "#Imputing missing values\n",
    "data[\"CORE_COURSE_GRADE_2_F\"].fillna(\"B\", inplace = True)"
   ]
  },
  {
   "cell_type": "code",
   "execution_count": 98,
   "metadata": {},
   "outputs": [],
   "source": [
    "data[\"CORE_COURSE_GRADE_1_S\"].fillna(\"C\", inplace = True)"
   ]
  },
  {
   "cell_type": "code",
   "execution_count": 99,
   "metadata": {},
   "outputs": [],
   "source": [
    "data[\"DISTANCE_FROM_HOME\"].fillna(69, inplace = True)"
   ]
  },
  {
   "cell_type": "code",
   "execution_count": 100,
   "metadata": {},
   "outputs": [],
   "source": [
    "data[\"HIGH_SCHL_GPA\"].fillna(3.2, inplace = True)"
   ]
  },
  {
   "cell_type": "code",
   "execution_count": 101,
   "metadata": {},
   "outputs": [],
   "source": [
    "data[\"SECOND_TERM_ATTEMPT_HRS\"].fillna(14, inplace = True)"
   ]
  },
  {
   "cell_type": "code",
   "execution_count": 102,
   "metadata": {},
   "outputs": [],
   "source": [
    "data[\"SECOND_TERM_EARNED_HRS\"].fillna(13,inplace = True)"
   ]
  },
  {
   "cell_type": "code",
   "execution_count": 103,
   "metadata": {},
   "outputs": [],
   "source": [
    "data[\"HIGH_SCHL_NAME\"].fillna(\"SCHOOL 11\", inplace = True)"
   ]
  },
  {
   "cell_type": "code",
   "execution_count": 104,
   "metadata": {},
   "outputs": [],
   "source": [
    "data[\"STDNT_MAJOR\"].fillna(\"Undeclared\", inplace = True)"
   ]
  },
  {
   "cell_type": "code",
   "execution_count": 105,
   "metadata": {},
   "outputs": [],
   "source": [
    "#Chi-squared testing\n",
    "categorical_variables = [\"STDNT_GENDER\", \"STDNT_BACKGROUND\", \"IN_STATE_FLAG\", \"INTERNATIONAL_STS\", \"STDNT_MAJOR\", \"STDNT_MINOR\",\n",
    "                        \"HOUSING_STS\", \"CORE_COURSE_GRADE_1_F\", \"CORE_COURSE_GRADE_2_F\", \"CORE_COURSE_GRADE_1_S\", \n",
    "                        \"FATHER_HI_EDU_DESC\", \"MOTHER_HI_EDU_DESC\", \"DEGREE_GROUP_DESC\", \"HIGH_SCHL_NAME\"]"
   ]
  },
  {
   "cell_type": "code",
   "execution_count": 106,
   "metadata": {},
   "outputs": [],
   "source": [
    "categorical = data[categorical_variables]"
   ]
  },
  {
   "cell_type": "code",
   "execution_count": 107,
   "metadata": {},
   "outputs": [],
   "source": [
    "from sklearn.preprocessing import LabelEncoder"
   ]
  },
  {
   "cell_type": "code",
   "execution_count": 108,
   "metadata": {},
   "outputs": [],
   "source": [
    "label_encoder = LabelEncoder()"
   ]
  },
  {
   "cell_type": "code",
   "execution_count": 109,
   "metadata": {},
   "outputs": [
    {
     "name": "stderr",
     "output_type": "stream",
     "text": [
      "<ipython-input-109-c824a6318d51>:4: SettingWithCopyWarning: \n",
      "A value is trying to be set on a copy of a slice from a DataFrame.\n",
      "Try using .loc[row_indexer,col_indexer] = value instead\n",
      "\n",
      "See the caveats in the documentation: https://pandas.pydata.org/pandas-docs/stable/user_guide/indexing.html#returning-a-view-versus-a-copy\n",
      "  categorical[variable] = label_encoder.fit_transform(categorical[variable])\n"
     ]
    }
   ],
   "source": [
    "#Encoding variables\n",
    "for variable in categorical_variables:\n",
    "    \n",
    "    categorical[variable] = label_encoder.fit_transform(categorical[variable])"
   ]
  },
  {
   "cell_type": "code",
   "execution_count": 110,
   "metadata": {},
   "outputs": [],
   "source": [
    "from sklearn.feature_selection import chi2"
   ]
  },
  {
   "cell_type": "code",
   "execution_count": 111,
   "metadata": {},
   "outputs": [],
   "source": [
    "X = categorical\n",
    "y = data[\"RETURNED_2ND_YR\"]"
   ]
  },
  {
   "cell_type": "code",
   "execution_count": 112,
   "metadata": {},
   "outputs": [],
   "source": [
    "chi_scores = chi2(X,y)"
   ]
  },
  {
   "cell_type": "code",
   "execution_count": 113,
   "metadata": {},
   "outputs": [
    {
     "data": {
      "text/plain": [
       "DEGREE_GROUP_DESC        9.765273e-01\n",
       "HIGH_SCHL_NAME           9.611055e-01\n",
       "STDNT_MAJOR              6.638438e-01\n",
       "STDNT_MINOR              6.320601e-01\n",
       "IN_STATE_FLAG            4.439063e-01\n",
       "STDNT_GENDER             1.698974e-01\n",
       "MOTHER_HI_EDU_DESC       1.354824e-01\n",
       "FATHER_HI_EDU_DESC       8.328323e-02\n",
       "HOUSING_STS              3.638945e-02\n",
       "STDNT_BACKGROUND         2.106090e-02\n",
       "INTERNATIONAL_STS        3.244389e-03\n",
       "CORE_COURSE_GRADE_1_F    3.639542e-13\n",
       "CORE_COURSE_GRADE_2_F    2.102459e-15\n",
       "CORE_COURSE_GRADE_1_S    1.326322e-49\n",
       "dtype: float64"
      ]
     },
     "execution_count": 113,
     "metadata": {},
     "output_type": "execute_result"
    }
   ],
   "source": [
    "p_values = pd.Series(chi_scores[1],index = X.columns)\n",
    "p_values.sort_values(ascending = False , inplace = True)\n",
    "p_values"
   ]
  },
  {
   "cell_type": "code",
   "execution_count": 114,
   "metadata": {},
   "outputs": [
    {
     "data": {
      "text/plain": [
       "Text(0, 0.5, 'P-value')"
      ]
     },
     "execution_count": 114,
     "metadata": {},
     "output_type": "execute_result"
    },
    {
     "data": {
      "image/png": "[encoded data removed]",
      "text/plain": [
       "<Figure size 432x288 with 1 Axes>"
      ]
     },
     "metadata": {
      "needs_background": "light"
     },
     "output_type": "display_data"
    }
   ],
   "source": [
    "import seaborn as sns\n",
    "p_values.plot.bar()\n",
    "plt.title(\"Chi Square Test Results\")\n",
    "plt.ylabel(\"P-value\")"
   ]
  },
  {
   "cell_type": "markdown",
   "metadata": {},
   "source": [
    "Here, the null hypothesis states that there is no relationshp between the variables and the dependent variable. At a 5% significance level, it can be seen that the variables DEGREE_GROUP_DESC, HIGH_SCHL_NAME and STDNT_MINOR can be dropped. "
   ]
  },
  {
   "cell_type": "code",
   "execution_count": 115,
   "metadata": {},
   "outputs": [],
   "source": [
    "data.drop([\"HIGH_SCHL_NAME\", \"STDNT_MINOR\"], inplace = True, axis = 1)"
   ]
  },
  {
   "cell_type": "markdown",
   "metadata": {},
   "source": [
    "### Quantitative Variables"
   ]
  },
  {
   "cell_type": "code",
   "execution_count": 116,
   "metadata": {},
   "outputs": [],
   "source": [
    "import scipy.stats as stats"
   ]
  },
  {
   "cell_type": "markdown",
   "metadata": {},
   "source": [
    "#### FIRST_TERM & SECOND_TERM"
   ]
  },
  {
   "cell_type": "code",
   "execution_count": 117,
   "metadata": {},
   "outputs": [
    {
     "data": {
      "text/plain": [
       "200908    676\n",
       "201008    632\n",
       "200808    581\n",
       "200708    521\n",
       "200608    497\n",
       "200508    493\n",
       "Name: FIRST_TERM, dtype: int64"
      ]
     },
     "execution_count": 117,
     "metadata": {},
     "output_type": "execute_result"
    }
   ],
   "source": [
    "data[\"FIRST_TERM\"].value_counts()"
   ]
  },
  {
   "cell_type": "code",
   "execution_count": 118,
   "metadata": {},
   "outputs": [
    {
     "data": {
      "text/html": [
       "<div>\n",
       "<style scoped>\n",
       "    .dataframe tbody tr th:only-of-type {\n",
       "        vertical-align: middle;\n",
       "    }\n",
       "\n",
       "    .dataframe tbody tr th {\n",
       "        vertical-align: top;\n",
       "    }\n",
       "\n",
       "    .dataframe thead th {\n",
       "        text-align: right;\n",
       "    }\n",
       "</style>\n",
       "<table border=\"1\" class=\"dataframe\">\n",
       "  <thead>\n",
       "    <tr style=\"text-align: right;\">\n",
       "      <th>FIRST_TERM</th>\n",
       "      <th>200508</th>\n",
       "      <th>200608</th>\n",
       "      <th>200708</th>\n",
       "      <th>200808</th>\n",
       "      <th>200908</th>\n",
       "      <th>201008</th>\n",
       "      <th>All</th>\n",
       "    </tr>\n",
       "    <tr>\n",
       "      <th>RETURNED_2ND_YR</th>\n",
       "      <th></th>\n",
       "      <th></th>\n",
       "      <th></th>\n",
       "      <th></th>\n",
       "      <th></th>\n",
       "      <th></th>\n",
       "      <th></th>\n",
       "    </tr>\n",
       "  </thead>\n",
       "  <tbody>\n",
       "    <tr>\n",
       "      <th>0</th>\n",
       "      <td>387</td>\n",
       "      <td>419</td>\n",
       "      <td>410</td>\n",
       "      <td>449</td>\n",
       "      <td>520</td>\n",
       "      <td>492</td>\n",
       "      <td>2677</td>\n",
       "    </tr>\n",
       "    <tr>\n",
       "      <th>1</th>\n",
       "      <td>106</td>\n",
       "      <td>78</td>\n",
       "      <td>111</td>\n",
       "      <td>132</td>\n",
       "      <td>156</td>\n",
       "      <td>140</td>\n",
       "      <td>723</td>\n",
       "    </tr>\n",
       "    <tr>\n",
       "      <th>All</th>\n",
       "      <td>493</td>\n",
       "      <td>497</td>\n",
       "      <td>521</td>\n",
       "      <td>581</td>\n",
       "      <td>676</td>\n",
       "      <td>632</td>\n",
       "      <td>3400</td>\n",
       "    </tr>\n",
       "  </tbody>\n",
       "</table>\n",
       "</div>"
      ],
      "text/plain": [
       "FIRST_TERM       200508  200608  200708  200808  200908  201008   All\n",
       "RETURNED_2ND_YR                                                      \n",
       "0                   387     419     410     449     520     492  2677\n",
       "1                   106      78     111     132     156     140   723\n",
       "All                 493     497     521     581     676     632  3400"
      ]
     },
     "execution_count": 118,
     "metadata": {},
     "output_type": "execute_result"
    }
   ],
   "source": [
    "pd.crosstab(data[\"RETURNED_2ND_YR\"], data[\"FIRST_TERM\"], margins = True)"
   ]
  },
  {
   "cell_type": "code",
   "execution_count": 119,
   "metadata": {},
   "outputs": [
    {
     "data": {
      "text/plain": [
       "201002    676\n",
       "201102    632\n",
       "200902    581\n",
       "200802    521\n",
       "200702    497\n",
       "200602    493\n",
       "Name: SECOND_TERM, dtype: int64"
      ]
     },
     "execution_count": 119,
     "metadata": {},
     "output_type": "execute_result"
    }
   ],
   "source": [
    "data[\"SECOND_TERM\"].value_counts()"
   ]
  },
  {
   "cell_type": "code",
   "execution_count": 120,
   "metadata": {},
   "outputs": [
    {
     "data": {
      "text/html": [
       "<div>\n",
       "<style scoped>\n",
       "    .dataframe tbody tr th:only-of-type {\n",
       "        vertical-align: middle;\n",
       "    }\n",
       "\n",
       "    .dataframe tbody tr th {\n",
       "        vertical-align: top;\n",
       "    }\n",
       "\n",
       "    .dataframe thead th {\n",
       "        text-align: right;\n",
       "    }\n",
       "</style>\n",
       "<table border=\"1\" class=\"dataframe\">\n",
       "  <thead>\n",
       "    <tr style=\"text-align: right;\">\n",
       "      <th>SECOND_TERM</th>\n",
       "      <th>200602</th>\n",
       "      <th>200702</th>\n",
       "      <th>200802</th>\n",
       "      <th>200902</th>\n",
       "      <th>201002</th>\n",
       "      <th>201102</th>\n",
       "      <th>All</th>\n",
       "    </tr>\n",
       "    <tr>\n",
       "      <th>RETURNED_2ND_YR</th>\n",
       "      <th></th>\n",
       "      <th></th>\n",
       "      <th></th>\n",
       "      <th></th>\n",
       "      <th></th>\n",
       "      <th></th>\n",
       "      <th></th>\n",
       "    </tr>\n",
       "  </thead>\n",
       "  <tbody>\n",
       "    <tr>\n",
       "      <th>0</th>\n",
       "      <td>387</td>\n",
       "      <td>419</td>\n",
       "      <td>410</td>\n",
       "      <td>449</td>\n",
       "      <td>520</td>\n",
       "      <td>492</td>\n",
       "      <td>2677</td>\n",
       "    </tr>\n",
       "    <tr>\n",
       "      <th>1</th>\n",
       "      <td>106</td>\n",
       "      <td>78</td>\n",
       "      <td>111</td>\n",
       "      <td>132</td>\n",
       "      <td>156</td>\n",
       "      <td>140</td>\n",
       "      <td>723</td>\n",
       "    </tr>\n",
       "    <tr>\n",
       "      <th>All</th>\n",
       "      <td>493</td>\n",
       "      <td>497</td>\n",
       "      <td>521</td>\n",
       "      <td>581</td>\n",
       "      <td>676</td>\n",
       "      <td>632</td>\n",
       "      <td>3400</td>\n",
       "    </tr>\n",
       "  </tbody>\n",
       "</table>\n",
       "</div>"
      ],
      "text/plain": [
       "SECOND_TERM      200602  200702  200802  200902  201002  201102   All\n",
       "RETURNED_2ND_YR                                                      \n",
       "0                   387     419     410     449     520     492  2677\n",
       "1                   106      78     111     132     156     140   723\n",
       "All                 493     497     521     581     676     632  3400"
      ]
     },
     "execution_count": 120,
     "metadata": {},
     "output_type": "execute_result"
    }
   ],
   "source": [
    "pd.crosstab(data[\"RETURNED_2ND_YR\"], data[\"SECOND_TERM\"], margins = True)"
   ]
  },
  {
   "cell_type": "markdown",
   "metadata": {},
   "source": [
    "Here it can be seen that both the columns contain the same information. One of them will be dropped. "
   ]
  },
  {
   "cell_type": "code",
   "execution_count": 121,
   "metadata": {},
   "outputs": [],
   "source": [
    "data.drop(\"SECOND_TERM\", inplace = True, axis = 1)"
   ]
  },
  {
   "cell_type": "code",
   "execution_count": 122,
   "metadata": {},
   "outputs": [],
   "source": [
    "#Mapping first term variable \n",
    "def first_term(x):\n",
    "    \n",
    "    if x == 200508:\n",
    "        \n",
    "        return 2005\n",
    "    \n",
    "    elif x == 200608:\n",
    "        \n",
    "        return 2006\n",
    "    \n",
    "    elif x == 200708:\n",
    "        \n",
    "        return 2007\n",
    "    \n",
    "    elif x == 200808:\n",
    "        \n",
    "        return 2008\n",
    "    \n",
    "    elif x == 200908:\n",
    "        \n",
    "        return 2009\n",
    "    \n",
    "    elif x == 201008:\n",
    "        \n",
    "        return 2010"
   ]
  },
  {
   "cell_type": "code",
   "execution_count": 123,
   "metadata": {},
   "outputs": [],
   "source": [
    "data[\"FIRST_TERM\"] = data[\"FIRST_TERM\"].map(first_term)"
   ]
  },
  {
   "cell_type": "code",
   "execution_count": 124,
   "metadata": {},
   "outputs": [
    {
     "data": {
      "text/html": [
       "<div>\n",
       "<style scoped>\n",
       "    .dataframe tbody tr th:only-of-type {\n",
       "        vertical-align: middle;\n",
       "    }\n",
       "\n",
       "    .dataframe tbody tr th {\n",
       "        vertical-align: top;\n",
       "    }\n",
       "\n",
       "    .dataframe thead th {\n",
       "        text-align: right;\n",
       "    }\n",
       "</style>\n",
       "<table border=\"1\" class=\"dataframe\">\n",
       "  <thead>\n",
       "    <tr style=\"text-align: right;\">\n",
       "      <th>FIRST_TERM</th>\n",
       "      <th>2005</th>\n",
       "      <th>2006</th>\n",
       "      <th>2007</th>\n",
       "      <th>2008</th>\n",
       "      <th>2009</th>\n",
       "      <th>2010</th>\n",
       "      <th>All</th>\n",
       "    </tr>\n",
       "    <tr>\n",
       "      <th>RETURNED_2ND_YR</th>\n",
       "      <th></th>\n",
       "      <th></th>\n",
       "      <th></th>\n",
       "      <th></th>\n",
       "      <th></th>\n",
       "      <th></th>\n",
       "      <th></th>\n",
       "    </tr>\n",
       "  </thead>\n",
       "  <tbody>\n",
       "    <tr>\n",
       "      <th>0</th>\n",
       "      <td>387</td>\n",
       "      <td>419</td>\n",
       "      <td>410</td>\n",
       "      <td>449</td>\n",
       "      <td>520</td>\n",
       "      <td>492</td>\n",
       "      <td>2677</td>\n",
       "    </tr>\n",
       "    <tr>\n",
       "      <th>1</th>\n",
       "      <td>106</td>\n",
       "      <td>78</td>\n",
       "      <td>111</td>\n",
       "      <td>132</td>\n",
       "      <td>156</td>\n",
       "      <td>140</td>\n",
       "      <td>723</td>\n",
       "    </tr>\n",
       "    <tr>\n",
       "      <th>All</th>\n",
       "      <td>493</td>\n",
       "      <td>497</td>\n",
       "      <td>521</td>\n",
       "      <td>581</td>\n",
       "      <td>676</td>\n",
       "      <td>632</td>\n",
       "      <td>3400</td>\n",
       "    </tr>\n",
       "  </tbody>\n",
       "</table>\n",
       "</div>"
      ],
      "text/plain": [
       "FIRST_TERM       2005  2006  2007  2008  2009  2010   All\n",
       "RETURNED_2ND_YR                                          \n",
       "0                 387   419   410   449   520   492  2677\n",
       "1                 106    78   111   132   156   140   723\n",
       "All               493   497   521   581   676   632  3400"
      ]
     },
     "execution_count": 124,
     "metadata": {},
     "output_type": "execute_result"
    }
   ],
   "source": [
    "pd.crosstab(data[\"RETURNED_2ND_YR\"], data[\"FIRST_TERM\"], margins = True)"
   ]
  },
  {
   "cell_type": "code",
   "execution_count": 125,
   "metadata": {},
   "outputs": [
    {
     "name": "stdout",
     "output_type": "stream",
     "text": [
      "Drop out rate in 2005 = 0.2150101419878296.\n",
      "Drop out rate in 2006 = 0.15694164989939638.\n",
      "Drop out rate in 2007 = 0.21305182341650672.\n",
      "Drop out rate in 2008 = 0.22719449225473323.\n",
      "Drop out rate in 2009 = 0.23076923076923078.\n",
      "Drop out rate in 2010 = 0.22151898734177214.\n"
     ]
    }
   ],
   "source": [
    "print(f\"Drop out rate in 2005 = {106/493}.\")\n",
    "print(f\"Drop out rate in 2006 = {78/497}.\")\n",
    "print(f\"Drop out rate in 2007 = {111/521}.\")\n",
    "print(f\"Drop out rate in 2008 = {132/581}.\")\n",
    "print(f\"Drop out rate in 2009 = {156/676}.\")\n",
    "print(f\"Drop out rate in 2010 = {140/632}.\")"
   ]
  },
  {
   "cell_type": "markdown",
   "metadata": {},
   "source": [
    "Except for the year 2006, there seems to be a negligible difference in the drop-out rates across years. This variable will be dropped."
   ]
  },
  {
   "cell_type": "code",
   "execution_count": 126,
   "metadata": {},
   "outputs": [],
   "source": [
    "data.drop(\"FIRST_TERM\", inplace = True, axis = 1)"
   ]
  },
  {
   "cell_type": "code",
   "execution_count": null,
   "metadata": {},
   "outputs": [],
   "source": []
  },
  {
   "cell_type": "code",
   "execution_count": 127,
   "metadata": {},
   "outputs": [],
   "source": [
    "#Extracting numerical features\n",
    "numerical_continuous_variables = [\"STDNT_AGE\",\n",
    "                      \"DISTANCE_FROM_HOME\", \"HIGH_SCHL_GPA\", \"FIRST_TERM_ATTEMPT_HRS\", \"FIRST_TERM_EARNED_HRS\",\n",
    "                                  \"SECOND_TERM_ATTEMPT_HRS\", \"SECOND_TERM_EARNED_HRS\", \"GROSS_FIN_NEED\", \"COST_OF_ATTEND\",\n",
    "                                  \"EST_FAM_CONTRIBUTION\", \"UNMET_NEED\"]"
   ]
  },
  {
   "cell_type": "code",
   "execution_count": 128,
   "metadata": {},
   "outputs": [],
   "source": [
    "from sklearn import preprocessing"
   ]
  },
  {
   "cell_type": "markdown",
   "metadata": {},
   "source": [
    "To visualise all the quantitative variables together in a boxplot, they will need to be scaled. This is shown below."
   ]
  },
  {
   "cell_type": "code",
   "execution_count": 129,
   "metadata": {},
   "outputs": [],
   "source": [
    "normalized_num_fea = pd.DataFrame(preprocessing.scale(data[numerical_continuous_variables]), columns= numerical_continuous_variables)"
   ]
  },
  {
   "cell_type": "code",
   "execution_count": 130,
   "metadata": {},
   "outputs": [
    {
     "data": {
      "text/plain": [
       "Text(0.5, 1.0, 'Box Plots of Quantitative Variables')"
      ]
     },
     "execution_count": 130,
     "metadata": {},
     "output_type": "execute_result"
    },
    {
     "data": {
      "image/png": "[encoded data removed]",
      "text/plain": [
       "<Figure size 1440x720 with 1 Axes>"
      ]
     },
     "metadata": {
      "needs_background": "light"
     },
     "output_type": "display_data"
    }
   ],
   "source": [
    "ax=normalized_num_fea.boxplot( figsize=(20,10))\n",
    "ax.set_xticklabels(ax.get_xticklabels(),rotation=90)\n",
    "ax.set_title('Box Plots of Quantitative Variables')"
   ]
  },
  {
   "cell_type": "code",
   "execution_count": 131,
   "metadata": {},
   "outputs": [
    {
     "data": {
      "text/plain": [
       "Text(0.5, 1.0, 'Multi-Collinearity')"
      ]
     },
     "execution_count": 131,
     "metadata": {},
     "output_type": "execute_result"
    },
    {
     "data": {
      "image/png": "[encoded data removed]",
      "text/plain": [
       "<Figure size 720x432 with 2 Axes>"
      ]
     },
     "metadata": {
      "needs_background": "light"
     },
     "output_type": "display_data"
    }
   ],
   "source": [
    "fig, ax = plt.subplots(figsize=(10,6))\n",
    "sns.heatmap(normalized_num_fea.corr(), center=0,cmap='coolwarm')\n",
    "ax.set_title('Multi-Collinearity')"
   ]
  },
  {
   "cell_type": "code",
   "execution_count": 132,
   "metadata": {},
   "outputs": [
    {
     "data": {
      "text/plain": [
       "STDNT_AGE                  0.0\n",
       "DISTANCE_FROM_HOME         0.0\n",
       "HIGH_SCHL_GPA              0.0\n",
       "FIRST_TERM_ATTEMPT_HRS     0.0\n",
       "FIRST_TERM_EARNED_HRS      0.0\n",
       "SECOND_TERM_ATTEMPT_HRS    0.0\n",
       "SECOND_TERM_EARNED_HRS     0.0\n",
       "GROSS_FIN_NEED             0.0\n",
       "COST_OF_ATTEND             0.0\n",
       "EST_FAM_CONTRIBUTION       0.0\n",
       "UNMET_NEED                 0.0\n",
       "dtype: float64"
      ]
     },
     "execution_count": 132,
     "metadata": {},
     "output_type": "execute_result"
    }
   ],
   "source": [
    "#Double checking missing values\n",
    "data[numerical_continuous_variables].isnull().sum()/data.shape[0]"
   ]
  },
  {
   "cell_type": "code",
   "execution_count": null,
   "metadata": {},
   "outputs": [],
   "source": []
  },
  {
   "cell_type": "markdown",
   "metadata": {},
   "source": [
    "#### STDNT_AGE"
   ]
  },
  {
   "cell_type": "code",
   "execution_count": 133,
   "metadata": {},
   "outputs": [
    {
     "data": {
      "text/plain": [
       "<AxesSubplot:xlabel='STDNT_AGE', ylabel='Count'>"
      ]
     },
     "execution_count": 133,
     "metadata": {},
     "output_type": "execute_result"
    },
    {
     "data": {
      "image/png": "[encoded data removed]",
      "text/plain": [
       "<Figure size 432x288 with 1 Axes>"
      ]
     },
     "metadata": {
      "needs_background": "light"
     },
     "output_type": "display_data"
    }
   ],
   "source": [
    "sns.histplot(data = data, x=\"STDNT_AGE\")"
   ]
  },
  {
   "cell_type": "code",
   "execution_count": 134,
   "metadata": {},
   "outputs": [
    {
     "data": {
      "text/plain": [
       "18    2860\n",
       "17     309\n",
       "19     190\n",
       "20      14\n",
       "16       8\n",
       "21       7\n",
       "22       4\n",
       "25       3\n",
       "23       3\n",
       "26       1\n",
       "24       1\n",
       "Name: STDNT_AGE, dtype: int64"
      ]
     },
     "execution_count": 134,
     "metadata": {},
     "output_type": "execute_result"
    }
   ],
   "source": [
    "data[\"STDNT_AGE\"].value_counts()"
   ]
  },
  {
   "cell_type": "code",
   "execution_count": 135,
   "metadata": {},
   "outputs": [
    {
     "data": {
      "text/plain": [
       "count    3400.000000\n",
       "mean       17.994118\n",
       "std         0.552052\n",
       "min        16.000000\n",
       "25%        18.000000\n",
       "50%        18.000000\n",
       "75%        18.000000\n",
       "max        26.000000\n",
       "Name: STDNT_AGE, dtype: float64"
      ]
     },
     "execution_count": 135,
     "metadata": {},
     "output_type": "execute_result"
    }
   ],
   "source": [
    "data[\"STDNT_AGE\"].describe()"
   ]
  },
  {
   "cell_type": "code",
   "execution_count": null,
   "metadata": {},
   "outputs": [],
   "source": []
  },
  {
   "cell_type": "code",
   "execution_count": 136,
   "metadata": {},
   "outputs": [
    {
     "data": {
      "text/plain": [
       "0    0.776025\n",
       "1    0.223975\n",
       "Name: RETURNED_2ND_YR, dtype: float64"
      ]
     },
     "execution_count": 136,
     "metadata": {},
     "output_type": "execute_result"
    }
   ],
   "source": [
    "low_age = data.query(\"STDNT_AGE < 18\")\n",
    "low_age[\"RETURNED_2ND_YR\"].value_counts()/low_age.shape[0]"
   ]
  },
  {
   "cell_type": "code",
   "execution_count": 137,
   "metadata": {},
   "outputs": [
    {
     "data": {
      "text/plain": [
       "0    0.717489\n",
       "1    0.282511\n",
       "Name: RETURNED_2ND_YR, dtype: float64"
      ]
     },
     "execution_count": 137,
     "metadata": {},
     "output_type": "execute_result"
    }
   ],
   "source": [
    "high_age = data.query(\"STDNT_AGE > 18\")\n",
    "high_age[\"RETURNED_2ND_YR\"].value_counts()/high_age.shape[0]"
   ]
  },
  {
   "cell_type": "markdown",
   "metadata": {},
   "source": [
    "The results show that students older than 18 have a drop-out rate of 28%, compared to a drop-out rate of 22% for students younger than 18. "
   ]
  },
  {
   "cell_type": "code",
   "execution_count": null,
   "metadata": {},
   "outputs": [],
   "source": []
  },
  {
   "cell_type": "markdown",
   "metadata": {},
   "source": [
    "An ANOVA will now be performed to test for differences across means. This will be done for each quantitative variable."
   ]
  },
  {
   "cell_type": "code",
   "execution_count": 138,
   "metadata": {},
   "outputs": [],
   "source": [
    "#Examining attrition rate by age\n",
    "left = data.query(\"RETURNED_2ND_YR == 1\")[\"STDNT_AGE\"]\n",
    "stay = data.query(\"RETURNED_2ND_YR == 0\")[\"STDNT_AGE\"]"
   ]
  },
  {
   "cell_type": "code",
   "execution_count": 139,
   "metadata": {},
   "outputs": [
    {
     "data": {
      "text/plain": [
       "F_onewayResult(statistic=1.3411697792033888, pvalue=0.2469091696622737)"
      ]
     },
     "execution_count": 139,
     "metadata": {},
     "output_type": "execute_result"
    }
   ],
   "source": [
    "stats.f_oneway(left, stay)"
   ]
  },
  {
   "cell_type": "markdown",
   "metadata": {},
   "source": [
    "Here, the p-value shows that there is no significant difference across means. This indicates that age is not a contributing factor to the drop out rate. However, it is still an important variable. The model will be run with and without it. The best performing model will then be chosen."
   ]
  },
  {
   "cell_type": "markdown",
   "metadata": {},
   "source": [
    "#### DISTANCE_FROM_HOME"
   ]
  },
  {
   "cell_type": "code",
   "execution_count": 140,
   "metadata": {},
   "outputs": [
    {
     "data": {
      "text/plain": [
       "count    3400.000000\n",
       "mean       99.598529\n",
       "std       234.345241\n",
       "min         0.000000\n",
       "25%        69.000000\n",
       "50%        69.000000\n",
       "75%       138.000000\n",
       "max      5932.000000\n",
       "Name: DISTANCE_FROM_HOME, dtype: float64"
      ]
     },
     "execution_count": 140,
     "metadata": {},
     "output_type": "execute_result"
    }
   ],
   "source": [
    "data[\"DISTANCE_FROM_HOME\"].describe()"
   ]
  },
  {
   "cell_type": "markdown",
   "metadata": {},
   "source": [
    "The maximum value of 5932 will not be considered as an outlier as it can be explained by international students who live in foreign countries. The minimum 0 will not be considered an outlier as it can be explained by in-state students. "
   ]
  },
  {
   "cell_type": "code",
   "execution_count": 141,
   "metadata": {},
   "outputs": [
    {
     "data": {
      "text/plain": [
       "<AxesSubplot:xlabel='DISTANCE_FROM_HOME', ylabel='Count'>"
      ]
     },
     "execution_count": 141,
     "metadata": {},
     "output_type": "execute_result"
    },
    {
     "data": {
      "image/png": "[encoded data removed]",
      "text/plain": [
       "<Figure size 432x288 with 1 Axes>"
      ]
     },
     "metadata": {
      "needs_background": "light"
     },
     "output_type": "display_data"
    }
   ],
   "source": [
    "sns.histplot(x = \"DISTANCE_FROM_HOME\", data = data)"
   ]
  },
  {
   "cell_type": "markdown",
   "metadata": {},
   "source": [
    "The affect of DISTANCE_FROM_HOME on the target variable will now be examined by querying the data according to its quartiles. (Q1 and Q3)"
   ]
  },
  {
   "cell_type": "code",
   "execution_count": 142,
   "metadata": {},
   "outputs": [
    {
     "data": {
      "text/plain": [
       "0    0.812155\n",
       "1    0.187845\n",
       "Name: RETURNED_2ND_YR, dtype: float64"
      ]
     },
     "execution_count": 142,
     "metadata": {},
     "output_type": "execute_result"
    }
   ],
   "source": [
    "low_distance = data.query(\"DISTANCE_FROM_HOME < 69\")\n",
    "low_distance[\"RETURNED_2ND_YR\"].value_counts()/low_distance.shape[0]"
   ]
  },
  {
   "cell_type": "code",
   "execution_count": 143,
   "metadata": {},
   "outputs": [
    {
     "data": {
      "text/plain": [
       "0    0.767733\n",
       "1    0.232267\n",
       "Name: RETURNED_2ND_YR, dtype: float64"
      ]
     },
     "execution_count": 143,
     "metadata": {},
     "output_type": "execute_result"
    }
   ],
   "source": [
    "high_distance = data.query(\"DISTANCE_FROM_HOME > 138\")\n",
    "high_distance[\"RETURNED_2ND_YR\"].value_counts()/high_distance.shape[0]"
   ]
  },
  {
   "cell_type": "markdown",
   "metadata": {},
   "source": [
    "Here we see that student's whose homes are closer to the university have a lower chance of dropping out after the first year in university. "
   ]
  },
  {
   "cell_type": "code",
   "execution_count": 144,
   "metadata": {},
   "outputs": [
    {
     "data": {
      "text/plain": [
       "F_onewayResult(statistic=2.416166104932261, pvalue=0.12018164269756056)"
      ]
     },
     "execution_count": 144,
     "metadata": {},
     "output_type": "execute_result"
    }
   ],
   "source": [
    "#Examining attrition rate by distance from home\n",
    "left = data.query(\"RETURNED_2ND_YR == 1\")[\"DISTANCE_FROM_HOME\"]\n",
    "stay = data.query(\"RETURNED_2ND_YR == 0\")[\"DISTANCE_FROM_HOME\"]\n",
    "stats.f_oneway(left, stay)"
   ]
  },
  {
   "cell_type": "markdown",
   "metadata": {},
   "source": [
    "Here, the p-value shows that there is no significant difference across means. This indicates that distance from home is not a contributing factor to the drop out rate. Once again however, this seems like an important factor for the university to consider. The model will be run with and without this variable, and differences noted. "
   ]
  },
  {
   "cell_type": "code",
   "execution_count": null,
   "metadata": {},
   "outputs": [],
   "source": []
  },
  {
   "cell_type": "markdown",
   "metadata": {},
   "source": [
    "#### HIGH_SCHL_GPA"
   ]
  },
  {
   "cell_type": "code",
   "execution_count": 145,
   "metadata": {},
   "outputs": [
    {
     "data": {
      "text/plain": [
       "count    3400.000000\n",
       "mean        3.202695\n",
       "std         0.451773\n",
       "min         0.000000\n",
       "25%         2.870000\n",
       "50%         3.200000\n",
       "75%         3.550000\n",
       "max         4.000000\n",
       "Name: HIGH_SCHL_GPA, dtype: float64"
      ]
     },
     "execution_count": 145,
     "metadata": {},
     "output_type": "execute_result"
    }
   ],
   "source": [
    "data[\"HIGH_SCHL_GPA\"].describe()"
   ]
  },
  {
   "cell_type": "code",
   "execution_count": 146,
   "metadata": {},
   "outputs": [
    {
     "data": {
      "text/plain": [
       "<AxesSubplot:xlabel='HIGH_SCHL_GPA', ylabel='Count'>"
      ]
     },
     "execution_count": 146,
     "metadata": {},
     "output_type": "execute_result"
    },
    {
     "data": {
      "image/png": "[encoded data removed]",
      "text/plain": [
       "<Figure size 432x288 with 1 Axes>"
      ]
     },
     "metadata": {
      "needs_background": "light"
     },
     "output_type": "display_data"
    }
   ],
   "source": [
    "sns.histplot(x = \"HIGH_SCHL_GPA\", data = data)"
   ]
  },
  {
   "cell_type": "markdown",
   "metadata": {},
   "source": [
    "The affects of GPA on attrition rate will be examined looking at the quartiles. Data will be queried according to the quartiles (Q1, Q2 and Q3) in an attempt to spot any changes in the attrition rate."
   ]
  },
  {
   "cell_type": "code",
   "execution_count": 147,
   "metadata": {},
   "outputs": [],
   "source": [
    "low_GPA = data.query(\"HIGH_SCHL_GPA < 2.87\")"
   ]
  },
  {
   "cell_type": "code",
   "execution_count": 148,
   "metadata": {},
   "outputs": [
    {
     "data": {
      "text/plain": [
       "0    0.764706\n",
       "1    0.235294\n",
       "Name: RETURNED_2ND_YR, dtype: float64"
      ]
     },
     "execution_count": 148,
     "metadata": {},
     "output_type": "execute_result"
    }
   ],
   "source": [
    "low_GPA[\"RETURNED_2ND_YR\"].value_counts()/low_GPA.shape[0]"
   ]
  },
  {
   "cell_type": "code",
   "execution_count": 149,
   "metadata": {},
   "outputs": [
    {
     "data": {
      "text/plain": [
       "0    0.76208\n",
       "1    0.23792\n",
       "Name: RETURNED_2ND_YR, dtype: float64"
      ]
     },
     "execution_count": 149,
     "metadata": {},
     "output_type": "execute_result"
    }
   ],
   "source": [
    "med_GPA = data.query(\"HIGH_SCHL_GPA < 3.2\")\n",
    "med_GPA[\"RETURNED_2ND_YR\"].value_counts()/med_GPA.shape[0]"
   ]
  },
  {
   "cell_type": "code",
   "execution_count": 150,
   "metadata": {},
   "outputs": [
    {
     "data": {
      "text/plain": [
       "Text(-2.700000000000003, 0.5, 'Count')"
      ]
     },
     "execution_count": 150,
     "metadata": {},
     "output_type": "execute_result"
    },
    {
     "data": {
      "image/png": "[encoded data removed]",
      "text/plain": [
       "<Figure size 360x360 with 1 Axes>"
      ]
     },
     "metadata": {
      "needs_background": "light"
     },
     "output_type": "display_data"
    }
   ],
   "source": [
    "sns.catplot(x=\"RETURNED_2ND_YR\",data=med_GPA, kind = \"count\")\n",
    "plt.title(\"Count vs RETURNED_2ND_YR for Low/Medium HIGH_SCHL_GPA\")\n",
    "plt.ylabel(\"Count\")"
   ]
  },
  {
   "cell_type": "code",
   "execution_count": 151,
   "metadata": {},
   "outputs": [
    {
     "data": {
      "text/plain": [
       "0    0.840244\n",
       "1    0.159756\n",
       "Name: RETURNED_2ND_YR, dtype: float64"
      ]
     },
     "execution_count": 151,
     "metadata": {},
     "output_type": "execute_result"
    }
   ],
   "source": [
    "high_GPA = data.query(\"HIGH_SCHL_GPA > 3.56\")\n",
    "high_GPA[\"RETURNED_2ND_YR\"].value_counts()/high_GPA.shape[0]"
   ]
  },
  {
   "cell_type": "code",
   "execution_count": 152,
   "metadata": {},
   "outputs": [
    {
     "data": {
      "text/plain": [
       "Text(3.674999999999997, 0.5, 'Count')"
      ]
     },
     "execution_count": 152,
     "metadata": {},
     "output_type": "execute_result"
    },
    {
     "data": {
      "image/png": "[encoded data removed]",
      "text/plain": [
       "<Figure size 360x360 with 1 Axes>"
      ]
     },
     "metadata": {
      "needs_background": "light"
     },
     "output_type": "display_data"
    }
   ],
   "source": [
    "sns.catplot(x=\"RETURNED_2ND_YR\",data=high_GPA, kind = \"count\")\n",
    "plt.title(\"Count vs RETURNED_2ND_YR for High HIGH_SCHL_GPA\")\n",
    "plt.ylabel(\"Count\")"
   ]
  },
  {
   "cell_type": "markdown",
   "metadata": {},
   "source": [
    "This has yielded some interesting results. Students with medium to low High School GPAs are almost 10% more likely to drop out as compared to students with high GPA's."
   ]
  },
  {
   "cell_type": "code",
   "execution_count": 153,
   "metadata": {},
   "outputs": [
    {
     "data": {
      "text/plain": [
       "F_onewayResult(statistic=21.85161972410871, pvalue=3.060172391532888e-06)"
      ]
     },
     "execution_count": 153,
     "metadata": {},
     "output_type": "execute_result"
    }
   ],
   "source": [
    "#Examining attrition rate by GPA\n",
    "left = data.query(\"RETURNED_2ND_YR == 1\")[\"HIGH_SCHL_GPA\"]\n",
    "stay = data.query(\"RETURNED_2ND_YR == 0\")[\"HIGH_SCHL_GPA\"]\n",
    "stats.f_oneway(left, stay)"
   ]
  },
  {
   "cell_type": "markdown",
   "metadata": {},
   "source": [
    "Results from the ANOVA suggests a difference in high school GPA between students who dropped out and students who didn't. "
   ]
  },
  {
   "cell_type": "markdown",
   "metadata": {},
   "source": [
    "#### FIRST_TERM_ATTEMPT_HRS & FIRST_TERM_EARNED_HRS"
   ]
  },
  {
   "cell_type": "code",
   "execution_count": 154,
   "metadata": {},
   "outputs": [
    {
     "data": {
      "text/plain": [
       "count    3400.000000\n",
       "mean       13.985882\n",
       "std         1.554286\n",
       "min         9.000000\n",
       "25%        13.000000\n",
       "50%        14.000000\n",
       "75%        15.000000\n",
       "max        21.000000\n",
       "Name: FIRST_TERM_ATTEMPT_HRS, dtype: float64"
      ]
     },
     "execution_count": 154,
     "metadata": {},
     "output_type": "execute_result"
    }
   ],
   "source": [
    "data[\"FIRST_TERM_ATTEMPT_HRS\"].describe()"
   ]
  },
  {
   "cell_type": "code",
   "execution_count": 155,
   "metadata": {},
   "outputs": [
    {
     "data": {
      "text/plain": [
       "<AxesSubplot:xlabel='FIRST_TERM_ATTEMPT_HRS', ylabel='Count'>"
      ]
     },
     "execution_count": 155,
     "metadata": {},
     "output_type": "execute_result"
    },
    {
     "data": {
      "image/png": "[encoded data removed]",
      "text/plain": [
       "<Figure size 432x288 with 1 Axes>"
      ]
     },
     "metadata": {
      "needs_background": "light"
     },
     "output_type": "display_data"
    }
   ],
   "source": [
    "sns.histplot(x = \"FIRST_TERM_ATTEMPT_HRS\", data = data)"
   ]
  },
  {
   "cell_type": "code",
   "execution_count": 156,
   "metadata": {},
   "outputs": [
    {
     "data": {
      "text/plain": [
       "count    3400.000000\n",
       "mean       12.205000\n",
       "std         2.986294\n",
       "min         0.000000\n",
       "25%        11.000000\n",
       "50%        13.000000\n",
       "75%        15.000000\n",
       "max        21.000000\n",
       "Name: FIRST_TERM_EARNED_HRS, dtype: float64"
      ]
     },
     "execution_count": 156,
     "metadata": {},
     "output_type": "execute_result"
    }
   ],
   "source": [
    "data[\"FIRST_TERM_EARNED_HRS\"].describe()"
   ]
  },
  {
   "cell_type": "code",
   "execution_count": 157,
   "metadata": {},
   "outputs": [
    {
     "data": {
      "text/plain": [
       "<AxesSubplot:xlabel='FIRST_TERM_EARNED_HRS', ylabel='Count'>"
      ]
     },
     "execution_count": 157,
     "metadata": {},
     "output_type": "execute_result"
    },
    {
     "data": {
      "image/png": "[encoded data removed]",
      "text/plain": [
       "<Figure size 432x288 with 1 Axes>"
      ]
     },
     "metadata": {
      "needs_background": "light"
     },
     "output_type": "display_data"
    }
   ],
   "source": [
    "sns.histplot(x = \"FIRST_TERM_EARNED_HRS\", data = data)"
   ]
  },
  {
   "cell_type": "code",
   "execution_count": 158,
   "metadata": {},
   "outputs": [
    {
     "data": {
      "text/html": [
       "<div>\n",
       "<style scoped>\n",
       "    .dataframe tbody tr th:only-of-type {\n",
       "        vertical-align: middle;\n",
       "    }\n",
       "\n",
       "    .dataframe tbody tr th {\n",
       "        vertical-align: top;\n",
       "    }\n",
       "\n",
       "    .dataframe thead th {\n",
       "        text-align: right;\n",
       "    }\n",
       "</style>\n",
       "<table border=\"1\" class=\"dataframe\">\n",
       "  <thead>\n",
       "    <tr style=\"text-align: right;\">\n",
       "      <th></th>\n",
       "      <th>FIRST_TERM_ATTEMPT_HRS</th>\n",
       "      <th>FIRST_TERM_EARNED_HRS</th>\n",
       "    </tr>\n",
       "  </thead>\n",
       "  <tbody>\n",
       "    <tr>\n",
       "      <th>FIRST_TERM_ATTEMPT_HRS</th>\n",
       "      <td>1.000000</td>\n",
       "      <td>0.466185</td>\n",
       "    </tr>\n",
       "    <tr>\n",
       "      <th>FIRST_TERM_EARNED_HRS</th>\n",
       "      <td>0.466185</td>\n",
       "      <td>1.000000</td>\n",
       "    </tr>\n",
       "  </tbody>\n",
       "</table>\n",
       "</div>"
      ],
      "text/plain": [
       "                        FIRST_TERM_ATTEMPT_HRS  FIRST_TERM_EARNED_HRS\n",
       "FIRST_TERM_ATTEMPT_HRS                1.000000               0.466185\n",
       "FIRST_TERM_EARNED_HRS                 0.466185               1.000000"
      ]
     },
     "execution_count": 158,
     "metadata": {},
     "output_type": "execute_result"
    }
   ],
   "source": [
    "data[[\"FIRST_TERM_ATTEMPT_HRS\", \"FIRST_TERM_EARNED_HRS\"]].corr()"
   ]
  },
  {
   "cell_type": "code",
   "execution_count": 159,
   "metadata": {},
   "outputs": [
    {
     "data": {
      "text/plain": [
       "0    0.717842\n",
       "1    0.282158\n",
       "Name: RETURNED_2ND_YR, dtype: float64"
      ]
     },
     "execution_count": 159,
     "metadata": {},
     "output_type": "execute_result"
    }
   ],
   "source": [
    "low_hours = data.query(\"FIRST_TERM_ATTEMPT_HRS < 13 & FIRST_TERM_EARNED_HRS < 11\")\n",
    "low_hours[\"RETURNED_2ND_YR\"].value_counts()/low_hours.shape[0]"
   ]
  },
  {
   "cell_type": "code",
   "execution_count": null,
   "metadata": {},
   "outputs": [],
   "source": []
  },
  {
   "cell_type": "code",
   "execution_count": 160,
   "metadata": {},
   "outputs": [
    {
     "data": {
      "text/plain": [
       "0    0.792683\n",
       "1    0.207317\n",
       "Name: RETURNED_2ND_YR, dtype: float64"
      ]
     },
     "execution_count": 160,
     "metadata": {},
     "output_type": "execute_result"
    }
   ],
   "source": [
    "high_hours = data.query(\"FIRST_TERM_ATTEMPT_HRS > 15 & FIRST_TERM_EARNED_HRS > 15\")\n",
    "high_hours[\"RETURNED_2ND_YR\"].value_counts()/high_hours.shape[0]"
   ]
  },
  {
   "cell_type": "code",
   "execution_count": null,
   "metadata": {},
   "outputs": [],
   "source": []
  },
  {
   "cell_type": "markdown",
   "metadata": {},
   "source": [
    "#### SECOND_TERM_ATTEMPT_HRS & SECOND_TERM_HRS"
   ]
  },
  {
   "cell_type": "code",
   "execution_count": 161,
   "metadata": {},
   "outputs": [
    {
     "data": {
      "text/plain": [
       "count    3400.000000\n",
       "mean       14.268529\n",
       "std         2.040761\n",
       "min         2.000000\n",
       "25%        13.000000\n",
       "50%        14.000000\n",
       "75%        16.000000\n",
       "max        23.000000\n",
       "Name: SECOND_TERM_ATTEMPT_HRS, dtype: float64"
      ]
     },
     "execution_count": 161,
     "metadata": {},
     "output_type": "execute_result"
    }
   ],
   "source": [
    "data[\"SECOND_TERM_ATTEMPT_HRS\"].describe()"
   ]
  },
  {
   "cell_type": "code",
   "execution_count": 162,
   "metadata": {},
   "outputs": [
    {
     "data": {
      "text/plain": [
       "<AxesSubplot:xlabel='SECOND_TERM_ATTEMPT_HRS', ylabel='Count'>"
      ]
     },
     "execution_count": 162,
     "metadata": {},
     "output_type": "execute_result"
    },
    {
     "data": {
      "image/png": "[encoded data removed]",
      "text/plain": [
       "<Figure size 432x288 with 1 Axes>"
      ]
     },
     "metadata": {
      "needs_background": "light"
     },
     "output_type": "display_data"
    }
   ],
   "source": [
    "sns.histplot(x = \"SECOND_TERM_ATTEMPT_HRS\", data = data)"
   ]
  },
  {
   "cell_type": "code",
   "execution_count": 163,
   "metadata": {},
   "outputs": [
    {
     "data": {
      "text/plain": [
       "count    3400.000000\n",
       "mean       12.541176\n",
       "std         3.364152\n",
       "min         0.000000\n",
       "25%        11.000000\n",
       "50%        13.000000\n",
       "75%        15.000000\n",
       "max        23.000000\n",
       "Name: SECOND_TERM_EARNED_HRS, dtype: float64"
      ]
     },
     "execution_count": 163,
     "metadata": {},
     "output_type": "execute_result"
    }
   ],
   "source": [
    "data[\"SECOND_TERM_EARNED_HRS\"].describe()"
   ]
  },
  {
   "cell_type": "code",
   "execution_count": 164,
   "metadata": {},
   "outputs": [
    {
     "data": {
      "text/plain": [
       "0    0.701031\n",
       "1    0.298969\n",
       "Name: RETURNED_2ND_YR, dtype: float64"
      ]
     },
     "execution_count": 164,
     "metadata": {},
     "output_type": "execute_result"
    }
   ],
   "source": [
    "low_hours = data.query(\"SECOND_TERM_ATTEMPT_HRS < 13 & SECOND_TERM_EARNED_HRS < 11\")\n",
    "low_hours[\"RETURNED_2ND_YR\"].value_counts()/low_hours.shape[0]"
   ]
  },
  {
   "cell_type": "code",
   "execution_count": 165,
   "metadata": {},
   "outputs": [
    {
     "data": {
      "text/plain": [
       "0    0.800687\n",
       "1    0.134021\n",
       "Name: RETURNED_2ND_YR, dtype: float64"
      ]
     },
     "execution_count": 165,
     "metadata": {},
     "output_type": "execute_result"
    }
   ],
   "source": [
    "high_hours = data.query(\"SECOND_TERM_ATTEMPT_HRS > 16 & SECOND_TERM_EARNED_HRS > 15\")\n",
    "high_hours[\"RETURNED_2ND_YR\"].value_counts()/low_hours.shape[0]"
   ]
  },
  {
   "cell_type": "code",
   "execution_count": 166,
   "metadata": {},
   "outputs": [
    {
     "data": {
      "text/html": [
       "<div>\n",
       "<style scoped>\n",
       "    .dataframe tbody tr th:only-of-type {\n",
       "        vertical-align: middle;\n",
       "    }\n",
       "\n",
       "    .dataframe tbody tr th {\n",
       "        vertical-align: top;\n",
       "    }\n",
       "\n",
       "    .dataframe thead th {\n",
       "        text-align: right;\n",
       "    }\n",
       "</style>\n",
       "<table border=\"1\" class=\"dataframe\">\n",
       "  <thead>\n",
       "    <tr style=\"text-align: right;\">\n",
       "      <th></th>\n",
       "      <th>SECOND_TERM_ATTEMPT_HRS</th>\n",
       "      <th>SECOND_TERM_EARNED_HRS</th>\n",
       "    </tr>\n",
       "  </thead>\n",
       "  <tbody>\n",
       "    <tr>\n",
       "      <th>SECOND_TERM_ATTEMPT_HRS</th>\n",
       "      <td>1.00000</td>\n",
       "      <td>0.61048</td>\n",
       "    </tr>\n",
       "    <tr>\n",
       "      <th>SECOND_TERM_EARNED_HRS</th>\n",
       "      <td>0.61048</td>\n",
       "      <td>1.00000</td>\n",
       "    </tr>\n",
       "  </tbody>\n",
       "</table>\n",
       "</div>"
      ],
      "text/plain": [
       "                         SECOND_TERM_ATTEMPT_HRS  SECOND_TERM_EARNED_HRS\n",
       "SECOND_TERM_ATTEMPT_HRS                  1.00000                 0.61048\n",
       "SECOND_TERM_EARNED_HRS                   0.61048                 1.00000"
      ]
     },
     "execution_count": 166,
     "metadata": {},
     "output_type": "execute_result"
    }
   ],
   "source": [
    "data[[\"SECOND_TERM_ATTEMPT_HRS\", \"SECOND_TERM_EARNED_HRS\"]].corr()"
   ]
  },
  {
   "cell_type": "code",
   "execution_count": 167,
   "metadata": {},
   "outputs": [
    {
     "data": {
      "text/plain": [
       "Text(0.5, 1.0, 'Attempted and Earned Hours Multi-Collinearity')"
      ]
     },
     "execution_count": 167,
     "metadata": {},
     "output_type": "execute_result"
    },
    {
     "data": {
      "image/png": "[encoded data removed]",
      "text/plain": [
       "<Figure size 720x432 with 2 Axes>"
      ]
     },
     "metadata": {
      "needs_background": "light"
     },
     "output_type": "display_data"
    }
   ],
   "source": [
    "fig, ax = plt.subplots(figsize=(10,6))\n",
    "sns.heatmap(data[[\"FIRST_TERM_ATTEMPT_HRS\", \"FIRST_TERM_EARNED_HRS\", \"SECOND_TERM_ATTEMPT_HRS\", \"SECOND_TERM_EARNED_HRS\"]].corr(), center=0,cmap='coolwarm')\n",
    "ax.set_title('Attempted and Earned Hours Multi-Collinearity')"
   ]
  },
  {
   "cell_type": "code",
   "execution_count": 168,
   "metadata": {},
   "outputs": [
    {
     "data": {
      "text/plain": [
       "0    0.65\n",
       "1    0.35\n",
       "Name: RETURNED_2ND_YR, dtype: float64"
      ]
     },
     "execution_count": 168,
     "metadata": {},
     "output_type": "execute_result"
    }
   ],
   "source": [
    "low_hours = data.query(\"FIRST_TERM_ATTEMPT_HRS < 13 & FIRST_TERM_EARNED_HRS < 11 & SECOND_TERM_ATTEMPT_HRS < 13 & SECOND_TERM_EARNED_HRS < 11\")\n",
    "low_hours[\"RETURNED_2ND_YR\"].value_counts()/low_hours.shape[0]"
   ]
  },
  {
   "cell_type": "code",
   "execution_count": 169,
   "metadata": {},
   "outputs": [
    {
     "data": {
      "text/plain": [
       "Text(10.049999999999997, 0.5, 'Count')"
      ]
     },
     "execution_count": 169,
     "metadata": {},
     "output_type": "execute_result"
    },
    {
     "data": {
      "image/png": "[encoded data removed]",
      "text/plain": [
       "<Figure size 360x360 with 1 Axes>"
      ]
     },
     "metadata": {
      "needs_background": "light"
     },
     "output_type": "display_data"
    }
   ],
   "source": [
    "sns.catplot(x=\"RETURNED_2ND_YR\",data=low_hours, kind = \"count\")\n",
    "plt.title(\"Count vs RETURNED_2ND_YR for Low Attendance\")\n",
    "plt.ylabel(\"Count\")"
   ]
  },
  {
   "cell_type": "code",
   "execution_count": 170,
   "metadata": {},
   "outputs": [
    {
     "data": {
      "text/plain": [
       "0    0.857143\n",
       "1    0.142857\n",
       "Name: RETURNED_2ND_YR, dtype: float64"
      ]
     },
     "execution_count": 170,
     "metadata": {},
     "output_type": "execute_result"
    }
   ],
   "source": [
    "high_hours = data.query(\"FIRST_TERM_ATTEMPT_HRS > 15 & FIRST_TERM_EARNED_HRS > 15 & SECOND_TERM_ATTEMPT_HRS > 16 & SECOND_TERM_EARNED_HRS > 15\")\n",
    "high_hours[\"RETURNED_2ND_YR\"].value_counts()/high_hours.shape[0]"
   ]
  },
  {
   "cell_type": "code",
   "execution_count": 171,
   "metadata": {},
   "outputs": [
    {
     "data": {
      "text/plain": [
       "Text(10.049999999999997, 0.5, 'Count')"
      ]
     },
     "execution_count": 171,
     "metadata": {},
     "output_type": "execute_result"
    },
    {
     "data": {
      "image/png": "[encoded data removed]",
      "text/plain": [
       "<Figure size 360x360 with 1 Axes>"
      ]
     },
     "metadata": {
      "needs_background": "light"
     },
     "output_type": "display_data"
    }
   ],
   "source": [
    "sns.catplot(x=\"RETURNED_2ND_YR\",data=high_hours, kind = \"count\")\n",
    "plt.title(\"Count vs RETURNED_2ND_YR for High Attendance\")\n",
    "plt.ylabel(\"Count\")"
   ]
  },
  {
   "cell_type": "markdown",
   "metadata": {},
   "source": [
    "Here we can see that students with high attendence rates are significantly less likely to drop out. "
   ]
  },
  {
   "cell_type": "code",
   "execution_count": 172,
   "metadata": {},
   "outputs": [
    {
     "data": {
      "text/plain": [
       "F_onewayResult(statistic=0.00354103965821567, pvalue=0.9525520797783985)"
      ]
     },
     "execution_count": 172,
     "metadata": {},
     "output_type": "execute_result"
    }
   ],
   "source": [
    "#Examining the attrition rate by First Term Attempt Hours\n",
    "left = data.query(\"RETURNED_2ND_YR == 1\")[\"FIRST_TERM_ATTEMPT_HRS\"]\n",
    "stay = data.query(\"RETURNED_2ND_YR == 0\")[\"FIRST_TERM_ATTEMPT_HRS\"]\n",
    "stats.f_oneway(left, stay)"
   ]
  },
  {
   "cell_type": "code",
   "execution_count": 173,
   "metadata": {},
   "outputs": [
    {
     "data": {
      "text/plain": [
       "F_onewayResult(statistic=16.208800137484204, pvalue=5.7968600433273296e-05)"
      ]
     },
     "execution_count": 173,
     "metadata": {},
     "output_type": "execute_result"
    }
   ],
   "source": [
    "#Examining the attrition rate by First Term Earned Hours\n",
    "left = data.query(\"RETURNED_2ND_YR == 1\")[\"FIRST_TERM_EARNED_HRS\"]\n",
    "stay = data.query(\"RETURNED_2ND_YR == 0\")[\"FIRST_TERM_EARNED_HRS\"]\n",
    "stats.f_oneway(left, stay)"
   ]
  },
  {
   "cell_type": "code",
   "execution_count": 174,
   "metadata": {},
   "outputs": [
    {
     "data": {
      "text/plain": [
       "F_onewayResult(statistic=25.531923998470234, pvalue=4.580775099911911e-07)"
      ]
     },
     "execution_count": 174,
     "metadata": {},
     "output_type": "execute_result"
    }
   ],
   "source": [
    "#Examining the attrition rate by Second Term Attempt Hours\n",
    "left = data.query(\"RETURNED_2ND_YR == 1\")[\"SECOND_TERM_ATTEMPT_HRS\"]\n",
    "stay = data.query(\"RETURNED_2ND_YR == 0\")[\"SECOND_TERM_ATTEMPT_HRS\"]\n",
    "stats.f_oneway(left, stay)"
   ]
  },
  {
   "cell_type": "code",
   "execution_count": 175,
   "metadata": {},
   "outputs": [
    {
     "data": {
      "text/plain": [
       "F_onewayResult(statistic=39.6023647578572, pvalue=3.510778346200739e-10)"
      ]
     },
     "execution_count": 175,
     "metadata": {},
     "output_type": "execute_result"
    }
   ],
   "source": [
    "#Examining the attrition rate by Second Term Earned Hours\n",
    "left = data.query(\"RETURNED_2ND_YR == 1\")[\"SECOND_TERM_EARNED_HRS\"]\n",
    "stay = data.query(\"RETURNED_2ND_YR == 0\")[\"SECOND_TERM_EARNED_HRS\"]\n",
    "stats.f_oneway(left, stay)"
   ]
  },
  {
   "cell_type": "markdown",
   "metadata": {},
   "source": [
    "The results show that apart from FIRST_TERM_ATTEMPT_HRS, there is a significant difference in attendance rate between the means of students who drop out versus those who don't."
   ]
  },
  {
   "cell_type": "code",
   "execution_count": null,
   "metadata": {},
   "outputs": [],
   "source": []
  },
  {
   "cell_type": "markdown",
   "metadata": {},
   "source": [
    "#### GROSS_FIN_NEED"
   ]
  },
  {
   "cell_type": "code",
   "execution_count": 176,
   "metadata": {},
   "outputs": [
    {
     "data": {
      "text/plain": [
       "count    3.400000e+03\n",
       "mean     3.034025e+05\n",
       "std      4.836255e+05\n",
       "min      0.000000e+00\n",
       "25%      0.000000e+00\n",
       "50%      0.000000e+00\n",
       "75%      5.995800e+05\n",
       "max      2.124900e+06\n",
       "Name: GROSS_FIN_NEED, dtype: float64"
      ]
     },
     "execution_count": 176,
     "metadata": {},
     "output_type": "execute_result"
    }
   ],
   "source": [
    "data[\"GROSS_FIN_NEED\"].describe()"
   ]
  },
  {
   "cell_type": "code",
   "execution_count": 177,
   "metadata": {},
   "outputs": [
    {
     "data": {
      "text/plain": [
       "<AxesSubplot:xlabel='GROSS_FIN_NEED', ylabel='Count'>"
      ]
     },
     "execution_count": 177,
     "metadata": {},
     "output_type": "execute_result"
    },
    {
     "data": {
      "image/png": "[encoded data removed]",
      "text/plain": [
       "<Figure size 432x288 with 1 Axes>"
      ]
     },
     "metadata": {
      "needs_background": "light"
     },
     "output_type": "display_data"
    }
   ],
   "source": [
    "sns.histplot(x = \"GROSS_FIN_NEED\", data = data)"
   ]
  },
  {
   "cell_type": "code",
   "execution_count": 178,
   "metadata": {},
   "outputs": [
    {
     "data": {
      "text/plain": [
       "F_onewayResult(statistic=0.05789396898787058, pvalue=0.8098706307469362)"
      ]
     },
     "execution_count": 178,
     "metadata": {},
     "output_type": "execute_result"
    }
   ],
   "source": [
    "#Examining the attrition rate by Gross Fin Needed\n",
    "left = data.query(\"RETURNED_2ND_YR == 1\")[\"GROSS_FIN_NEED\"]\n",
    "stay = data.query(\"RETURNED_2ND_YR == 0\")[\"GROSS_FIN_NEED\"]\n",
    "stats.f_oneway(left, stay)"
   ]
  },
  {
   "cell_type": "markdown",
   "metadata": {},
   "source": [
    "The results show that the majority of values for this variable is 0. Additionally, results from the ANOVA test show that this variable is not related to the attrition rate - there is no significant difference between the means for students who drop out versus those who don't."
   ]
  },
  {
   "cell_type": "code",
   "execution_count": null,
   "metadata": {},
   "outputs": [],
   "source": []
  },
  {
   "cell_type": "markdown",
   "metadata": {},
   "source": [
    "#### COST_OF_ATTEND"
   ]
  },
  {
   "cell_type": "code",
   "execution_count": 179,
   "metadata": {},
   "outputs": [
    {
     "data": {
      "text/plain": [
       "count    3.400000e+03\n",
       "mean     5.515335e+05\n",
       "std      6.064403e+05\n",
       "min      0.000000e+00\n",
       "25%      0.000000e+00\n",
       "50%      1.505400e+05\n",
       "75%      1.192815e+06\n",
       "max      2.124900e+06\n",
       "Name: COST_OF_ATTEND, dtype: float64"
      ]
     },
     "execution_count": 179,
     "metadata": {},
     "output_type": "execute_result"
    }
   ],
   "source": [
    "data[\"COST_OF_ATTEND\"].describe()"
   ]
  },
  {
   "cell_type": "code",
   "execution_count": 180,
   "metadata": {},
   "outputs": [
    {
     "data": {
      "text/plain": [
       "<AxesSubplot:xlabel='COST_OF_ATTEND', ylabel='Count'>"
      ]
     },
     "execution_count": 180,
     "metadata": {},
     "output_type": "execute_result"
    },
    {
     "data": {
      "image/png": "[encoded data removed]",
      "text/plain": [
       "<Figure size 432x288 with 1 Axes>"
      ]
     },
     "metadata": {
      "needs_background": "light"
     },
     "output_type": "display_data"
    }
   ],
   "source": [
    "sns.histplot(x = \"COST_OF_ATTEND\", data = data)"
   ]
  },
  {
   "cell_type": "code",
   "execution_count": 181,
   "metadata": {},
   "outputs": [
    {
     "data": {
      "text/plain": [
       "0    0.804706\n",
       "1    0.195294\n",
       "Name: RETURNED_2ND_YR, dtype: float64"
      ]
     },
     "execution_count": 181,
     "metadata": {},
     "output_type": "execute_result"
    }
   ],
   "source": [
    "high_cost_attend = data.query(\"COST_OF_ATTEND > 1192815\")\n",
    "high_cost_attend[\"RETURNED_2ND_YR\"].value_counts()/high_cost_attend.shape[0]"
   ]
  },
  {
   "cell_type": "code",
   "execution_count": 182,
   "metadata": {},
   "outputs": [
    {
     "data": {
      "text/plain": [
       "0    0.793329\n",
       "1    0.206671\n",
       "Name: RETURNED_2ND_YR, dtype: float64"
      ]
     },
     "execution_count": 182,
     "metadata": {},
     "output_type": "execute_result"
    }
   ],
   "source": [
    "low_cost_attend = data.query(\"COST_OF_ATTEND == 0\")\n",
    "low_cost_attend[\"RETURNED_2ND_YR\"].value_counts()/low_cost_attend.shape[0]"
   ]
  },
  {
   "cell_type": "markdown",
   "metadata": {},
   "source": [
    "Majority of values are 0. Additionally, there does not seem to be any change in attrition rates between high and low costs of attending."
   ]
  },
  {
   "cell_type": "code",
   "execution_count": 183,
   "metadata": {},
   "outputs": [
    {
     "data": {
      "text/plain": [
       "F_onewayResult(statistic=0.01561726168987039, pvalue=0.9005554506782609)"
      ]
     },
     "execution_count": 183,
     "metadata": {},
     "output_type": "execute_result"
    }
   ],
   "source": [
    "#Examining the attrition rate by Cost of Attend\n",
    "left = data.query(\"RETURNED_2ND_YR == 1\")[\"COST_OF_ATTEND\"]\n",
    "stay = data.query(\"RETURNED_2ND_YR == 0\")[\"COST_OF_ATTEND\"]\n",
    "stats.f_oneway(left, stay)"
   ]
  },
  {
   "cell_type": "markdown",
   "metadata": {},
   "source": [
    "Results from the ANOVA show that this variable can be dropped. "
   ]
  },
  {
   "cell_type": "code",
   "execution_count": null,
   "metadata": {},
   "outputs": [],
   "source": []
  },
  {
   "cell_type": "markdown",
   "metadata": {},
   "source": [
    "#### EST_FAM_CONTRIBUTION"
   ]
  },
  {
   "cell_type": "code",
   "execution_count": 184,
   "metadata": {},
   "outputs": [
    {
     "data": {
      "text/plain": [
       "count    3.400000e+03\n",
       "mean     3.446899e+05\n",
       "std      7.871878e+05\n",
       "min      0.000000e+00\n",
       "25%      0.000000e+00\n",
       "50%      0.000000e+00\n",
       "75%      3.241800e+05\n",
       "max      5.999940e+06\n",
       "Name: EST_FAM_CONTRIBUTION, dtype: float64"
      ]
     },
     "execution_count": 184,
     "metadata": {},
     "output_type": "execute_result"
    }
   ],
   "source": [
    "data[\"EST_FAM_CONTRIBUTION\"].describe()"
   ]
  },
  {
   "cell_type": "code",
   "execution_count": 185,
   "metadata": {},
   "outputs": [
    {
     "data": {
      "text/plain": [
       "<AxesSubplot:xlabel='EST_FAM_CONTRIBUTION', ylabel='Count'>"
      ]
     },
     "execution_count": 185,
     "metadata": {},
     "output_type": "execute_result"
    },
    {
     "data": {
      "image/png": "[encoded data removed]",
      "text/plain": [
       "<Figure size 432x288 with 1 Axes>"
      ]
     },
     "metadata": {
      "needs_background": "light"
     },
     "output_type": "display_data"
    }
   ],
   "source": [
    "sns.histplot(x = \"EST_FAM_CONTRIBUTION\", data = data)"
   ]
  },
  {
   "cell_type": "code",
   "execution_count": 186,
   "metadata": {},
   "outputs": [
    {
     "data": {
      "text/plain": [
       "0    0.784091\n",
       "1    0.215909\n",
       "Name: RETURNED_2ND_YR, dtype: float64"
      ]
     },
     "execution_count": 186,
     "metadata": {},
     "output_type": "execute_result"
    }
   ],
   "source": [
    "low_contribution = data.query(\"EST_FAM_CONTRIBUTION == 0\")\n",
    "low_contribution[\"RETURNED_2ND_YR\"].value_counts()/low_contribution.shape[0]"
   ]
  },
  {
   "cell_type": "code",
   "execution_count": 187,
   "metadata": {},
   "outputs": [
    {
     "data": {
      "text/plain": [
       "0    0.792702\n",
       "1    0.207298\n",
       "Name: RETURNED_2ND_YR, dtype: float64"
      ]
     },
     "execution_count": 187,
     "metadata": {},
     "output_type": "execute_result"
    }
   ],
   "source": [
    "high_contribution = data.query(\"EST_FAM_CONTRIBUTION > 0\")\n",
    "high_contribution[\"RETURNED_2ND_YR\"].value_counts()/high_contribution.shape[0]"
   ]
  },
  {
   "cell_type": "markdown",
   "metadata": {},
   "source": [
    "Majority of values are 0. No observable difference between attrition rates across different levels. This variable can be dropped."
   ]
  },
  {
   "cell_type": "code",
   "execution_count": 188,
   "metadata": {},
   "outputs": [
    {
     "data": {
      "text/plain": [
       "F_onewayResult(statistic=1.2830986034019383, pvalue=0.2574036165450643)"
      ]
     },
     "execution_count": 188,
     "metadata": {},
     "output_type": "execute_result"
    }
   ],
   "source": [
    "#Examining the attrition rate by Est Fam Contribution\n",
    "left = data.query(\"RETURNED_2ND_YR == 1\")[\"EST_FAM_CONTRIBUTION\"]\n",
    "stay = data.query(\"RETURNED_2ND_YR == 0\")[\"EST_FAM_CONTRIBUTION\"]\n",
    "stats.f_oneway(left, stay)"
   ]
  },
  {
   "cell_type": "markdown",
   "metadata": {},
   "source": [
    "Results from the ANOVA show that this variable can be dropped. "
   ]
  },
  {
   "cell_type": "code",
   "execution_count": null,
   "metadata": {},
   "outputs": [],
   "source": []
  },
  {
   "cell_type": "markdown",
   "metadata": {},
   "source": [
    "#### UNMET_NEED"
   ]
  },
  {
   "cell_type": "code",
   "execution_count": 189,
   "metadata": {},
   "outputs": [
    {
     "data": {
      "text/plain": [
       "count    3.400000e+03\n",
       "mean     7.222052e+04\n",
       "std      2.795679e+05\n",
       "min     -1.212072e+06\n",
       "25%      0.000000e+00\n",
       "50%      0.000000e+00\n",
       "75%      1.876155e+05\n",
       "max      1.632660e+06\n",
       "Name: UNMET_NEED, dtype: float64"
      ]
     },
     "execution_count": 189,
     "metadata": {},
     "output_type": "execute_result"
    }
   ],
   "source": [
    "data[\"UNMET_NEED\"].describe()"
   ]
  },
  {
   "cell_type": "code",
   "execution_count": 190,
   "metadata": {},
   "outputs": [
    {
     "data": {
      "text/plain": [
       "<AxesSubplot:xlabel='UNMET_NEED', ylabel='Count'>"
      ]
     },
     "execution_count": 190,
     "metadata": {},
     "output_type": "execute_result"
    },
    {
     "data": {
      "image/png": "[encoded data removed]",
      "text/plain": [
       "<Figure size 432x288 with 1 Axes>"
      ]
     },
     "metadata": {
      "needs_background": "light"
     },
     "output_type": "display_data"
    }
   ],
   "source": [
    "sns.histplot(x = \"UNMET_NEED\", data = data)"
   ]
  },
  {
   "cell_type": "code",
   "execution_count": 191,
   "metadata": {},
   "outputs": [
    {
     "data": {
      "text/plain": [
       "0    0.776471\n",
       "1    0.223529\n",
       "Name: RETURNED_2ND_YR, dtype: float64"
      ]
     },
     "execution_count": 191,
     "metadata": {},
     "output_type": "execute_result"
    }
   ],
   "source": [
    "unmet_high = data.query(\"UNMET_NEED > 187615\")\n",
    "unmet_high[\"RETURNED_2ND_YR\"].value_counts()/unmet_high.shape[0]"
   ]
  },
  {
   "cell_type": "code",
   "execution_count": 192,
   "metadata": {},
   "outputs": [
    {
     "data": {
      "text/plain": [
       "0    0.790521\n",
       "1    0.209479\n",
       "Name: RETURNED_2ND_YR, dtype: float64"
      ]
     },
     "execution_count": 192,
     "metadata": {},
     "output_type": "execute_result"
    }
   ],
   "source": [
    "unmet_low = data.query(\"UNMET_NEED <= 0\")\n",
    "unmet_low[\"RETURNED_2ND_YR\"].value_counts()/unmet_low.shape[0]"
   ]
  },
  {
   "cell_type": "markdown",
   "metadata": {},
   "source": [
    "No observable difference. This variable can be dropped. Additionally, there exist negative values which cannot be accounted for. Simply imputing them for the median or other values may lose some intrinsic value. "
   ]
  },
  {
   "cell_type": "code",
   "execution_count": 193,
   "metadata": {},
   "outputs": [
    {
     "data": {
      "text/plain": [
       "F_onewayResult(statistic=4.006746688664832, pvalue=0.04539787970096459)"
      ]
     },
     "execution_count": 193,
     "metadata": {},
     "output_type": "execute_result"
    }
   ],
   "source": [
    "#Examining the attrition rate byUnMet Need\n",
    "left = data.query(\"RETURNED_2ND_YR == 1\")[\"UNMET_NEED\"]\n",
    "stay = data.query(\"RETURNED_2ND_YR == 0\")[\"UNMET_NEED\"]\n",
    "stats.f_oneway(left, stay)"
   ]
  },
  {
   "cell_type": "markdown",
   "metadata": {},
   "source": [
    "The model will be ran with and without this variable - results will be noted. Better performing models will be chosen."
   ]
  },
  {
   "cell_type": "code",
   "execution_count": null,
   "metadata": {},
   "outputs": [],
   "source": []
  },
  {
   "cell_type": "code",
   "execution_count": 194,
   "metadata": {},
   "outputs": [],
   "source": [
    "#Separating independent variable from dependent variables\n",
    "X = pd.get_dummies(data.drop(\"RETURNED_2ND_YR\", axis = 1))\n",
    "y = data[\"RETURNED_2ND_YR\"]"
   ]
  },
  {
   "cell_type": "code",
   "execution_count": 195,
   "metadata": {},
   "outputs": [
    {
     "data": {
      "text/plain": [
       "(3400, 46)"
      ]
     },
     "execution_count": 195,
     "metadata": {},
     "output_type": "execute_result"
    }
   ],
   "source": [
    "X.shape"
   ]
  },
  {
   "cell_type": "code",
   "execution_count": 196,
   "metadata": {},
   "outputs": [
    {
     "data": {
      "text/plain": [
       "(3400,)"
      ]
     },
     "execution_count": 196,
     "metadata": {},
     "output_type": "execute_result"
    }
   ],
   "source": [
    "y.shape"
   ]
  },
  {
   "cell_type": "code",
   "execution_count": 197,
   "metadata": {},
   "outputs": [],
   "source": [
    "#Split datasets into training and test\n",
    "from sklearn.model_selection import train_test_split\n",
    "X_train, X_test, y_train, y_test = train_test_split(X,y,test_size = 0.2, random_state = 1)"
   ]
  },
  {
   "cell_type": "code",
   "execution_count": 198,
   "metadata": {},
   "outputs": [],
   "source": [
    "#Build model\n",
    "#NOTE: This final model was produced as the result of multiple iterations of model building\n",
    "#including different variables, buckets and model types. This model had the best results.\n",
    "from sklearn.ensemble import GradientBoostingClassifier, AdaBoostClassifier"
   ]
  },
  {
   "cell_type": "code",
   "execution_count": 199,
   "metadata": {},
   "outputs": [],
   "source": [
    "#When loss = exponential, model uses Ada Boost Classifier\n",
    "gb = GradientBoostingClassifier()"
   ]
  },
  {
   "cell_type": "code",
   "execution_count": 200,
   "metadata": {},
   "outputs": [],
   "source": [
    "from sklearn.model_selection import GridSearchCV"
   ]
  },
  {
   "cell_type": "code",
   "execution_count": 201,
   "metadata": {},
   "outputs": [
    {
     "data": {
      "text/plain": [
       "GridSearchCV(estimator=GradientBoostingClassifier(),\n",
       "             param_grid={'n_estimators': [10, 20, 30, 40, 50, 60, 70, 80, 90,\n",
       "                                          100, 110, 120, 130, 140, 150, 160,\n",
       "                                          170, 180, 190, 200]})"
      ]
     },
     "execution_count": 201,
     "metadata": {},
     "output_type": "execute_result"
    }
   ],
   "source": [
    "model = GridSearchCV(gb, param_grid = {\"n_estimators\": [10,20,30,40,50,60,70,80,90,100,110,120,130,140,150,160,170,180,190,200]})\n",
    "model.fit(X_train, y_train)"
   ]
  },
  {
   "cell_type": "code",
   "execution_count": 202,
   "metadata": {},
   "outputs": [
    {
     "data": {
      "text/plain": [
       "GradientBoostingClassifier(n_estimators=40)"
      ]
     },
     "execution_count": 202,
     "metadata": {},
     "output_type": "execute_result"
    }
   ],
   "source": [
    "gbc = model.best_estimator_\n",
    "gbc"
   ]
  },
  {
   "cell_type": "code",
   "execution_count": 203,
   "metadata": {},
   "outputs": [
    {
     "data": {
      "text/plain": [
       "0.85"
      ]
     },
     "execution_count": 203,
     "metadata": {},
     "output_type": "execute_result"
    }
   ],
   "source": [
    "gbc.score(X_test, y_test)"
   ]
  },
  {
   "cell_type": "code",
   "execution_count": 204,
   "metadata": {},
   "outputs": [
    {
     "data": {
      "text/plain": [
       "0.7453706293706294"
      ]
     },
     "execution_count": 204,
     "metadata": {},
     "output_type": "execute_result"
    }
   ],
   "source": [
    "#Area under the curve\n",
    "from sklearn.metrics import roc_auc_score\n",
    "roc_auc_score(y_test, gbc.predict_proba(X_test)[:,1])"
   ]
  },
  {
   "cell_type": "code",
   "execution_count": 205,
   "metadata": {},
   "outputs": [
    {
     "data": {
      "text/plain": [
       "CORE_COURSE_GRADE_1_S_F&OTHER         0.394151\n",
       "SECOND_TERM_EARNED_HRS                0.164998\n",
       "SECOND_TERM_ATTEMPT_HRS               0.161406\n",
       "DISTANCE_FROM_HOME                    0.037784\n",
       "FIRST_TERM_EARNED_HRS                 0.036101\n",
       "UNMET_NEED                            0.032484\n",
       "HIGH_SCHL_GPA                         0.019773\n",
       "CORE_COURSE_GRADE_1_S_D               0.013798\n",
       "INTERNATIONAL_STS                     0.013310\n",
       "COST_OF_ATTEND                        0.012642\n",
       "STDNT_BACKGROUND_BGD 1                0.010697\n",
       "GROSS_FIN_NEED                        0.010671\n",
       "CORE_COURSE_GRADE_2_F_B               0.009697\n",
       "STDNT_GENDER                          0.008320\n",
       "CORE_COURSE_GRADE_1_F_D               0.007948\n",
       "STDNT_MAJOR_MS                        0.007943\n",
       "HOUSING_STS                           0.007024\n",
       "CORE_COURSE_GRADE_1_S_B               0.007016\n",
       "CORE_COURSE_GRADE_1_F_B               0.005942\n",
       "EST_FAM_CONTRIBUTION                  0.005051\n",
       "CORE_COURSE_GRADE_1_F_C               0.004968\n",
       "IN_STATE_FLAG                         0.004623\n",
       "STDNT_BACKGROUND_OTHER                0.003962\n",
       "CORE_COURSE_GRADE_2_F_C               0.003905\n",
       "CORE_COURSE_GRADE_1_F_F&OTHER         0.003399\n",
       "STDNT_MAJOR_BMS                       0.003160\n",
       "STDNT_MAJOR_EDU                       0.002648\n",
       "STDNT_MAJOR_Undeclared                0.001767\n",
       "CORE_COURSE_GRADE_2_F_D               0.001372\n",
       "STDNT_AGE                             0.001117\n",
       "CORE_COURSE_GRADE_2_F_F&OTHER         0.000865\n",
       "STDNT_MAJOR_EAL                       0.000780\n",
       "FIRST_TERM_ATTEMPT_HRS                0.000681\n",
       "DEGREE_GROUP_DESC_Career Associate    0.000000\n",
       "DEGREE_GROUP_DESC_Bachelors           0.000000\n",
       "CORE_COURSE_GRADE_2_F_A               0.000000\n",
       "CORE_COURSE_GRADE_1_S_A               0.000000\n",
       "CORE_COURSE_GRADE_1_S_C               0.000000\n",
       "FATHER_HI_EDU_DESC_College/Beyond     0.000000\n",
       "FATHER_HI_EDU_DESC_High School        0.000000\n",
       "FATHER_HI_EDU_DESC_OTHER              0.000000\n",
       "MOTHER_HI_EDU_DESC_College/Beyond     0.000000\n",
       "MOTHER_HI_EDU_DESC_High School        0.000000\n",
       "MOTHER_HI_EDU_DESC_OTHER              0.000000\n",
       "DEGREE_GROUP_DESC_Associate           0.000000\n",
       "CORE_COURSE_GRADE_1_F_A               0.000000\n",
       "dtype: float64"
      ]
     },
     "execution_count": 205,
     "metadata": {},
     "output_type": "execute_result"
    }
   ],
   "source": [
    "pd.Series(gbc.feature_importances_, index = X_train.columns).sort_values(ascending = False)"
   ]
  },
  {
   "cell_type": "code",
   "execution_count": null,
   "metadata": {},
   "outputs": [],
   "source": []
  },
  {
   "cell_type": "code",
   "execution_count": null,
   "metadata": {},
   "outputs": [],
   "source": []
  },
  {
   "cell_type": "code",
   "execution_count": null,
   "metadata": {},
   "outputs": [],
   "source": []
  },
  {
   "cell_type": "code",
   "execution_count": null,
   "metadata": {},
   "outputs": [],
   "source": []
  },
  {
   "cell_type": "code",
   "execution_count": null,
   "metadata": {},
   "outputs": [],
   "source": []
  },
  {
   "cell_type": "code",
   "execution_count": null,
   "metadata": {},
   "outputs": [],
   "source": []
  },
  {
   "cell_type": "code",
   "execution_count": null,
   "metadata": {},
   "outputs": [],
   "source": []
  },
  {
   "cell_type": "code",
   "execution_count": null,
   "metadata": {},
   "outputs": [],
   "source": []
  },
  {
   "cell_type": "code",
   "execution_count": null,
   "metadata": {},
   "outputs": [],
   "source": []
  },
  {
   "cell_type": "code",
   "execution_count": null,
   "metadata": {},
   "outputs": [],
   "source": []
  },
  {
   "cell_type": "code",
   "execution_count": null,
   "metadata": {},
   "outputs": [],
   "source": []
  },
  {
   "cell_type": "code",
   "execution_count": null,
   "metadata": {},
   "outputs": [],
   "source": []
  },
  {
   "cell_type": "code",
   "execution_count": null,
   "metadata": {},
   "outputs": [],
   "source": []
  },
  {
   "cell_type": "code",
   "execution_count": null,
   "metadata": {},
   "outputs": [],
   "source": []
  },
  {
   "cell_type": "code",
   "execution_count": null,
   "metadata": {},
   "outputs": [],
   "source": []
  },
  {
   "cell_type": "code",
   "execution_count": null,
   "metadata": {},
   "outputs": [],
   "source": []
  },
  {
   "cell_type": "code",
   "execution_count": null,
   "metadata": {},
   "outputs": [],
   "source": []
  },
  {
   "cell_type": "code",
   "execution_count": null,
   "metadata": {},
   "outputs": [],
   "source": []
  },
  {
   "cell_type": "code",
   "execution_count": null,
   "metadata": {},
   "outputs": [],
   "source": []
  },
  {
   "cell_type": "code",
   "execution_count": null,
   "metadata": {},
   "outputs": [],
   "source": []
  },
  {
   "cell_type": "code",
   "execution_count": null,
   "metadata": {},
   "outputs": [],
   "source": []
  },
  {
   "cell_type": "code",
   "execution_count": null,
   "metadata": {},
   "outputs": [],
   "source": []
  },
  {
   "cell_type": "code",
   "execution_count": null,
   "metadata": {},
   "outputs": [],
   "source": []
  },
  {
   "cell_type": "code",
   "execution_count": null,
   "metadata": {},
   "outputs": [],
   "source": []
  },
  {
   "cell_type": "code",
   "execution_count": null,
   "metadata": {},
   "outputs": [],
   "source": []
  },
  {
   "cell_type": "code",
   "execution_count": null,
   "metadata": {},
   "outputs": [],
   "source": []
  },
  {
   "cell_type": "code",
   "execution_count": null,
   "metadata": {},
   "outputs": [],
   "source": []
  },
  {
   "cell_type": "code",
   "execution_count": null,
   "metadata": {},
   "outputs": [],
   "source": []
  },
  {
   "cell_type": "code",
   "execution_count": null,
   "metadata": {},
   "outputs": [],
   "source": []
  },
  {
   "cell_type": "code",
   "execution_count": null,
   "metadata": {},
   "outputs": [],
   "source": []
  },
  {
   "cell_type": "code",
   "execution_count": null,
   "metadata": {},
   "outputs": [],
   "source": []
  },
  {
   "cell_type": "code",
   "execution_count": null,
   "metadata": {},
   "outputs": [],
   "source": []
  }
 ],
 "metadata": {
  "kernelspec": {
   "display_name": "Python 3",
   "language": "python",
   "name": "python3"
  },
  "language_info": {
   "codemirror_mode": {
    "name": "ipython",
    "version": 3
   },
   "file_extension": ".py",
   "mimetype": "text/x-python",
   "name": "python",
   "nbconvert_exporter": "python",
   "pygments_lexer": "ipython3",
   "version": "3.8.8"
  }
 },
 "nbformat": 4,
 "nbformat_minor": 4
}
